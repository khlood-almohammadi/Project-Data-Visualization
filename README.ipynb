{
 "cells": [
  {
   "cell_type": "markdown",
   "metadata": {},
   "source": [
    "![](P1.png)"
   ]
  },
  {
   "cell_type": "markdown",
   "metadata": {},
   "source": [
    ">This project is divided into two main parts. In the first part, we will conduct an exploratory analysis of the data on a dataset of our choice. We will use the Python Libraries for Data Science and Data Visualization to explore data set variants and understand data structures, anomalies, patterns and relationships. The analysis in this part should be structured,\n",
    "\n",
    "In the second part, we will take the main findings from our exploration and pass them on to others through an explanatory analysis. To that end, we'll create a slide deck that uses polished illustrations to communicate our results. This part of the project should use extensively the first part of the project. Define one or two main paths in our exploration, choose relevant visualizations along that path, then refine them to create a story for our readers to understand what we found."
   ]
  },
  {
   "cell_type": "markdown",
   "metadata": {},
   "source": [
    "## Step 1: Choose The Dataset \n",
    "\n",
    "First, we understand what is required in the project:\n",
    "The project talks about a set of data on a specific topic that is cleaned and analyzed and a set of questions, statistics and conclusions are issued regarding it.\n",
    "\n",
    "\"\" Download the Dataset Options file for full details & descriptions from the Resources Tab.\n",
    "\n",
    "    Click on Resources in the leftmost panel of our classroom\n",
    "    Click the File Name to start download\"\"\n",
    "\n",
    "The data in the Flights topic has been selected from the following site:\n",
    "- [Google Doc Download](https://docs.google.com/document/d/e/2PACX-1vQmkX4iOT6Rcrin42vslquX2_wQCjIa_hbwD0xmxrERPSOJYDtpNc_3wwK_p9_KpOsfA6QVyEHdxxq7/pub?embedded=True)\n",
    "- [Data Flights](http://stat-computing.org/dataexpo/2009/the-data.html)"
   ]
  },
  {
   "cell_type": "markdown",
   "metadata": {},
   "source": [
    "---\n",
    "---"
   ]
  },
  {
   "cell_type": "markdown",
   "metadata": {},
   "source": [
    "## The most important points and conclusions drawn from the data : "
   ]
  },
  {
   "cell_type": "markdown",
   "metadata": {},
   "source": [
    "### What are the years in which the number of trips increased ?"
   ]
  },
  {
   "cell_type": "markdown",
   "metadata": {},
   "source": [
    "![](11.png)"
   ]
  },
  {
   "cell_type": "markdown",
   "metadata": {},
   "source": [
    "1) We note that the trips began in 1976\n",
    "\n",
    "2) Data recorded from 1976 to 2008\n",
    "\n",
    "3) The most active year in air travel is 2004, when 454 different flights were witnessed\n",
    "\n",
    "4) Compared to the years of the millennium, 1999 and 1998 were good years with significant air    traffic activity\n",
    "\n",
    "5) Relative to the increase in the aviation industry, we notice a direct change in the number of years and an increase in flights.\n",
    "\n",
    "6) The percentage of activity witnessed in 2004 = 10%, and it was an increase of 3% over the year 2007"
   ]
  },
  {
   "cell_type": "markdown",
   "metadata": {},
   "source": [
    "## What are the most effective months for trips?"
   ]
  },
  {
   "cell_type": "markdown",
   "metadata": {},
   "source": [
    "![](22.png)"
   ]
  },
  {
   "cell_type": "markdown",
   "metadata": {},
   "source": [
    "For more in-depth study, we will explore the months, and note through the graph that November 1999 is the lowest month for flights\n",
    "\n",
    "On the other hand, December 1999 was the month that witnessed the largest increase in flight activity, with approximately 53 flights for different airlines, and July of 1998 was in second place if it contained 39 flights for various airlines, We note here that the difference = 14 flights. The increase is recorded here for the month of December 1999\n",
    "  December 1986 also witnessed excellent activity, if it recorded 38 flights, which is considered a very good number since it is in 80's"
   ]
  },
  {
   "cell_type": "markdown",
   "metadata": {},
   "source": [
    "## What are the most powerful companies in the aviation industry?"
   ]
  },
  {
   "cell_type": "markdown",
   "metadata": {},
   "source": [
    "![](33.png)"
   ]
  },
  {
   "cell_type": "markdown",
   "metadata": {},
   "source": [
    "\n",
    "At the level of the two decades, the most active company is BOEING, where there are about 2025 in its records, starting from 1984-2008, which is a total of 49% of all the remaining flights for the different companies in that period of time.\n",
    "In second place is EMBRAER, with a rate of 14%, it recorded 568 different flights in its balance from 1993 to 2008."
   ]
  },
  {
   "cell_type": "markdown",
   "metadata": {},
   "source": [
    " ## 1) What was the most popular type 1976-2008?\n",
    " \n",
    " |Corporation|Individual|Foreign Corporation|Co-Owner |Partnership|\n",
    "|---|---|---|--- |---|\n",
    "| 4397| 19| 10 | 5 | 1|"
   ]
  },
  {
   "cell_type": "markdown",
   "metadata": {},
   "source": [
    "## 2) What is the most common type 1976-2000?\n",
    "\n",
    "|Corporation|Individual|Co-Owner |Partnership|\n",
    "|---|---|---|--- |\n",
    "| 1580| 13| 10 | 4 |"
   ]
  },
  {
   "cell_type": "markdown",
   "metadata": {},
   "source": [
    "## 3) What is the most common type 2000-2001?\n",
    "\n",
    "|Corporation|Individual|Foreign Corporation|Co-Owner |Partnership|\n",
    "|---|---|---|--- |---|\n",
    "| 2717| 6| 10 | 1 | 1|"
   ]
  },
  {
   "cell_type": "markdown",
   "metadata": {},
   "source": [
    "# Perceptions:\n",
    "We note that it is natural that the corporation is the most common type because it serves a very large category and is effective for government, private, commercial or industrial operations."
   ]
  },
  {
   "cell_type": "markdown",
   "metadata": {},
   "source": [
    "## What are the strongest manufacturers of the Corporation type in 1976-2008 ?!"
   ]
  },
  {
   "cell_type": "markdown",
   "metadata": {},
   "source": [
    "![](44.png)"
   ]
  },
  {
   "cell_type": "markdown",
   "metadata": {},
   "source": [
    "\n",
    "## Conclusions:\n",
    "\n",
    "1) One of the emerging and successful veteran companies is BOEING, 2023 was recorded in its balance, based on current data, 47% of trips belong to BOEING\n",
    "\n",
    "2) The second largest airline is EMBRAER with 13% of total flights, with a class of 569\n",
    "\n",
    "3) The third largest airline is BOMBARDIER INC with 12%, with a score of 517"
   ]
  },
  {
   "cell_type": "markdown",
   "metadata": {},
   "source": [
    "## Comparison of Demand for Engine Types in the \"Pre-2000 and Post-2000\" Periods :"
   ]
  },
  {
   "cell_type": "markdown",
   "metadata": {},
   "source": [
    "![](55.png)"
   ]
  },
  {
   "cell_type": "markdown",
   "metadata": {},
   "source": [
    "1) We notice from the graphical visualization the industrial jump in the engine industry in the period before the year 2000 and after the year 2000,\n",
    "\n",
    "2) We note that there is a high demand for the Turbo-Fan, with a difference of 1070 applications in recent years Meaning that the increase was by 45%.\n",
    "\n",
    "3)There is a 17% increase in demand for the Turbo-Jet engine\n",
    "\n",
    "4) 0,8% downturn in Turbo-Prop engine demand\n",
    "\n",
    "5) 0,2% downturn in Reciprocating engine demand"
   ]
  },
  {
   "cell_type": "markdown",
   "metadata": {},
   "source": [
    "---\n",
    "---"
   ]
  },
  {
   "cell_type": "markdown",
   "metadata": {},
   "source": [
    "### References"
   ]
  },
  {
   "cell_type": "markdown",
   "metadata": {},
   "source": [
    "- [unitingaviation](https://unitingaviation.com/news/economic-development/aviation-benefits-for-a-better-future/)\n",
    "- [wikipedia](https://en.wikipedia.org/wiki/Turbojet)"
   ]
  }
 ],
 "metadata": {
  "hide_input": false,
  "kernelspec": {
   "display_name": "Python 3",
   "language": "python",
   "name": "python3"
  },
  "language_info": {
   "codemirror_mode": {
    "name": "ipython",
    "version": 3
   },
   "file_extension": ".py",
   "mimetype": "text/x-python",
   "name": "python",
   "nbconvert_exporter": "python",
   "pygments_lexer": "ipython3",
   "version": "3.8.5"
  }
 },
 "nbformat": 4,
 "nbformat_minor": 4
}
