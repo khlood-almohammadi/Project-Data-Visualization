{
 "cells": [
  {
   "cell_type": "markdown",
   "metadata": {},
   "source": [
    "![](PL2.jpg)"
   ]
  },
  {
   "cell_type": "markdown",
   "metadata": {},
   "source": [
    "  >An airplane or aeroplane (informally plane) is a powered, fixed-wing aircraft that is propelled forward by thrust from a jet engine, propeller or rocket engine. Airplanes come in a variety of sizes, shapes, and wing configurations. The broad spectrum of uses for airplanes includes recreation, transportation of goods and people, military, and research. Worldwide, commercial aviation transports more than four billion passengers annually on airliners[1] and transports more than 200 billion tonne-kilometers[2] of cargo annually, which is less than 1% of the world's cargo movement.[3] Most airplanes are flown by a pilot on board the aircraft, but some are designed to be remotely or computer-controlled such as drones."
   ]
  },
  {
   "cell_type": "markdown",
   "metadata": {},
   "source": [
    "# Preliminary Wrangling: "
   ]
  },
  {
   "cell_type": "markdown",
   "metadata": {},
   "source": [
    "## 1) Data Wrangling "
   ]
  },
  {
   "cell_type": "code",
   "execution_count": 2,
   "metadata": {},
   "outputs": [],
   "source": [
    "#Request the necessary libraries\n",
    "\n",
    "import pandas as pd\n",
    "import numpy as np\n",
    "import seaborn as sns\n",
    "from scipy.stats import norm\n",
    "\n",
    "import matplotlib.pyplot as plt\n",
    "%matplotlib inline\n",
    "%reload_ext autoreload\n",
    "%autoreload 2"
   ]
  },
  {
   "cell_type": "code",
   "execution_count": 3,
   "metadata": {},
   "outputs": [
    {
     "data": {
      "text/html": [
       "<div>\n",
       "<style scoped>\n",
       "    .dataframe tbody tr th:only-of-type {\n",
       "        vertical-align: middle;\n",
       "    }\n",
       "\n",
       "    .dataframe tbody tr th {\n",
       "        vertical-align: top;\n",
       "    }\n",
       "\n",
       "    .dataframe thead th {\n",
       "        text-align: right;\n",
       "    }\n",
       "</style>\n",
       "<table border=\"1\" class=\"dataframe\">\n",
       "  <thead>\n",
       "    <tr style=\"text-align: right;\">\n",
       "      <th></th>\n",
       "      <th>tailnum</th>\n",
       "      <th>type</th>\n",
       "      <th>manufacturer</th>\n",
       "      <th>issue_date</th>\n",
       "      <th>model</th>\n",
       "      <th>status</th>\n",
       "      <th>aircraft_type</th>\n",
       "      <th>engine_type</th>\n",
       "      <th>year</th>\n",
       "    </tr>\n",
       "  </thead>\n",
       "  <tbody>\n",
       "    <tr>\n",
       "      <th>0</th>\n",
       "      <td>N050AA</td>\n",
       "      <td>NaN</td>\n",
       "      <td>NaN</td>\n",
       "      <td>NaN</td>\n",
       "      <td>NaN</td>\n",
       "      <td>NaN</td>\n",
       "      <td>NaN</td>\n",
       "      <td>NaN</td>\n",
       "      <td>NaN</td>\n",
       "    </tr>\n",
       "    <tr>\n",
       "      <th>1</th>\n",
       "      <td>N051AA</td>\n",
       "      <td>NaN</td>\n",
       "      <td>NaN</td>\n",
       "      <td>NaN</td>\n",
       "      <td>NaN</td>\n",
       "      <td>NaN</td>\n",
       "      <td>NaN</td>\n",
       "      <td>NaN</td>\n",
       "      <td>NaN</td>\n",
       "    </tr>\n",
       "    <tr>\n",
       "      <th>2</th>\n",
       "      <td>N052AA</td>\n",
       "      <td>NaN</td>\n",
       "      <td>NaN</td>\n",
       "      <td>NaN</td>\n",
       "      <td>NaN</td>\n",
       "      <td>NaN</td>\n",
       "      <td>NaN</td>\n",
       "      <td>NaN</td>\n",
       "      <td>NaN</td>\n",
       "    </tr>\n",
       "    <tr>\n",
       "      <th>3</th>\n",
       "      <td>N054AA</td>\n",
       "      <td>NaN</td>\n",
       "      <td>NaN</td>\n",
       "      <td>NaN</td>\n",
       "      <td>NaN</td>\n",
       "      <td>NaN</td>\n",
       "      <td>NaN</td>\n",
       "      <td>NaN</td>\n",
       "      <td>NaN</td>\n",
       "    </tr>\n",
       "    <tr>\n",
       "      <th>4</th>\n",
       "      <td>N055AA</td>\n",
       "      <td>NaN</td>\n",
       "      <td>NaN</td>\n",
       "      <td>NaN</td>\n",
       "      <td>NaN</td>\n",
       "      <td>NaN</td>\n",
       "      <td>NaN</td>\n",
       "      <td>NaN</td>\n",
       "      <td>NaN</td>\n",
       "    </tr>\n",
       "  </tbody>\n",
       "</table>\n",
       "</div>"
      ],
      "text/plain": [
       "  tailnum type manufacturer issue_date model status aircraft_type engine_type  \\\n",
       "0  N050AA  NaN          NaN        NaN   NaN    NaN           NaN         NaN   \n",
       "1  N051AA  NaN          NaN        NaN   NaN    NaN           NaN         NaN   \n",
       "2  N052AA  NaN          NaN        NaN   NaN    NaN           NaN         NaN   \n",
       "3  N054AA  NaN          NaN        NaN   NaN    NaN           NaN         NaN   \n",
       "4  N055AA  NaN          NaN        NaN   NaN    NaN           NaN         NaN   \n",
       "\n",
       "  year  \n",
       "0  NaN  \n",
       "1  NaN  \n",
       "2  NaN  \n",
       "3  NaN  \n",
       "4  NaN  "
      ]
     },
     "execution_count": 3,
     "metadata": {},
     "output_type": "execute_result"
    }
   ],
   "source": [
    "data = pd.read_csv('plane-data.csv')\n",
    "data.head()"
   ]
  },
  {
   "cell_type": "code",
   "execution_count": 4,
   "metadata": {},
   "outputs": [
    {
     "data": {
      "text/plain": [
       "(5029, 9)"
      ]
     },
     "execution_count": 4,
     "metadata": {},
     "output_type": "execute_result"
    }
   ],
   "source": [
    "\n",
    "data.shape"
   ]
  },
  {
   "cell_type": "code",
   "execution_count": 5,
   "metadata": {},
   "outputs": [
    {
     "data": {
      "text/plain": [
       "Index(['tailnum', 'type', 'manufacturer', 'issue_date', 'model', 'status',\n",
       "       'aircraft_type', 'engine_type', 'year'],\n",
       "      dtype='object')"
      ]
     },
     "execution_count": 5,
     "metadata": {},
     "output_type": "execute_result"
    }
   ],
   "source": [
    "#Browse columns:\n",
    "data.columns"
   ]
  },
  {
   "cell_type": "code",
   "execution_count": 6,
   "metadata": {},
   "outputs": [
    {
     "name": "stdout",
     "output_type": "stream",
     "text": [
      "<class 'pandas.core.frame.DataFrame'>\n",
      "RangeIndex: 5029 entries, 0 to 5028\n",
      "Data columns (total 9 columns):\n",
      " #   Column         Non-Null Count  Dtype \n",
      "---  ------         --------------  ----- \n",
      " 0   tailnum        5029 non-null   object\n",
      " 1   type           4480 non-null   object\n",
      " 2   manufacturer   4480 non-null   object\n",
      " 3   issue_date     4480 non-null   object\n",
      " 4   model          4480 non-null   object\n",
      " 5   status         4480 non-null   object\n",
      " 6   aircraft_type  4480 non-null   object\n",
      " 7   engine_type    4480 non-null   object\n",
      " 8   year           4480 non-null   object\n",
      "dtypes: object(9)\n",
      "memory usage: 353.7+ KB\n"
     ]
    }
   ],
   "source": [
    "#Find if the data contains missing values or not\n",
    "data.info()"
   ]
  },
  {
   "cell_type": "code",
   "execution_count": 7,
   "metadata": {},
   "outputs": [
    {
     "data": {
      "image/png": "[encoded data removed]",
      "text/plain": [
       "<Figure size 864x432 with 2 Axes>"
      ]
     },
     "metadata": {
      "needs_background": "light"
     },
     "output_type": "display_data"
    }
   ],
   "source": [
    "#Find missing data in columns through graphical visualization\n",
    "plt.figure(figsize=(12,6))\n",
    "sns.heatmap(data.isnull(),yticklabels=False);"
   ]
  },
  {
   "cell_type": "code",
   "execution_count": 8,
   "metadata": {},
   "outputs": [
    {
     "data": {
      "text/plain": [
       "tailnum            0\n",
       "type             549\n",
       "manufacturer     549\n",
       "issue_date       549\n",
       "model            549\n",
       "status           549\n",
       "aircraft_type    549\n",
       "engine_type      549\n",
       "year             549\n",
       "dtype: int64"
      ]
     },
     "execution_count": 8,
     "metadata": {},
     "output_type": "execute_result"
    }
   ],
   "source": [
    "data.isnull().sum()"
   ]
  },
  {
   "cell_type": "code",
   "execution_count": 9,
   "metadata": {},
   "outputs": [
    {
     "data": {
      "text/plain": [
       "0"
      ]
     },
     "execution_count": 9,
     "metadata": {},
     "output_type": "execute_result"
    }
   ],
   "source": [
    "#Find if your data contains duplicate values\n",
    "data.tailnum.duplicated().sum()"
   ]
  },
  {
   "cell_type": "code",
   "execution_count": 10,
   "metadata": {},
   "outputs": [
    {
     "data": {
      "text/plain": [
       "tailnum          0\n",
       "type             0\n",
       "manufacturer     0\n",
       "issue_date       0\n",
       "model            0\n",
       "status           0\n",
       "aircraft_type    0\n",
       "engine_type      0\n",
       "year             0\n",
       "dtype: int64"
      ]
     },
     "execution_count": 10,
     "metadata": {},
     "output_type": "execute_result"
    }
   ],
   "source": [
    "#Delete a value \"None\"\n",
    "\n",
    "data = data.replace(to_replace='None', value=np.nan).dropna()\n",
    "data.isnull().sum()\n"
   ]
  },
  {
   "cell_type": "code",
   "execution_count": 11,
   "metadata": {},
   "outputs": [
    {
     "data": {
      "text/plain": [
       "(4332, 9)"
      ]
     },
     "execution_count": 11,
     "metadata": {},
     "output_type": "execute_result"
    }
   ],
   "source": [
    "data.shape"
   ]
  },
  {
   "cell_type": "code",
   "execution_count": 12,
   "metadata": {},
   "outputs": [
    {
     "name": "stdout",
     "output_type": "stream",
     "text": [
      "<class 'pandas.core.frame.DataFrame'>\n",
      "Int64Index: 4332 entries, 34 to 5028\n",
      "Data columns (total 9 columns):\n",
      " #   Column         Non-Null Count  Dtype \n",
      "---  ------         --------------  ----- \n",
      " 0   tailnum        4332 non-null   object\n",
      " 1   type           4332 non-null   object\n",
      " 2   manufacturer   4332 non-null   object\n",
      " 3   issue_date     4332 non-null   object\n",
      " 4   model          4332 non-null   object\n",
      " 5   status         4332 non-null   object\n",
      " 6   aircraft_type  4332 non-null   object\n",
      " 7   engine_type    4332 non-null   object\n",
      " 8   year           4332 non-null   object\n",
      "dtypes: object(9)\n",
      "memory usage: 338.4+ KB\n"
     ]
    }
   ],
   "source": [
    "data.info()"
   ]
  },
  {
   "cell_type": "code",
   "execution_count": 13,
   "metadata": {},
   "outputs": [
    {
     "data": {
      "text/html": [
       "<div>\n",
       "<style scoped>\n",
       "    .dataframe tbody tr th:only-of-type {\n",
       "        vertical-align: middle;\n",
       "    }\n",
       "\n",
       "    .dataframe tbody tr th {\n",
       "        vertical-align: top;\n",
       "    }\n",
       "\n",
       "    .dataframe thead th {\n",
       "        text-align: right;\n",
       "    }\n",
       "</style>\n",
       "<table border=\"1\" class=\"dataframe\">\n",
       "  <thead>\n",
       "    <tr style=\"text-align: right;\">\n",
       "      <th></th>\n",
       "      <th>tailnum</th>\n",
       "      <th>type</th>\n",
       "      <th>manufacturer</th>\n",
       "      <th>issue_date</th>\n",
       "      <th>model</th>\n",
       "      <th>status</th>\n",
       "      <th>aircraft_type</th>\n",
       "      <th>engine_type</th>\n",
       "      <th>year</th>\n",
       "    </tr>\n",
       "  </thead>\n",
       "  <tbody>\n",
       "    <tr>\n",
       "      <th>34</th>\n",
       "      <td>N10156</td>\n",
       "      <td>Corporation</td>\n",
       "      <td>EMBRAER</td>\n",
       "      <td>02/13/2004</td>\n",
       "      <td>EMB-145XR</td>\n",
       "      <td>Valid</td>\n",
       "      <td>Fixed Wing Multi-Engine</td>\n",
       "      <td>Turbo-Fan</td>\n",
       "      <td>2004</td>\n",
       "    </tr>\n",
       "    <tr>\n",
       "      <th>35</th>\n",
       "      <td>N102UW</td>\n",
       "      <td>Corporation</td>\n",
       "      <td>AIRBUS INDUSTRIE</td>\n",
       "      <td>05/26/1999</td>\n",
       "      <td>A320-214</td>\n",
       "      <td>Valid</td>\n",
       "      <td>Fixed Wing Multi-Engine</td>\n",
       "      <td>Turbo-Fan</td>\n",
       "      <td>1998</td>\n",
       "    </tr>\n",
       "  </tbody>\n",
       "</table>\n",
       "</div>"
      ],
      "text/plain": [
       "   tailnum         type      manufacturer  issue_date      model status  \\\n",
       "34  N10156  Corporation           EMBRAER  02/13/2004  EMB-145XR  Valid   \n",
       "35  N102UW  Corporation  AIRBUS INDUSTRIE  05/26/1999   A320-214  Valid   \n",
       "\n",
       "              aircraft_type engine_type  year  \n",
       "34  Fixed Wing Multi-Engine   Turbo-Fan  2004  \n",
       "35  Fixed Wing Multi-Engine   Turbo-Fan  1998  "
      ]
     },
     "execution_count": 13,
     "metadata": {},
     "output_type": "execute_result"
    }
   ],
   "source": [
    "data.head(2)"
   ]
  },
  {
   "cell_type": "markdown",
   "metadata": {},
   "source": [
    "---\n",
    "---"
   ]
  },
  {
   "cell_type": "code",
   "execution_count": 14,
   "metadata": {},
   "outputs": [],
   "source": [
    "# Correctly adjust asynchronous date problems with each other\n",
    "# One of the quality problems found here with the data is that in the date\n",
    "# classification the incompatible years.\n",
    "# There are years that differ from date columns\n",
    "# Write the code:\n",
    "\n",
    "data['issue_date'] = pd.to_datetime(data['issue_date'], infer_datetime_format=True)\n",
    "data['years']=data['issue_date'].dt.strftime('%Y')"
   ]
  },
  {
   "cell_type": "code",
   "execution_count": 15,
   "metadata": {},
   "outputs": [],
   "source": [
    "data['issue_date'] = pd.to_datetime(data['issue_date'], infer_datetime_format=True)\n",
    "data['month_years']=data['issue_date'].dt.strftime('%Y-%b')"
   ]
  },
  {
   "cell_type": "code",
   "execution_count": 16,
   "metadata": {},
   "outputs": [
    {
     "data": {
      "text/html": [
       "<div>\n",
       "<style scoped>\n",
       "    .dataframe tbody tr th:only-of-type {\n",
       "        vertical-align: middle;\n",
       "    }\n",
       "\n",
       "    .dataframe tbody tr th {\n",
       "        vertical-align: top;\n",
       "    }\n",
       "\n",
       "    .dataframe thead th {\n",
       "        text-align: right;\n",
       "    }\n",
       "</style>\n",
       "<table border=\"1\" class=\"dataframe\">\n",
       "  <thead>\n",
       "    <tr style=\"text-align: right;\">\n",
       "      <th></th>\n",
       "      <th>tailnum</th>\n",
       "      <th>type</th>\n",
       "      <th>manufacturer</th>\n",
       "      <th>issue_date</th>\n",
       "      <th>model</th>\n",
       "      <th>status</th>\n",
       "      <th>aircraft_type</th>\n",
       "      <th>engine_type</th>\n",
       "      <th>year</th>\n",
       "      <th>years</th>\n",
       "      <th>month_years</th>\n",
       "    </tr>\n",
       "  </thead>\n",
       "  <tbody>\n",
       "    <tr>\n",
       "      <th>34</th>\n",
       "      <td>N10156</td>\n",
       "      <td>Corporation</td>\n",
       "      <td>EMBRAER</td>\n",
       "      <td>2004-02-13</td>\n",
       "      <td>EMB-145XR</td>\n",
       "      <td>Valid</td>\n",
       "      <td>Fixed Wing Multi-Engine</td>\n",
       "      <td>Turbo-Fan</td>\n",
       "      <td>2004</td>\n",
       "      <td>2004</td>\n",
       "      <td>2004-Feb</td>\n",
       "    </tr>\n",
       "    <tr>\n",
       "      <th>35</th>\n",
       "      <td>N102UW</td>\n",
       "      <td>Corporation</td>\n",
       "      <td>AIRBUS INDUSTRIE</td>\n",
       "      <td>1999-05-26</td>\n",
       "      <td>A320-214</td>\n",
       "      <td>Valid</td>\n",
       "      <td>Fixed Wing Multi-Engine</td>\n",
       "      <td>Turbo-Fan</td>\n",
       "      <td>1998</td>\n",
       "      <td>1999</td>\n",
       "      <td>1999-May</td>\n",
       "    </tr>\n",
       "    <tr>\n",
       "      <th>36</th>\n",
       "      <td>N10323</td>\n",
       "      <td>Corporation</td>\n",
       "      <td>BOEING</td>\n",
       "      <td>1997-07-01</td>\n",
       "      <td>737-3TO</td>\n",
       "      <td>Valid</td>\n",
       "      <td>Fixed Wing Multi-Engine</td>\n",
       "      <td>Turbo-Jet</td>\n",
       "      <td>1986</td>\n",
       "      <td>1997</td>\n",
       "      <td>1997-Jul</td>\n",
       "    </tr>\n",
       "  </tbody>\n",
       "</table>\n",
       "</div>"
      ],
      "text/plain": [
       "   tailnum         type      manufacturer issue_date      model status  \\\n",
       "34  N10156  Corporation           EMBRAER 2004-02-13  EMB-145XR  Valid   \n",
       "35  N102UW  Corporation  AIRBUS INDUSTRIE 1999-05-26   A320-214  Valid   \n",
       "36  N10323  Corporation            BOEING 1997-07-01    737-3TO  Valid   \n",
       "\n",
       "              aircraft_type engine_type  year years month_years  \n",
       "34  Fixed Wing Multi-Engine   Turbo-Fan  2004  2004    2004-Feb  \n",
       "35  Fixed Wing Multi-Engine   Turbo-Fan  1998  1999    1999-May  \n",
       "36  Fixed Wing Multi-Engine   Turbo-Jet  1986  1997    1997-Jul  "
      ]
     },
     "execution_count": 16,
     "metadata": {},
     "output_type": "execute_result"
    }
   ],
   "source": [
    "data_archive= data.copy()\n",
    "data_archive.head(3)\n",
    "\n",
    "\n",
    "## Code testing:"
   ]
  },
  {
   "cell_type": "code",
   "execution_count": 17,
   "metadata": {},
   "outputs": [
    {
     "data": {
      "text/html": [
       "<div>\n",
       "<style scoped>\n",
       "    .dataframe tbody tr th:only-of-type {\n",
       "        vertical-align: middle;\n",
       "    }\n",
       "\n",
       "    .dataframe tbody tr th {\n",
       "        vertical-align: top;\n",
       "    }\n",
       "\n",
       "    .dataframe thead th {\n",
       "        text-align: right;\n",
       "    }\n",
       "</style>\n",
       "<table border=\"1\" class=\"dataframe\">\n",
       "  <thead>\n",
       "    <tr style=\"text-align: right;\">\n",
       "      <th></th>\n",
       "      <th>years</th>\n",
       "      <th>month_years</th>\n",
       "      <th>tailnum</th>\n",
       "      <th>manufacturer</th>\n",
       "      <th>model</th>\n",
       "      <th>type</th>\n",
       "      <th>engine_type</th>\n",
       "      <th>aircraft_type</th>\n",
       "      <th>status</th>\n",
       "    </tr>\n",
       "  </thead>\n",
       "  <tbody>\n",
       "    <tr>\n",
       "      <th>34</th>\n",
       "      <td>2004</td>\n",
       "      <td>2004-Feb</td>\n",
       "      <td>N10156</td>\n",
       "      <td>EMBRAER</td>\n",
       "      <td>EMB-145XR</td>\n",
       "      <td>Corporation</td>\n",
       "      <td>Turbo-Fan</td>\n",
       "      <td>Fixed Wing Multi-Engine</td>\n",
       "      <td>Valid</td>\n",
       "    </tr>\n",
       "    <tr>\n",
       "      <th>35</th>\n",
       "      <td>1999</td>\n",
       "      <td>1999-May</td>\n",
       "      <td>N102UW</td>\n",
       "      <td>AIRBUS INDUSTRIE</td>\n",
       "      <td>A320-214</td>\n",
       "      <td>Corporation</td>\n",
       "      <td>Turbo-Fan</td>\n",
       "      <td>Fixed Wing Multi-Engine</td>\n",
       "      <td>Valid</td>\n",
       "    </tr>\n",
       "    <tr>\n",
       "      <th>36</th>\n",
       "      <td>1997</td>\n",
       "      <td>1997-Jul</td>\n",
       "      <td>N10323</td>\n",
       "      <td>BOEING</td>\n",
       "      <td>737-3TO</td>\n",
       "      <td>Corporation</td>\n",
       "      <td>Turbo-Jet</td>\n",
       "      <td>Fixed Wing Multi-Engine</td>\n",
       "      <td>Valid</td>\n",
       "    </tr>\n",
       "  </tbody>\n",
       "</table>\n",
       "</div>"
      ],
      "text/plain": [
       "   years month_years tailnum      manufacturer      model         type  \\\n",
       "34  2004    2004-Feb  N10156           EMBRAER  EMB-145XR  Corporation   \n",
       "35  1999    1999-May  N102UW  AIRBUS INDUSTRIE   A320-214  Corporation   \n",
       "36  1997    1997-Jul  N10323            BOEING    737-3TO  Corporation   \n",
       "\n",
       "   engine_type            aircraft_type status  \n",
       "34   Turbo-Fan  Fixed Wing Multi-Engine  Valid  \n",
       "35   Turbo-Fan  Fixed Wing Multi-Engine  Valid  \n",
       "36   Turbo-Jet  Fixed Wing Multi-Engine  Valid  "
      ]
     },
     "execution_count": 17,
     "metadata": {},
     "output_type": "execute_result"
    }
   ],
   "source": [
    "data_archive=data_archive[['years','month_years','tailnum','manufacturer','model','type','engine_type','aircraft_type','status']]\n",
    "data_archive=data_archive.copy()\n",
    "data_archive.head(3)"
   ]
  },
  {
   "cell_type": "markdown",
   "metadata": {},
   "source": [
    "---\n",
    "---\n"
   ]
  },
  {
   "cell_type": "markdown",
   "metadata": {},
   "source": [
    "---\n",
    "---"
   ]
  },
  {
   "cell_type": "markdown",
   "metadata": {},
   "source": [
    "## 2) Data Analysis: "
   ]
  },
  {
   "cell_type": "markdown",
   "metadata": {},
   "source": [
    "![](PL3.jpg)"
   ]
  },
  {
   "cell_type": "markdown",
   "metadata": {},
   "source": [
    "## The following questions will be discussed:\n",
    "\n",
    "### A - for \" years - months \": \n",
    "1) How will the data for the years be analyzed ?\n",
    "\n",
    "2) What are the years in which the number of trips increased ?\n",
    "\n",
    "3) In the 1990s and 1980s, what years did you record a large number of flights?\n",
    "\n",
    "4) What are the most effective months for trips?\n",
    "\n",
    "5) What are the years that recorded the highest record after 1/1/2000 ?\n",
    "\n",
    "6) What are the months affected the most by the aviation industry?\n",
    "\n",
    "7) What is the conclusion and perception of the increase in the number of years and the number of trips during the mentioned period ?"
   ]
  },
  {
   "cell_type": "markdown",
   "metadata": {},
   "source": [
    "## B - the manufacturer's :\n",
    "1) What are the most powerful companies in the aviation industry?\n",
    "\n",
    "2) What were the manufacturer's statistics before 1/1/2000?\n",
    "\n",
    "3) What are the manufacturer's statistics after 1/1/2000?\n",
    "\n",
    "4) Based on the statistics, what are the expectations of increased growth between companies?"
   ]
  },
  {
   "cell_type": "markdown",
   "metadata": {},
   "source": [
    "## C- The Model :\n",
    "1) From 1976 to 2008 what are the three most popular models among airlines ?!\n",
    "\n",
    "2) What are the models most used in the aviation industry?\n",
    "\n",
    "3) What are the models that were relied upon before 1/1/2000?\n",
    "\n",
    "4) What are the models adopted in the aviation industry after 1/1/2000?"
   ]
  },
  {
   "cell_type": "markdown",
   "metadata": {},
   "source": [
    "## D- Type :\n",
    "1) What was the most popular type 1976-2008?\n",
    "\n",
    "2) What is the most common type 1976-2000?\n",
    "\n",
    "3) What is the most common type 2000-2001?\n",
    "\n",
    "4) What are the strongest manufacturers of the Corporation type ?!\n",
    "\n",
    "5) What are the strongest manufacturers of the Individual type ?!"
   ]
  },
  {
   "cell_type": "markdown",
   "metadata": {},
   "source": [
    "## E- Engine Type :\n",
    "1) What are the most popular types of engines in 1976-2008?\n",
    "\n",
    "2) What types of engines were used in 1976-2000?\n",
    "\n",
    "3)  Comparison of Demand for Engine Types in the \"Pre-2000 and Post-2000\" Periods :"
   ]
  },
  {
   "cell_type": "markdown",
   "metadata": {},
   "source": [
    "## F- Manufacturer BOEING :\n",
    "1) What are the most active years?\n",
    "\n",
    "2) What is the growth of the company ?! Is it a positive or negative relationship ?\n",
    "\n",
    "3) What are the most used models?\n",
    "\n",
    "4) What are the most common engines?\n",
    "\n",
    "5) What is the most effective month?"
   ]
  },
  {
   "cell_type": "markdown",
   "metadata": {},
   "source": [
    "## G- BOMBARDIER_INC :\n",
    "1) What is the most active year?\n",
    "\n",
    "2) What is the most active month in air navigation?\n",
    "\n",
    "3) What is the model most used and applied?\n",
    "\n",
    "4) What are the most active months in using the most common model?\n"
   ]
  },
  {
   "cell_type": "markdown",
   "metadata": {},
   "source": [
    "## H- EMBRAER :\n",
    "\n",
    "1) What was the first engine type recorded in the data and in what year?\n",
    "\n",
    "2) What is the most active month in air traffic, and how many flights are registered?\n",
    "\n",
    "3) What is the general activity of EMBRAER in air navigation traffic?\n",
    "\n",
    "4) What is the most common model in EMBRAER?\n",
    "\n",
    "5) What is the activity log for the most popular model ?\n",
    "\n",
    "6) What does the airline EMBRAER depend on for its engines?\n",
    "\n"
   ]
  },
  {
   "cell_type": "markdown",
   "metadata": {},
   "source": [
    "---\n",
    "---"
   ]
  },
  {
   "cell_type": "markdown",
   "metadata": {},
   "source": [
    "# A - for \" years - months \":"
   ]
  },
  {
   "cell_type": "markdown",
   "metadata": {},
   "source": [
    "## 1) How will the data for the years be analyzed ?"
   ]
  },
  {
   "cell_type": "code",
   "execution_count": 18,
   "metadata": {},
   "outputs": [
    {
     "data": {
      "text/plain": [
       "2004    454\n",
       "2007    335\n",
       "2005    334\n",
       "2001    332\n",
       "2003    318\n",
       "2000    311\n",
       "2002    305\n",
       "1999    297\n",
       "2006    245\n",
       "1998    239\n",
       "1997    133\n",
       "1996    108\n",
       "1992    101\n",
       "2008    101\n",
       "1991     99\n",
       "1995     84\n",
       "1989     82\n",
       "1990     80\n",
       "1994     75\n",
       "1986     74\n",
       "1988     70\n",
       "1993     66\n",
       "1987     52\n",
       "1985     33\n",
       "1984      2\n",
       "1976      1\n",
       "1978      1\n",
       "Name: years, dtype: int64"
      ]
     },
     "execution_count": 18,
     "metadata": {},
     "output_type": "execute_result"
    }
   ],
   "source": [
    "#Most of the years I have been in flight\n",
    "years=data_archive['years'].value_counts()\n",
    "years.head(60)\n"
   ]
  },
  {
   "cell_type": "code",
   "execution_count": 19,
   "metadata": {},
   "outputs": [
    {
     "data": {
      "text/plain": [
       "2004    10.480148\n",
       "2007     7.733149\n",
       "2005     7.710065\n",
       "2001     7.663897\n",
       "2003     7.340720\n",
       "2000     7.179132\n",
       "2002     7.040628\n",
       "1999     6.855956\n",
       "2006     5.655586\n",
       "1998     5.517082\n",
       "1997     3.070175\n",
       "1996     2.493075\n",
       "1992     2.331487\n",
       "2008     2.331487\n",
       "1991     2.285319\n",
       "1995     1.939058\n",
       "1989     1.892890\n",
       "1990     1.846722\n",
       "1994     1.731302\n",
       "1986     1.708218\n",
       "1988     1.615882\n",
       "1993     1.523546\n",
       "1987     1.200369\n",
       "1985     0.761773\n",
       "1984     0.046168\n",
       "1976     0.023084\n",
       "1978     0.023084\n",
       "Name: years, dtype: float64"
      ]
     },
     "execution_count": 19,
     "metadata": {},
     "output_type": "execute_result"
    }
   ],
   "source": [
    "data_archive.years.value_counts(normalize=True)*100"
   ]
  },
  {
   "cell_type": "code",
   "execution_count": 20,
   "metadata": {},
   "outputs": [],
   "source": [
    "#organize this data in tables:\n",
    "\n",
    "all_years=pd.DataFrame({'years':[2004,2007,2005,2001,2003,2000,2002,1999,2006,1998,1997,1996,2008,\n",
    "                                 1992,1991,1995,1989,1990,1994,1986,1988,1993,1987,1985,1984,1978,1976],\n",
    "                       \n",
    "                        'counts':[454,335,334,332,318,311,305,297,245,239,133,108,101,101,99,84,82,80,75,\n",
    "                              74,70,66,52,33,2,1,1 ]},\n",
    "index=[1,2,3,4,5,6,7,8,9,10,11,12,13,14,15,16,17,18,19,20,21,22,23,24,25,26,27] )\n",
    "\n",
    "all_years=all_years.sort_values('years')"
   ]
  },
  {
   "cell_type": "code",
   "execution_count": 21,
   "metadata": {},
   "outputs": [
    {
     "data": {
      "text/html": [
       "<div>\n",
       "<style scoped>\n",
       "    .dataframe tbody tr th:only-of-type {\n",
       "        vertical-align: middle;\n",
       "    }\n",
       "\n",
       "    .dataframe tbody tr th {\n",
       "        vertical-align: top;\n",
       "    }\n",
       "\n",
       "    .dataframe thead th {\n",
       "        text-align: right;\n",
       "    }\n",
       "</style>\n",
       "<table border=\"1\" class=\"dataframe\">\n",
       "  <thead>\n",
       "    <tr style=\"text-align: right;\">\n",
       "      <th></th>\n",
       "      <th>years</th>\n",
       "      <th>counts</th>\n",
       "    </tr>\n",
       "  </thead>\n",
       "  <tbody>\n",
       "    <tr>\n",
       "      <th>27</th>\n",
       "      <td>1976</td>\n",
       "      <td>1</td>\n",
       "    </tr>\n",
       "    <tr>\n",
       "      <th>26</th>\n",
       "      <td>1978</td>\n",
       "      <td>1</td>\n",
       "    </tr>\n",
       "    <tr>\n",
       "      <th>25</th>\n",
       "      <td>1984</td>\n",
       "      <td>2</td>\n",
       "    </tr>\n",
       "    <tr>\n",
       "      <th>24</th>\n",
       "      <td>1985</td>\n",
       "      <td>33</td>\n",
       "    </tr>\n",
       "    <tr>\n",
       "      <th>20</th>\n",
       "      <td>1986</td>\n",
       "      <td>74</td>\n",
       "    </tr>\n",
       "    <tr>\n",
       "      <th>23</th>\n",
       "      <td>1987</td>\n",
       "      <td>52</td>\n",
       "    </tr>\n",
       "    <tr>\n",
       "      <th>21</th>\n",
       "      <td>1988</td>\n",
       "      <td>70</td>\n",
       "    </tr>\n",
       "    <tr>\n",
       "      <th>17</th>\n",
       "      <td>1989</td>\n",
       "      <td>82</td>\n",
       "    </tr>\n",
       "    <tr>\n",
       "      <th>18</th>\n",
       "      <td>1990</td>\n",
       "      <td>80</td>\n",
       "    </tr>\n",
       "    <tr>\n",
       "      <th>15</th>\n",
       "      <td>1991</td>\n",
       "      <td>99</td>\n",
       "    </tr>\n",
       "    <tr>\n",
       "      <th>14</th>\n",
       "      <td>1992</td>\n",
       "      <td>101</td>\n",
       "    </tr>\n",
       "    <tr>\n",
       "      <th>22</th>\n",
       "      <td>1993</td>\n",
       "      <td>66</td>\n",
       "    </tr>\n",
       "    <tr>\n",
       "      <th>19</th>\n",
       "      <td>1994</td>\n",
       "      <td>75</td>\n",
       "    </tr>\n",
       "    <tr>\n",
       "      <th>16</th>\n",
       "      <td>1995</td>\n",
       "      <td>84</td>\n",
       "    </tr>\n",
       "    <tr>\n",
       "      <th>12</th>\n",
       "      <td>1996</td>\n",
       "      <td>108</td>\n",
       "    </tr>\n",
       "    <tr>\n",
       "      <th>11</th>\n",
       "      <td>1997</td>\n",
       "      <td>133</td>\n",
       "    </tr>\n",
       "    <tr>\n",
       "      <th>10</th>\n",
       "      <td>1998</td>\n",
       "      <td>239</td>\n",
       "    </tr>\n",
       "    <tr>\n",
       "      <th>8</th>\n",
       "      <td>1999</td>\n",
       "      <td>297</td>\n",
       "    </tr>\n",
       "    <tr>\n",
       "      <th>6</th>\n",
       "      <td>2000</td>\n",
       "      <td>311</td>\n",
       "    </tr>\n",
       "    <tr>\n",
       "      <th>4</th>\n",
       "      <td>2001</td>\n",
       "      <td>332</td>\n",
       "    </tr>\n",
       "    <tr>\n",
       "      <th>7</th>\n",
       "      <td>2002</td>\n",
       "      <td>305</td>\n",
       "    </tr>\n",
       "    <tr>\n",
       "      <th>5</th>\n",
       "      <td>2003</td>\n",
       "      <td>318</td>\n",
       "    </tr>\n",
       "    <tr>\n",
       "      <th>1</th>\n",
       "      <td>2004</td>\n",
       "      <td>454</td>\n",
       "    </tr>\n",
       "    <tr>\n",
       "      <th>3</th>\n",
       "      <td>2005</td>\n",
       "      <td>334</td>\n",
       "    </tr>\n",
       "    <tr>\n",
       "      <th>9</th>\n",
       "      <td>2006</td>\n",
       "      <td>245</td>\n",
       "    </tr>\n",
       "    <tr>\n",
       "      <th>2</th>\n",
       "      <td>2007</td>\n",
       "      <td>335</td>\n",
       "    </tr>\n",
       "    <tr>\n",
       "      <th>13</th>\n",
       "      <td>2008</td>\n",
       "      <td>101</td>\n",
       "    </tr>\n",
       "  </tbody>\n",
       "</table>\n",
       "</div>"
      ],
      "text/plain": [
       "    years  counts\n",
       "27   1976       1\n",
       "26   1978       1\n",
       "25   1984       2\n",
       "24   1985      33\n",
       "20   1986      74\n",
       "23   1987      52\n",
       "21   1988      70\n",
       "17   1989      82\n",
       "18   1990      80\n",
       "15   1991      99\n",
       "14   1992     101\n",
       "22   1993      66\n",
       "19   1994      75\n",
       "16   1995      84\n",
       "12   1996     108\n",
       "11   1997     133\n",
       "10   1998     239\n",
       "8    1999     297\n",
       "6    2000     311\n",
       "4    2001     332\n",
       "7    2002     305\n",
       "5    2003     318\n",
       "1    2004     454\n",
       "3    2005     334\n",
       "9    2006     245\n",
       "2    2007     335\n",
       "13   2008     101"
      ]
     },
     "execution_count": 21,
     "metadata": {},
     "output_type": "execute_result"
    }
   ],
   "source": [
    "all_years"
   ]
  },
  {
   "cell_type": "markdown",
   "metadata": {},
   "source": [
    "\n",
    "### Note that the years span from 1976 to 2008\n",
    "I will study it in general first, then for a more careful study I will divide the time period 1976-2008 into two parts:\n",
    "\n",
    "1) Before 1/1/2000\n",
    "\n",
    "2) After the year 1/1/2002"
   ]
  },
  {
   "cell_type": "markdown",
   "metadata": {},
   "source": [
    "## 2) What are the years in which the number of trips increased ?"
   ]
  },
  {
   "cell_type": "code",
   "execution_count": 22,
   "metadata": {},
   "outputs": [
    {
     "name": "stderr",
     "output_type": "stream",
     "text": [
      "/Users/losh/opt/anaconda3/lib/python3.8/site-packages/seaborn/distributions.py:2551: FutureWarning: `distplot` is a deprecated function and will be removed in a future version. Please adapt your code to use either `displot` (a figure-level function with similar flexibility) or `histplot` (an axes-level function for histograms).\n",
      "  warnings.warn(msg, FutureWarning)\n"
     ]
    },
    {
     "data": {
      "image/png": "[encoded data removed]",
      "text/plain": [
       "<Figure size 432x288 with 1 Axes>"
      ]
     },
     "metadata": {
      "needs_background": "light"
     },
     "output_type": "display_data"
    }
   ],
   "source": [
    "# A visualization of the flight activity over all the years\n",
    "sns.distplot(data_archive.years ,fit=norm );\n",
    "plt.xticks(rotation = 90);\n",
    "plt.title('the number of trips increased');\n",
    " "
   ]
  },
  {
   "cell_type": "markdown",
   "metadata": {},
   "source": [
    "## Conclusions in general : \n",
    "\n",
    "1) We note that the trips began in 1976\n",
    "\n",
    "2) Data recorded from 1976 to 2008\n",
    "\n",
    "3) The most active year in air travel is 2004, when 454 different flights were witnessed\n",
    "\n",
    "4) Compared to the years of the millennium, 1999 and 1998 were good years with significant air    traffic activity\n",
    "\n",
    "5) Relative to the increase in the aviation industry, we notice a direct change in the number of years and an increase in flights.\n",
    "\n",
    "6) The percentage of activity witnessed in 2004 = 10%, and it was an increase of 3% over the year 2007"
   ]
  },
  {
   "cell_type": "markdown",
   "metadata": {},
   "source": [
    "---\n",
    "---"
   ]
  },
  {
   "cell_type": "markdown",
   "metadata": {},
   "source": [
    "#  before 1/1/2000 :\n",
    "                               [1976 - 1999]"
   ]
  },
  {
   "cell_type": "code",
   "execution_count": 23,
   "metadata": {},
   "outputs": [
    {
     "data": {
      "text/html": [
       "<div>\n",
       "<style scoped>\n",
       "    .dataframe tbody tr th:only-of-type {\n",
       "        vertical-align: middle;\n",
       "    }\n",
       "\n",
       "    .dataframe tbody tr th {\n",
       "        vertical-align: top;\n",
       "    }\n",
       "\n",
       "    .dataframe thead th {\n",
       "        text-align: right;\n",
       "    }\n",
       "</style>\n",
       "<table border=\"1\" class=\"dataframe\">\n",
       "  <thead>\n",
       "    <tr style=\"text-align: right;\">\n",
       "      <th></th>\n",
       "      <th>years</th>\n",
       "      <th>month_years</th>\n",
       "      <th>tailnum</th>\n",
       "      <th>manufacturer</th>\n",
       "      <th>model</th>\n",
       "      <th>type</th>\n",
       "      <th>engine_type</th>\n",
       "      <th>aircraft_type</th>\n",
       "      <th>status</th>\n",
       "    </tr>\n",
       "  </thead>\n",
       "  <tbody>\n",
       "    <tr>\n",
       "      <th>2473</th>\n",
       "      <td>1976</td>\n",
       "      <td>1976-Jan</td>\n",
       "      <td>N567AA</td>\n",
       "      <td>DEHAVILLAND</td>\n",
       "      <td>OTTER DHC-3</td>\n",
       "      <td>Individual</td>\n",
       "      <td>Reciprocating</td>\n",
       "      <td>Fixed Wing Single-Engine</td>\n",
       "      <td>Valid</td>\n",
       "    </tr>\n",
       "    <tr>\n",
       "      <th>1834</th>\n",
       "      <td>1978</td>\n",
       "      <td>1978-Mar</td>\n",
       "      <td>N444AA</td>\n",
       "      <td>CESSNA</td>\n",
       "      <td>182P</td>\n",
       "      <td>Individual</td>\n",
       "      <td>Reciprocating</td>\n",
       "      <td>Fixed Wing Single-Engine</td>\n",
       "      <td>Valid</td>\n",
       "    </tr>\n",
       "    <tr>\n",
       "      <th>971</th>\n",
       "      <td>1984</td>\n",
       "      <td>1984-Dec</td>\n",
       "      <td>N300SW</td>\n",
       "      <td>BOEING</td>\n",
       "      <td>737-3H4</td>\n",
       "      <td>Corporation</td>\n",
       "      <td>Turbo-Fan</td>\n",
       "      <td>Fixed Wing Multi-Engine</td>\n",
       "      <td>Valid</td>\n",
       "    </tr>\n",
       "    <tr>\n",
       "      <th>698</th>\n",
       "      <td>1984</td>\n",
       "      <td>1984-Jan</td>\n",
       "      <td>N227AA</td>\n",
       "      <td>MCDONNELL DOUGLAS</td>\n",
       "      <td>DC-9-82(MD-82)</td>\n",
       "      <td>Corporation</td>\n",
       "      <td>Turbo-Fan</td>\n",
       "      <td>Fixed Wing Multi-Engine</td>\n",
       "      <td>Valid</td>\n",
       "    </tr>\n",
       "    <tr>\n",
       "      <th>128</th>\n",
       "      <td>1985</td>\n",
       "      <td>1985-Oct</td>\n",
       "      <td>N12313</td>\n",
       "      <td>BOEING</td>\n",
       "      <td>737-3TO</td>\n",
       "      <td>Corporation</td>\n",
       "      <td>Turbo-Jet</td>\n",
       "      <td>Fixed Wing Multi-Engine</td>\n",
       "      <td>Valid</td>\n",
       "    </tr>\n",
       "    <tr>\n",
       "      <th>...</th>\n",
       "      <td>...</td>\n",
       "      <td>...</td>\n",
       "      <td>...</td>\n",
       "      <td>...</td>\n",
       "      <td>...</td>\n",
       "      <td>...</td>\n",
       "      <td>...</td>\n",
       "      <td>...</td>\n",
       "      <td>...</td>\n",
       "    </tr>\n",
       "    <tr>\n",
       "      <th>3386</th>\n",
       "      <td>1999</td>\n",
       "      <td>1999-Feb</td>\n",
       "      <td>N708AS</td>\n",
       "      <td>BOEING</td>\n",
       "      <td>737-490</td>\n",
       "      <td>Corporation</td>\n",
       "      <td>Turbo-Jet</td>\n",
       "      <td>Fixed Wing Multi-Engine</td>\n",
       "      <td>Valid</td>\n",
       "    </tr>\n",
       "    <tr>\n",
       "      <th>3385</th>\n",
       "      <td>1999</td>\n",
       "      <td>1999-Dec</td>\n",
       "      <td>N708AE</td>\n",
       "      <td>EMBRAER</td>\n",
       "      <td>EMB-135LR</td>\n",
       "      <td>Corporation</td>\n",
       "      <td>Turbo-Fan</td>\n",
       "      <td>Fixed Wing Multi-Engine</td>\n",
       "      <td>Valid</td>\n",
       "    </tr>\n",
       "    <tr>\n",
       "      <th>3380</th>\n",
       "      <td>1999</td>\n",
       "      <td>1999-Nov</td>\n",
       "      <td>N707EB</td>\n",
       "      <td>EMBRAER</td>\n",
       "      <td>EMB-135LR</td>\n",
       "      <td>Corporation</td>\n",
       "      <td>Turbo-Fan</td>\n",
       "      <td>Fixed Wing Multi-Engine</td>\n",
       "      <td>Valid</td>\n",
       "    </tr>\n",
       "    <tr>\n",
       "      <th>3366</th>\n",
       "      <td>1999</td>\n",
       "      <td>1999-Oct</td>\n",
       "      <td>N705AE</td>\n",
       "      <td>EMBRAER</td>\n",
       "      <td>EMB-135LR</td>\n",
       "      <td>Corporation</td>\n",
       "      <td>Turbo-Fan</td>\n",
       "      <td>Fixed Wing Multi-Engine</td>\n",
       "      <td>Valid</td>\n",
       "    </tr>\n",
       "    <tr>\n",
       "      <th>35</th>\n",
       "      <td>1999</td>\n",
       "      <td>1999-May</td>\n",
       "      <td>N102UW</td>\n",
       "      <td>AIRBUS INDUSTRIE</td>\n",
       "      <td>A320-214</td>\n",
       "      <td>Corporation</td>\n",
       "      <td>Turbo-Fan</td>\n",
       "      <td>Fixed Wing Multi-Engine</td>\n",
       "      <td>Valid</td>\n",
       "    </tr>\n",
       "  </tbody>\n",
       "</table>\n",
       "<p>1597 rows × 9 columns</p>\n",
       "</div>"
      ],
      "text/plain": [
       "     years month_years tailnum       manufacturer           model  \\\n",
       "2473  1976    1976-Jan  N567AA        DEHAVILLAND     OTTER DHC-3   \n",
       "1834  1978    1978-Mar  N444AA             CESSNA            182P   \n",
       "971   1984    1984-Dec  N300SW             BOEING         737-3H4   \n",
       "698   1984    1984-Jan  N227AA  MCDONNELL DOUGLAS  DC-9-82(MD-82)   \n",
       "128   1985    1985-Oct  N12313             BOEING         737-3TO   \n",
       "...    ...         ...     ...                ...             ...   \n",
       "3386  1999    1999-Feb  N708AS             BOEING         737-490   \n",
       "3385  1999    1999-Dec  N708AE            EMBRAER       EMB-135LR   \n",
       "3380  1999    1999-Nov  N707EB            EMBRAER       EMB-135LR   \n",
       "3366  1999    1999-Oct  N705AE            EMBRAER       EMB-135LR   \n",
       "35    1999    1999-May  N102UW   AIRBUS INDUSTRIE        A320-214   \n",
       "\n",
       "             type    engine_type             aircraft_type status  \n",
       "2473   Individual  Reciprocating  Fixed Wing Single-Engine  Valid  \n",
       "1834   Individual  Reciprocating  Fixed Wing Single-Engine  Valid  \n",
       "971   Corporation      Turbo-Fan   Fixed Wing Multi-Engine  Valid  \n",
       "698   Corporation      Turbo-Fan   Fixed Wing Multi-Engine  Valid  \n",
       "128   Corporation      Turbo-Jet   Fixed Wing Multi-Engine  Valid  \n",
       "...           ...            ...                       ...    ...  \n",
       "3386  Corporation      Turbo-Jet   Fixed Wing Multi-Engine  Valid  \n",
       "3385  Corporation      Turbo-Fan   Fixed Wing Multi-Engine  Valid  \n",
       "3380  Corporation      Turbo-Fan   Fixed Wing Multi-Engine  Valid  \n",
       "3366  Corporation      Turbo-Fan   Fixed Wing Multi-Engine  Valid  \n",
       "35    Corporation      Turbo-Fan   Fixed Wing Multi-Engine  Valid  \n",
       "\n",
       "[1597 rows x 9 columns]"
      ]
     },
     "execution_count": 23,
     "metadata": {},
     "output_type": "execute_result"
    }
   ],
   "source": [
    "\n",
    "before_2000= data_archive.loc[data_archive['years']<= '1999' ,['years','month_years','tailnum','manufacturer',\n",
    "                                     'model','type','engine_type','aircraft_type','status']].sort_values('years')\n",
    "before_2000"
   ]
  },
  {
   "cell_type": "markdown",
   "metadata": {},
   "source": [
    "### First, a study of the normal distribution of flight activity during \n",
    "                       [1976 - 1999]"
   ]
  },
  {
   "cell_type": "code",
   "execution_count": 24,
   "metadata": {},
   "outputs": [
    {
     "name": "stderr",
     "output_type": "stream",
     "text": [
      "/Users/losh/opt/anaconda3/lib/python3.8/site-packages/seaborn/distributions.py:2551: FutureWarning: `distplot` is a deprecated function and will be removed in a future version. Please adapt your code to use either `displot` (a figure-level function with similar flexibility) or `histplot` (an axes-level function for histograms).\n",
      "  warnings.warn(msg, FutureWarning)\n"
     ]
    },
    {
     "data": {
      "image/png": "[encoded data removed]",
      "text/plain": [
       "<Figure size 432x288 with 1 Axes>"
      ]
     },
     "metadata": {
      "needs_background": "light"
     },
     "output_type": "display_data"
    }
   ],
   "source": [
    "\n",
    "sns.distplot(before_2000.years, fit=norm );\n",
    "plt.title('before 1/1/2000');"
   ]
  },
  {
   "cell_type": "markdown",
   "metadata": {},
   "source": [
    "Note that we have a negative skew that occurs if the data is stacked to the right, leaving the tail pointing to the left. The reason that the deviation here is negative is what naturally occurs with the industrial revolution in the aviation industry, aircraft and so on, as we witness that as the years progress, civilization, culture and industry increase"
   ]
  },
  {
   "cell_type": "code",
   "execution_count": 25,
   "metadata": {},
   "outputs": [
    {
     "data": {
      "text/plain": [
       "1999    18.597370\n",
       "1998    14.965560\n",
       "1997     8.328115\n",
       "1996     6.762680\n",
       "1992     6.324358\n",
       "1991     6.199123\n",
       "1995     5.259862\n",
       "1989     5.134627\n",
       "1990     5.009393\n",
       "1994     4.696306\n",
       "1986     4.633688\n",
       "1988     4.383219\n",
       "1993     4.132749\n",
       "1987     3.256105\n",
       "1985     2.066374\n",
       "1984     0.125235\n",
       "1976     0.062617\n",
       "1978     0.062617\n",
       "Name: years, dtype: float64"
      ]
     },
     "execution_count": 25,
     "metadata": {},
     "output_type": "execute_result"
    }
   ],
   "source": [
    "before_2000.years.value_counts(normalize=True)*100"
   ]
  },
  {
   "cell_type": "markdown",
   "metadata": {},
   "source": [
    "## 3) In the 1990s and 1980s, what years did you record a large number of flights?"
   ]
  },
  {
   "cell_type": "markdown",
   "metadata": {},
   "source": [
    "In general, the graphic display shows the most active year, as the year [1991,1992] witnessed good activity in the flights, then the flights decreased during the period 1993-1995 and increased positively again.\n",
    "\n",
    "The year 1999 was the most active year, reaching 18%, a difference of 4% from 1998, and 1989 was one of the good years and its activity was remarkable, i.e. 80'S , as it witnessed activity with an increase of 1% over 1994 , 90's , although the difference in years Between the two periods equals 3 years"
   ]
  },
  {
   "cell_type": "markdown",
   "metadata": {},
   "source": [
    "## 4) What are the most effective months for trips?"
   ]
  },
  {
   "cell_type": "code",
   "execution_count": 26,
   "metadata": {
    "scrolled": false
   },
   "outputs": [
    {
     "data": {
      "text/plain": [
       "1999-Dec    53\n",
       "1998-Jul    39\n",
       "1986-Dec    38\n",
       "1999-Sep    36\n",
       "1998-Dec    36\n",
       "1999-Jun    30\n",
       "1999-Aug    28\n",
       "1998-Jun    24\n",
       "1999-Jan    24\n",
       "1998-Oct    22\n",
       "1998-Feb    21\n",
       "1996-Jul    21\n",
       "1999-Mar    20\n",
       "1999-May    20\n",
       "1998-Sep    19\n",
       "1999-Oct    19\n",
       "1992-Jun    19\n",
       "1998-May    18\n",
       "1999-Nov    18\n",
       "1998-Aug    18\n",
       "Name: month_years, dtype: int64"
      ]
     },
     "execution_count": 26,
     "metadata": {},
     "output_type": "execute_result"
    }
   ],
   "source": [
    "be_month_years=before_2000['month_years'].value_counts()\n",
    "be_month_years.head(20)"
   ]
  },
  {
   "cell_type": "code",
   "execution_count": 27,
   "metadata": {},
   "outputs": [
    {
     "data": {
      "text/html": [
       "<div>\n",
       "<style scoped>\n",
       "    .dataframe tbody tr th:only-of-type {\n",
       "        vertical-align: middle;\n",
       "    }\n",
       "\n",
       "    .dataframe tbody tr th {\n",
       "        vertical-align: top;\n",
       "    }\n",
       "\n",
       "    .dataframe thead th {\n",
       "        text-align: right;\n",
       "    }\n",
       "</style>\n",
       "<table border=\"1\" class=\"dataframe\">\n",
       "  <thead>\n",
       "    <tr style=\"text-align: right;\">\n",
       "      <th></th>\n",
       "      <th>month_years</th>\n",
       "      <th>counts</th>\n",
       "    </tr>\n",
       "  </thead>\n",
       "  <tbody>\n",
       "    <tr>\n",
       "      <th>1</th>\n",
       "      <td>1999-Dec</td>\n",
       "      <td>53</td>\n",
       "    </tr>\n",
       "    <tr>\n",
       "      <th>2</th>\n",
       "      <td>1998-Jul</td>\n",
       "      <td>39</td>\n",
       "    </tr>\n",
       "    <tr>\n",
       "      <th>3</th>\n",
       "      <td>1986-Dec</td>\n",
       "      <td>38</td>\n",
       "    </tr>\n",
       "    <tr>\n",
       "      <th>4</th>\n",
       "      <td>1998-Dec</td>\n",
       "      <td>36</td>\n",
       "    </tr>\n",
       "    <tr>\n",
       "      <th>5</th>\n",
       "      <td>1999-Sep</td>\n",
       "      <td>36</td>\n",
       "    </tr>\n",
       "    <tr>\n",
       "      <th>6</th>\n",
       "      <td>1999-Jun</td>\n",
       "      <td>30</td>\n",
       "    </tr>\n",
       "    <tr>\n",
       "      <th>7</th>\n",
       "      <td>1999-Aug</td>\n",
       "      <td>28</td>\n",
       "    </tr>\n",
       "    <tr>\n",
       "      <th>8</th>\n",
       "      <td>1998-Jun</td>\n",
       "      <td>24</td>\n",
       "    </tr>\n",
       "    <tr>\n",
       "      <th>9</th>\n",
       "      <td>1999-Jan</td>\n",
       "      <td>24</td>\n",
       "    </tr>\n",
       "    <tr>\n",
       "      <th>10</th>\n",
       "      <td>1998-Oct</td>\n",
       "      <td>22</td>\n",
       "    </tr>\n",
       "    <tr>\n",
       "      <th>11</th>\n",
       "      <td>1998-Feb</td>\n",
       "      <td>21</td>\n",
       "    </tr>\n",
       "    <tr>\n",
       "      <th>12</th>\n",
       "      <td>1996-Jul</td>\n",
       "      <td>21</td>\n",
       "    </tr>\n",
       "    <tr>\n",
       "      <th>13</th>\n",
       "      <td>1999-May</td>\n",
       "      <td>20</td>\n",
       "    </tr>\n",
       "    <tr>\n",
       "      <th>14</th>\n",
       "      <td>1999-Mar</td>\n",
       "      <td>20</td>\n",
       "    </tr>\n",
       "    <tr>\n",
       "      <th>15</th>\n",
       "      <td>1992-Jun</td>\n",
       "      <td>19</td>\n",
       "    </tr>\n",
       "    <tr>\n",
       "      <th>16</th>\n",
       "      <td>1999-Oct</td>\n",
       "      <td>19</td>\n",
       "    </tr>\n",
       "    <tr>\n",
       "      <th>17</th>\n",
       "      <td>1998-Sep</td>\n",
       "      <td>19</td>\n",
       "    </tr>\n",
       "    <tr>\n",
       "      <th>18</th>\n",
       "      <td>1998-May</td>\n",
       "      <td>18</td>\n",
       "    </tr>\n",
       "    <tr>\n",
       "      <th>19</th>\n",
       "      <td>1991-Jul</td>\n",
       "      <td>18</td>\n",
       "    </tr>\n",
       "    <tr>\n",
       "      <th>20</th>\n",
       "      <td>1999-Nov</td>\n",
       "      <td>18</td>\n",
       "    </tr>\n",
       "  </tbody>\n",
       "</table>\n",
       "</div>"
      ],
      "text/plain": [
       "   month_years  counts\n",
       "1     1999-Dec      53\n",
       "2     1998-Jul      39\n",
       "3     1986-Dec      38\n",
       "4     1998-Dec      36\n",
       "5     1999-Sep      36\n",
       "6     1999-Jun      30\n",
       "7     1999-Aug      28\n",
       "8     1998-Jun      24\n",
       "9     1999-Jan      24\n",
       "10    1998-Oct      22\n",
       "11    1998-Feb      21\n",
       "12    1996-Jul      21\n",
       "13    1999-May      20\n",
       "14    1999-Mar      20\n",
       "15    1992-Jun      19\n",
       "16    1999-Oct      19\n",
       "17    1998-Sep      19\n",
       "18    1998-May      18\n",
       "19    1991-Jul      18\n",
       "20    1999-Nov      18"
      ]
     },
     "execution_count": 27,
     "metadata": {},
     "output_type": "execute_result"
    }
   ],
   "source": [
    "month_years_90=pd.DataFrame({'month_years':['1999-Dec',\n",
    "'1998-Jul',\n",
    "'1986-Dec',\n",
    "'1998-Dec',\n",
    "'1999-Sep',\n",
    "'1999-Jun',\n",
    "'1999-Aug',\n",
    "'1998-Jun',\n",
    "'1999-Jan',\n",
    "'1998-Oct',\n",
    "'1998-Feb',\n",
    "'1996-Jul',\n",
    "'1999-May',\n",
    "'1999-Mar',\n",
    "'1992-Jun',\n",
    "'1999-Oct',\n",
    "'1998-Sep',\n",
    "'1998-May',\n",
    "'1991-Jul',\n",
    "'1999-Nov'],\n",
    "                       \n",
    "'counts':[53,\n",
    "39,\n",
    "38,\n",
    "36,\n",
    "36,\n",
    "30,\n",
    "28,\n",
    "24,\n",
    "24,\n",
    "22,\n",
    "21,\n",
    "21,\n",
    "20,\n",
    "20,\n",
    "19,\n",
    "19,\n",
    "19,\n",
    "18,\n",
    "18,\n",
    "18]},\n",
    "index=[1,2,3,4,5,6,7,8,9,10,11,12,13,14,15,16,17,18,19,20] )\n",
    "\n",
    "month_years_90"
   ]
  },
  {
   "cell_type": "code",
   "execution_count": 28,
   "metadata": {},
   "outputs": [
    {
     "data": {
      "image/png": "[encoded data removed]",
      "text/plain": [
       "<Figure size 432x288 with 1 Axes>"
      ]
     },
     "metadata": {
      "needs_background": "light"
     },
     "output_type": "display_data"
    }
   ],
   "source": [
    "a=month_years_90.month_years\n",
    "b=month_years_90.counts\n",
    "\n",
    "\n",
    "\n",
    "plt.plot(a,b,'k')\n",
    "\n",
    "plt.legend(['month_years','counts'])\n",
    "plt.title('the most effective months for trips')\n",
    "plt.xlabel('month and years')\n",
    "plt.xticks(rotation = 90)\n",
    "plt.ylabel('count')\n",
    "\n",
    "plt.show()"
   ]
  },
  {
   "cell_type": "markdown",
   "metadata": {},
   "source": [
    "For more in-depth study, we will explore the months, and note through the graph that November 1999 is the lowest month for flights\n",
    "\n",
    "On the other hand, December 1999 was the month that witnessed the largest increase in flight activity, with approximately 53 flights for different airlines, and July of 1998 was in second place if it contained 39 flights for various airlines, We note here that the difference = 14 flights. The increase is recorded here for the month of December 1999\n",
    "  December 1986 also witnessed excellent activity, if it recorded 38 flights, which is considered a very good number since it is in 80's"
   ]
  },
  {
   "cell_type": "markdown",
   "metadata": {},
   "source": [
    "------\n",
    "------"
   ]
  },
  {
   "cell_type": "markdown",
   "metadata": {},
   "source": [
    "# after 1/1/2000 :"
   ]
  },
  {
   "cell_type": "code",
   "execution_count": 29,
   "metadata": {},
   "outputs": [
    {
     "data": {
      "text/html": [
       "<div>\n",
       "<style scoped>\n",
       "    .dataframe tbody tr th:only-of-type {\n",
       "        vertical-align: middle;\n",
       "    }\n",
       "\n",
       "    .dataframe tbody tr th {\n",
       "        vertical-align: top;\n",
       "    }\n",
       "\n",
       "    .dataframe thead th {\n",
       "        text-align: right;\n",
       "    }\n",
       "</style>\n",
       "<table border=\"1\" class=\"dataframe\">\n",
       "  <thead>\n",
       "    <tr style=\"text-align: right;\">\n",
       "      <th></th>\n",
       "      <th>years</th>\n",
       "      <th>month_years</th>\n",
       "      <th>tailnum</th>\n",
       "      <th>manufacturer</th>\n",
       "      <th>model</th>\n",
       "      <th>type</th>\n",
       "      <th>engine_type</th>\n",
       "      <th>aircraft_type</th>\n",
       "      <th>status</th>\n",
       "    </tr>\n",
       "  </thead>\n",
       "  <tbody>\n",
       "    <tr>\n",
       "      <th>4081</th>\n",
       "      <td>2000</td>\n",
       "      <td>2000-Dec</td>\n",
       "      <td>N825MH</td>\n",
       "      <td>BOEING</td>\n",
       "      <td>767-432ER</td>\n",
       "      <td>Corporation</td>\n",
       "      <td>Turbo-Jet</td>\n",
       "      <td>Fixed Wing Multi-Engine</td>\n",
       "      <td>Valid</td>\n",
       "    </tr>\n",
       "    <tr>\n",
       "      <th>3732</th>\n",
       "      <td>2000</td>\n",
       "      <td>2000-Nov</td>\n",
       "      <td>N77258</td>\n",
       "      <td>BOEING</td>\n",
       "      <td>737-824</td>\n",
       "      <td>Corporation</td>\n",
       "      <td>Turbo-Fan</td>\n",
       "      <td>Fixed Wing Multi-Engine</td>\n",
       "      <td>Valid</td>\n",
       "    </tr>\n",
       "    <tr>\n",
       "      <th>3742</th>\n",
       "      <td>2000</td>\n",
       "      <td>2000-Aug</td>\n",
       "      <td>N772SW</td>\n",
       "      <td>BOEING</td>\n",
       "      <td>737-7H4</td>\n",
       "      <td>Corporation</td>\n",
       "      <td>Turbo-Fan</td>\n",
       "      <td>Fixed Wing Multi-Engine</td>\n",
       "      <td>Valid</td>\n",
       "    </tr>\n",
       "    <tr>\n",
       "      <th>3746</th>\n",
       "      <td>2000</td>\n",
       "      <td>2000-Jul</td>\n",
       "      <td>N77331</td>\n",
       "      <td>BOMBARDIER INC</td>\n",
       "      <td>CL-600-2B19</td>\n",
       "      <td>Corporation</td>\n",
       "      <td>Turbo-Fan</td>\n",
       "      <td>Fixed Wing Multi-Engine</td>\n",
       "      <td>Valid</td>\n",
       "    </tr>\n",
       "    <tr>\n",
       "      <th>2147</th>\n",
       "      <td>2000</td>\n",
       "      <td>2000-Mar</td>\n",
       "      <td>N503SW</td>\n",
       "      <td>BOEING</td>\n",
       "      <td>737-5H4</td>\n",
       "      <td>Corporation</td>\n",
       "      <td>Turbo-Jet</td>\n",
       "      <td>Fixed Wing Multi-Engine</td>\n",
       "      <td>Valid</td>\n",
       "    </tr>\n",
       "    <tr>\n",
       "      <th>...</th>\n",
       "      <td>...</td>\n",
       "      <td>...</td>\n",
       "      <td>...</td>\n",
       "      <td>...</td>\n",
       "      <td>...</td>\n",
       "      <td>...</td>\n",
       "      <td>...</td>\n",
       "      <td>...</td>\n",
       "      <td>...</td>\n",
       "    </tr>\n",
       "    <tr>\n",
       "      <th>1459</th>\n",
       "      <td>2008</td>\n",
       "      <td>2008-Jun</td>\n",
       "      <td>N378AA</td>\n",
       "      <td>CESSNA</td>\n",
       "      <td>172E</td>\n",
       "      <td>Individual</td>\n",
       "      <td>Reciprocating</td>\n",
       "      <td>Fixed Wing Single-Engine</td>\n",
       "      <td>Valid</td>\n",
       "    </tr>\n",
       "    <tr>\n",
       "      <th>4572</th>\n",
       "      <td>2008</td>\n",
       "      <td>2008-May</td>\n",
       "      <td>N916WN</td>\n",
       "      <td>BOEING</td>\n",
       "      <td>737-7H4</td>\n",
       "      <td>Corporation</td>\n",
       "      <td>Turbo-Fan</td>\n",
       "      <td>Fixed Wing Multi-Engine</td>\n",
       "      <td>Valid</td>\n",
       "    </tr>\n",
       "    <tr>\n",
       "      <th>1404</th>\n",
       "      <td>2008</td>\n",
       "      <td>2008-Mar</td>\n",
       "      <td>N37419</td>\n",
       "      <td>BOEING</td>\n",
       "      <td>737-924ER</td>\n",
       "      <td>Corporation</td>\n",
       "      <td>Turbo-Fan</td>\n",
       "      <td>Fixed Wing Multi-Engine</td>\n",
       "      <td>Valid</td>\n",
       "    </tr>\n",
       "    <tr>\n",
       "      <th>1340</th>\n",
       "      <td>2008</td>\n",
       "      <td>2008-Jan</td>\n",
       "      <td>N368CA</td>\n",
       "      <td>BOMBARDIER INC</td>\n",
       "      <td>CL-600-2C10</td>\n",
       "      <td>Corporation</td>\n",
       "      <td>Turbo-Fan</td>\n",
       "      <td>Fixed Wing Multi-Engine</td>\n",
       "      <td>Valid</td>\n",
       "    </tr>\n",
       "    <tr>\n",
       "      <th>5027</th>\n",
       "      <td>2008</td>\n",
       "      <td>2008-Jul</td>\n",
       "      <td>N999CA</td>\n",
       "      <td>CANADAIR</td>\n",
       "      <td>CL-600-2B19</td>\n",
       "      <td>Foreign Corporation</td>\n",
       "      <td>Turbo-Jet</td>\n",
       "      <td>Fixed Wing Multi-Engine</td>\n",
       "      <td>Valid</td>\n",
       "    </tr>\n",
       "  </tbody>\n",
       "</table>\n",
       "<p>2735 rows × 9 columns</p>\n",
       "</div>"
      ],
      "text/plain": [
       "     years month_years tailnum    manufacturer        model  \\\n",
       "4081  2000    2000-Dec  N825MH          BOEING    767-432ER   \n",
       "3732  2000    2000-Nov  N77258          BOEING      737-824   \n",
       "3742  2000    2000-Aug  N772SW          BOEING      737-7H4   \n",
       "3746  2000    2000-Jul  N77331  BOMBARDIER INC  CL-600-2B19   \n",
       "2147  2000    2000-Mar  N503SW          BOEING      737-5H4   \n",
       "...    ...         ...     ...             ...          ...   \n",
       "1459  2008    2008-Jun  N378AA          CESSNA         172E   \n",
       "4572  2008    2008-May  N916WN          BOEING      737-7H4   \n",
       "1404  2008    2008-Mar  N37419          BOEING    737-924ER   \n",
       "1340  2008    2008-Jan  N368CA  BOMBARDIER INC  CL-600-2C10   \n",
       "5027  2008    2008-Jul  N999CA        CANADAIR  CL-600-2B19   \n",
       "\n",
       "                     type    engine_type             aircraft_type status  \n",
       "4081          Corporation      Turbo-Jet   Fixed Wing Multi-Engine  Valid  \n",
       "3732          Corporation      Turbo-Fan   Fixed Wing Multi-Engine  Valid  \n",
       "3742          Corporation      Turbo-Fan   Fixed Wing Multi-Engine  Valid  \n",
       "3746          Corporation      Turbo-Fan   Fixed Wing Multi-Engine  Valid  \n",
       "2147          Corporation      Turbo-Jet   Fixed Wing Multi-Engine  Valid  \n",
       "...                   ...            ...                       ...    ...  \n",
       "1459           Individual  Reciprocating  Fixed Wing Single-Engine  Valid  \n",
       "4572          Corporation      Turbo-Fan   Fixed Wing Multi-Engine  Valid  \n",
       "1404          Corporation      Turbo-Fan   Fixed Wing Multi-Engine  Valid  \n",
       "1340          Corporation      Turbo-Fan   Fixed Wing Multi-Engine  Valid  \n",
       "5027  Foreign Corporation      Turbo-Jet   Fixed Wing Multi-Engine  Valid  \n",
       "\n",
       "[2735 rows x 9 columns]"
      ]
     },
     "execution_count": 29,
     "metadata": {},
     "output_type": "execute_result"
    }
   ],
   "source": [
    "\n",
    "after_2000=data_archive.loc[data_archive['years'] > '1999' ,['years','month_years','tailnum','manufacturer',\n",
    "                                     'model','type','engine_type','aircraft_type','status']].sort_values('years')\n",
    "after_2000"
   ]
  },
  {
   "cell_type": "markdown",
   "metadata": {},
   "source": [
    "## 5) What are the years that recorded the highest record after 1/1/2000 ?"
   ]
  },
  {
   "cell_type": "code",
   "execution_count": 30,
   "metadata": {},
   "outputs": [
    {
     "data": {
      "text/plain": [
       "2004    454\n",
       "2007    335\n",
       "2005    334\n",
       "2001    332\n",
       "2003    318\n",
       "2000    311\n",
       "2002    305\n",
       "2006    245\n",
       "2008    101\n",
       "Name: years, dtype: int64"
      ]
     },
     "execution_count": 30,
     "metadata": {},
     "output_type": "execute_result"
    }
   ],
   "source": [
    "after_2000.years.value_counts()"
   ]
  },
  {
   "cell_type": "code",
   "execution_count": 31,
   "metadata": {},
   "outputs": [
    {
     "name": "stderr",
     "output_type": "stream",
     "text": [
      "/Users/losh/opt/anaconda3/lib/python3.8/site-packages/seaborn/distributions.py:2551: FutureWarning: `distplot` is a deprecated function and will be removed in a future version. Please adapt your code to use either `displot` (a figure-level function with similar flexibility) or `histplot` (an axes-level function for histograms).\n",
      "  warnings.warn(msg, FutureWarning)\n"
     ]
    },
    {
     "data": {
      "image/png": "[encoded data removed]",
      "text/plain": [
       "<Figure size 432x288 with 1 Axes>"
      ]
     },
     "metadata": {
      "needs_background": "light"
     },
     "output_type": "display_data"
    }
   ],
   "source": [
    "from scipy.stats import norm\n",
    "sns.distplot(after_2000.years, fit=norm );\n",
    "plt.title(' after 1/1/2000');"
   ]
  },
  {
   "cell_type": "markdown",
   "metadata": {},
   "source": [
    "It is clear that the new millennium years began with high inflation in the airline industry, there is a high jump starting in 2001, which witnessed 332 different flights.\n",
    "And the year that contain a high record in air travel is the year 2004, when 454 different flights were monitored."
   ]
  },
  {
   "cell_type": "markdown",
   "metadata": {},
   "source": [
    "## 6) What are the months affected the most by the aviation industry?"
   ]
  },
  {
   "cell_type": "code",
   "execution_count": 32,
   "metadata": {},
   "outputs": [
    {
     "data": {
      "text/plain": [
       "2004-May    99\n",
       "2005-Sep    74\n",
       "2000-Oct    64\n",
       "2004-Apr    53\n",
       "2003-Jun    52\n",
       "2001-May    46\n",
       "2000-Aug    43\n",
       "2007-Jul    41\n",
       "2007-Dec    41\n",
       "2004-Oct    41\n",
       "2005-Feb    39\n",
       "2007-Jun    39\n",
       "2004-Jun    38\n",
       "2002-Jan    38\n",
       "2007-Aug    37\n",
       "2006-Feb    37\n",
       "2002-May    37\n",
       "2000-Sep    37\n",
       "2006-Jul    34\n",
       "2000-Nov    34\n",
       "Name: month_years, dtype: int64"
      ]
     },
     "execution_count": 32,
     "metadata": {},
     "output_type": "execute_result"
    }
   ],
   "source": [
    "month_years=after_2000['month_years'].value_counts()\n",
    "month_years.head(20)"
   ]
  },
  {
   "cell_type": "code",
   "execution_count": 33,
   "metadata": {},
   "outputs": [
    {
     "data": {
      "text/html": [
       "<div>\n",
       "<style scoped>\n",
       "    .dataframe tbody tr th:only-of-type {\n",
       "        vertical-align: middle;\n",
       "    }\n",
       "\n",
       "    .dataframe tbody tr th {\n",
       "        vertical-align: top;\n",
       "    }\n",
       "\n",
       "    .dataframe thead th {\n",
       "        text-align: right;\n",
       "    }\n",
       "</style>\n",
       "<table border=\"1\" class=\"dataframe\">\n",
       "  <thead>\n",
       "    <tr style=\"text-align: right;\">\n",
       "      <th></th>\n",
       "      <th>month</th>\n",
       "      <th>counts</th>\n",
       "    </tr>\n",
       "  </thead>\n",
       "  <tbody>\n",
       "    <tr>\n",
       "      <th>1</th>\n",
       "      <td>2004-May</td>\n",
       "      <td>99</td>\n",
       "    </tr>\n",
       "    <tr>\n",
       "      <th>2</th>\n",
       "      <td>2005-Sep</td>\n",
       "      <td>74</td>\n",
       "    </tr>\n",
       "    <tr>\n",
       "      <th>3</th>\n",
       "      <td>2000-Oct</td>\n",
       "      <td>64</td>\n",
       "    </tr>\n",
       "    <tr>\n",
       "      <th>4</th>\n",
       "      <td>2004-Apr</td>\n",
       "      <td>53</td>\n",
       "    </tr>\n",
       "    <tr>\n",
       "      <th>5</th>\n",
       "      <td>2003-Jun</td>\n",
       "      <td>52</td>\n",
       "    </tr>\n",
       "    <tr>\n",
       "      <th>6</th>\n",
       "      <td>2001-May</td>\n",
       "      <td>46</td>\n",
       "    </tr>\n",
       "    <tr>\n",
       "      <th>7</th>\n",
       "      <td>2000-Aug</td>\n",
       "      <td>43</td>\n",
       "    </tr>\n",
       "    <tr>\n",
       "      <th>8</th>\n",
       "      <td>2004-Oct</td>\n",
       "      <td>41</td>\n",
       "    </tr>\n",
       "    <tr>\n",
       "      <th>9</th>\n",
       "      <td>2007-Dec</td>\n",
       "      <td>41</td>\n",
       "    </tr>\n",
       "    <tr>\n",
       "      <th>10</th>\n",
       "      <td>2007-Jul</td>\n",
       "      <td>41</td>\n",
       "    </tr>\n",
       "    <tr>\n",
       "      <th>11</th>\n",
       "      <td>2007-Jun</td>\n",
       "      <td>39</td>\n",
       "    </tr>\n",
       "    <tr>\n",
       "      <th>12</th>\n",
       "      <td>2005-Feb</td>\n",
       "      <td>39</td>\n",
       "    </tr>\n",
       "    <tr>\n",
       "      <th>13</th>\n",
       "      <td>2002-Jan</td>\n",
       "      <td>38</td>\n",
       "    </tr>\n",
       "    <tr>\n",
       "      <th>14</th>\n",
       "      <td>2004-Jun</td>\n",
       "      <td>38</td>\n",
       "    </tr>\n",
       "    <tr>\n",
       "      <th>15</th>\n",
       "      <td>2006-Feb</td>\n",
       "      <td>37</td>\n",
       "    </tr>\n",
       "    <tr>\n",
       "      <th>16</th>\n",
       "      <td>2000-Sep</td>\n",
       "      <td>37</td>\n",
       "    </tr>\n",
       "    <tr>\n",
       "      <th>17</th>\n",
       "      <td>2007-Aug</td>\n",
       "      <td>37</td>\n",
       "    </tr>\n",
       "    <tr>\n",
       "      <th>18</th>\n",
       "      <td>2002-May</td>\n",
       "      <td>37</td>\n",
       "    </tr>\n",
       "    <tr>\n",
       "      <th>19</th>\n",
       "      <td>2006-Jul</td>\n",
       "      <td>34</td>\n",
       "    </tr>\n",
       "    <tr>\n",
       "      <th>20</th>\n",
       "      <td>2001-Aug</td>\n",
       "      <td>34</td>\n",
       "    </tr>\n",
       "  </tbody>\n",
       "</table>\n",
       "</div>"
      ],
      "text/plain": [
       "       month  counts\n",
       "1   2004-May      99\n",
       "2   2005-Sep      74\n",
       "3   2000-Oct      64\n",
       "4   2004-Apr      53\n",
       "5   2003-Jun      52\n",
       "6   2001-May      46\n",
       "7   2000-Aug      43\n",
       "8   2004-Oct      41\n",
       "9   2007-Dec      41\n",
       "10  2007-Jul      41\n",
       "11  2007-Jun      39\n",
       "12  2005-Feb      39\n",
       "13  2002-Jan      38\n",
       "14  2004-Jun      38\n",
       "15  2006-Feb      37\n",
       "16  2000-Sep      37\n",
       "17  2007-Aug      37\n",
       "18  2002-May      37\n",
       "19  2006-Jul      34\n",
       "20  2001-Aug      34"
      ]
     },
     "execution_count": 33,
     "metadata": {},
     "output_type": "execute_result"
    }
   ],
   "source": [
    "\n",
    "\n",
    "\n",
    "most_month=pd.DataFrame(\n",
    "{'month':[\n",
    "'2004-May',\n",
    "'2005-Sep',\n",
    "'2000-Oct',\n",
    "'2004-Apr',\n",
    "'2003-Jun',\n",
    "'2001-May',\n",
    "'2000-Aug',\n",
    "'2004-Oct',\n",
    "'2007-Dec',\n",
    "'2007-Jul',\n",
    "'2007-Jun',\n",
    "'2005-Feb',\n",
    "'2002-Jan',\n",
    "'2004-Jun',\n",
    "'2006-Feb',\n",
    "'2000-Sep',\n",
    "'2007-Aug',\n",
    "'2002-May',\n",
    "'2006-Jul',\n",
    "'2001-Aug'],\n",
    "    \n",
    "\n",
    "'counts':[99,\n",
    "74,\n",
    "64,\n",
    "53,\n",
    "52,\n",
    "46,\n",
    "43,\n",
    "41,\n",
    "41,\n",
    "41,\n",
    "39,\n",
    "39,\n",
    "38,\n",
    "38,\n",
    "37,\n",
    "37,\n",
    "37,\n",
    "37,\n",
    "34,\n",
    "34]},\n",
    "\n",
    "index=[1,2,3,4,5,6,7,8,9,10,11,12,13,14,15,16,17,18,19,20] )\n",
    "\n",
    "most_month"
   ]
  },
  {
   "cell_type": "code",
   "execution_count": 34,
   "metadata": {},
   "outputs": [
    {
     "data": {
      "image/png": "[encoded data removed]",
      "text/plain": [
       "<Figure size 432x288 with 1 Axes>"
      ]
     },
     "metadata": {
      "needs_background": "light"
     },
     "output_type": "display_data"
    }
   ],
   "source": [
    "a=most_month.month\n",
    "b=most_month.counts\n",
    "\n",
    "\n",
    "\n",
    "plt.plot(a,b,'k')\n",
    "\n",
    "plt.legend(['month_years','counts'])\n",
    "plt.title('The growth of the aviation industry')\n",
    "plt.xlabel('month_years')\n",
    "plt.xticks(rotation = 90)\n",
    "plt.ylabel('counts')\n",
    "\n",
    "plt.show()"
   ]
  },
  {
   "cell_type": "markdown",
   "metadata": {},
   "source": [
    "We note the air industrial jump that occurred in the new millennium, it is clear that there is growth in the aviation industry, as the month of May of 2004 recorded a high record of flights, 99 flights for various airlines\n",
    "While 74 flights were recorded in September of 2005, that is, there is a difference of 25 flights in the record of May of 2004, \"I expect that there was an occasion in that month.\""
   ]
  },
  {
   "cell_type": "markdown",
   "metadata": {},
   "source": [
    "We also note that over 8 months, there has been a noticeable flight activity, which is months in a period extending from 2000-2005\n",
    "= 429"
   ]
  },
  {
   "cell_type": "markdown",
   "metadata": {},
   "source": [
    "## 7) What is the conclusion and perception of the increase in the number of years and the number of trips during the mentioned period ?"
   ]
  },
  {
   "cell_type": "markdown",
   "metadata": {},
   "source": [
    "> Aviation is one of the most “global” industries: connecting people, cultures and businesses across continents. Colleagues throughout the sector are committed to raising awareness of the benefits and the role of aviation. It is necessary for all stakeholders and partners to work together to maximize the benefits of air transport, and to support the sustainable growth of aviation by connecting more people and more places, more often.\n",
    "\n",
    "Aviation has continued to expand. It has weathered crises and demonstrated long-term resilience, becoming an indispensable means of transport. Historically, air transport has doubled in size every 15 years and has grown faster than most other industries. In 2016, airlines worldwide carried around 3.8 billion passengers annually with 7.1 trillion revenue passenger kilometres (RPKs). Fifty three million tonnes of freight were transported by air, reaching 205 billion freight tonne kilometres (FTKs). Every day, around 100,000 flights transport over 10 million passengers and around USD18 billion worth of goods."
   ]
  },
  {
   "cell_type": "markdown",
   "metadata": {},
   "source": [
    "----\n",
    "----"
   ]
  },
  {
   "cell_type": "markdown",
   "metadata": {},
   "source": [
    "# B- The manufacturer's"
   ]
  },
  {
   "cell_type": "markdown",
   "metadata": {},
   "source": [
    "![](pl10.jpg)"
   ]
  },
  {
   "cell_type": "markdown",
   "metadata": {},
   "source": [
    "## 1) What are the most powerful companies in the aviation industry?"
   ]
  },
  {
   "cell_type": "code",
   "execution_count": 35,
   "metadata": {},
   "outputs": [
    {
     "data": {
      "text/plain": [
       "BOEING                            2025\n",
       "EMBRAER                            569\n",
       "BOMBARDIER INC                     520\n",
       "AIRBUS INDUSTRIE                   422\n",
       "MCDONNELL DOUGLAS                  252\n",
       "AIRBUS                             237\n",
       "MCDONNELL DOUGLAS AIRCRAFT CO      105\n",
       "CANADAIR                            85\n",
       "DOUGLAS                             36\n",
       "DEHAVILLAND                         15\n",
       "MCDONNELL DOUGLAS CORPORATION       14\n",
       "CESSNA                              12\n",
       "PIPER                                6\n",
       "BEECH                                5\n",
       "SAAB-SCANIA                          5\n",
       "AEROSPATIALE/ALENIA                  4\n",
       "MAULE                                2\n",
       "GULFSTREAM AEROSPACE                 2\n",
       "MARZ BARRY                           1\n",
       "BELL                                 1\n",
       "MORSE GEORGE JR                      1\n",
       "LEBLANC GLENN T                      1\n",
       "COBB INTL/DBA ROTORWAY INTL IN       1\n",
       "SIKORSKY                             1\n",
       "AERONCA                              1\n",
       "HELIO                                1\n",
       "BOEING OF CANADA LTD                 1\n",
       "FRIEDEMANN JON                       1\n",
       "DIAMOND AIRCRAFT IND INC             1\n",
       "AGUSTA SPA                           1\n",
       "STINNETT RON                         1\n",
       "AVIAT AIRCRAFT INC                   1\n",
       "AERO COMMANDER                       1\n",
       "WOBIG WAYNE R                        1\n",
       "Name: manufacturer, dtype: int64"
      ]
     },
     "execution_count": 35,
     "metadata": {},
     "output_type": "execute_result"
    }
   ],
   "source": [
    "manufacturer=data_archive['manufacturer'].value_counts()\n",
    "manufacturer"
   ]
  },
  {
   "cell_type": "code",
   "execution_count": 36,
   "metadata": {},
   "outputs": [
    {
     "data": {
      "text/plain": [
       "4332"
      ]
     },
     "execution_count": 36,
     "metadata": {},
     "output_type": "execute_result"
    }
   ],
   "source": [
    "manufacturer_1=data_archive['manufacturer'].value_counts()\n",
    "\n",
    "manufacturer_1.sum(axis=0)"
   ]
  },
  {
   "cell_type": "code",
   "execution_count": 37,
   "metadata": {},
   "outputs": [
    {
     "data": {
      "text/html": [
       "<div>\n",
       "<style scoped>\n",
       "    .dataframe tbody tr th:only-of-type {\n",
       "        vertical-align: middle;\n",
       "    }\n",
       "\n",
       "    .dataframe tbody tr th {\n",
       "        vertical-align: top;\n",
       "    }\n",
       "\n",
       "    .dataframe thead th {\n",
       "        text-align: right;\n",
       "    }\n",
       "</style>\n",
       "<table border=\"1\" class=\"dataframe\">\n",
       "  <thead>\n",
       "    <tr style=\"text-align: right;\">\n",
       "      <th></th>\n",
       "      <th>manufacturer</th>\n",
       "      <th>counts</th>\n",
       "    </tr>\n",
       "  </thead>\n",
       "  <tbody>\n",
       "    <tr>\n",
       "      <th>1</th>\n",
       "      <td>BOEING</td>\n",
       "      <td>2025</td>\n",
       "    </tr>\n",
       "    <tr>\n",
       "      <th>2</th>\n",
       "      <td>EMBRAER</td>\n",
       "      <td>569</td>\n",
       "    </tr>\n",
       "    <tr>\n",
       "      <th>3</th>\n",
       "      <td>BOMBARDIER INC</td>\n",
       "      <td>520</td>\n",
       "    </tr>\n",
       "    <tr>\n",
       "      <th>4</th>\n",
       "      <td>AIRBUS INDUSTRIE</td>\n",
       "      <td>422</td>\n",
       "    </tr>\n",
       "    <tr>\n",
       "      <th>5</th>\n",
       "      <td>MCDONNELL DOUGLAS</td>\n",
       "      <td>252</td>\n",
       "    </tr>\n",
       "    <tr>\n",
       "      <th>6</th>\n",
       "      <td>AIRBUS</td>\n",
       "      <td>237</td>\n",
       "    </tr>\n",
       "    <tr>\n",
       "      <th>7</th>\n",
       "      <td>MCDONNELL DOUGLAS AIRCRAFT CO</td>\n",
       "      <td>105</td>\n",
       "    </tr>\n",
       "    <tr>\n",
       "      <th>8</th>\n",
       "      <td>CANADAIR</td>\n",
       "      <td>85</td>\n",
       "    </tr>\n",
       "    <tr>\n",
       "      <th>9</th>\n",
       "      <td>DOUGLAS</td>\n",
       "      <td>36</td>\n",
       "    </tr>\n",
       "    <tr>\n",
       "      <th>10</th>\n",
       "      <td>DEHAVILLAND</td>\n",
       "      <td>15</td>\n",
       "    </tr>\n",
       "    <tr>\n",
       "      <th>11</th>\n",
       "      <td>MCDONNELL DOUGLAS CORPORATION</td>\n",
       "      <td>14</td>\n",
       "    </tr>\n",
       "    <tr>\n",
       "      <th>12</th>\n",
       "      <td>CESSNA</td>\n",
       "      <td>12</td>\n",
       "    </tr>\n",
       "    <tr>\n",
       "      <th>13</th>\n",
       "      <td>PIPER</td>\n",
       "      <td>6</td>\n",
       "    </tr>\n",
       "  </tbody>\n",
       "</table>\n",
       "</div>"
      ],
      "text/plain": [
       "                     manufacturer  counts\n",
       "1                          BOEING    2025\n",
       "2                         EMBRAER     569\n",
       "3                  BOMBARDIER INC     520\n",
       "4                AIRBUS INDUSTRIE     422\n",
       "5               MCDONNELL DOUGLAS     252\n",
       "6                          AIRBUS     237\n",
       "7   MCDONNELL DOUGLAS AIRCRAFT CO     105\n",
       "8                        CANADAIR      85\n",
       "9                         DOUGLAS      36\n",
       "10                    DEHAVILLAND      15\n",
       "11  MCDONNELL DOUGLAS CORPORATION      14\n",
       "12                         CESSNA      12\n",
       "13                          PIPER       6"
      ]
     },
     "execution_count": 37,
     "metadata": {},
     "output_type": "execute_result"
    }
   ],
   "source": [
    "most_manufacturer_all_years=pd.DataFrame(\n",
    "{'manufacturer':['BOEING',\n",
    "'EMBRAER',\n",
    "'BOMBARDIER INC',\n",
    "'AIRBUS INDUSTRIE',\n",
    "'MCDONNELL DOUGLAS',\n",
    "'AIRBUS',\n",
    "'MCDONNELL DOUGLAS AIRCRAFT CO',\n",
    "'CANADAIR',\n",
    "'DOUGLAS',\n",
    "'DEHAVILLAND',\n",
    "'MCDONNELL DOUGLAS CORPORATION',\n",
    "'CESSNA',\n",
    "'PIPER']\n",
    ",\n",
    "                       \n",
    "'counts':[2025,\n",
    "569,\n",
    "520,\n",
    "422,\n",
    "252,\n",
    "237,\n",
    "105,\n",
    "85,\n",
    "36,\n",
    "15,\n",
    "14,\n",
    "12,\n",
    "6]},\n",
    "\n",
    "index=[1,2,3,4,5,6,7,8,9,10,11,12,13] )\n",
    "\n",
    "most_manufacturer_all_years"
   ]
  },
  {
   "cell_type": "code",
   "execution_count": 38,
   "metadata": {},
   "outputs": [
    {
     "data": {
      "image/png": "[encoded data removed]",
      "text/plain": [
       "<Figure size 1080x720 with 1 Axes>"
      ]
     },
     "metadata": {},
     "output_type": "display_data"
    }
   ],
   "source": [
    "fig, ax = plt.subplots(figsize=(15, 10), subplot_kw=dict(aspect=\"equal\"))\n",
    "\n",
    "recipe = [\n",
    "'2025 BOEING',                            \n",
    "'569 EMBRAER',                           \n",
    "'520 BOMBARDIER INC',                     \n",
    "'422 AIRBUS INDUSTRIE',                   \n",
    "'252 MCDONNELL DOUGLAS',                  \n",
    "'237 AIRBUS',                             \n",
    "'105  MCDONNELL DOUGLAS AIRCRAFT CO',      \n",
    "]\n",
    "\n",
    "data = [float(x.split()[0]) for x in recipe]\n",
    "ingredients = [x.split()[-1] for x in recipe]\n",
    "\n",
    "\n",
    "def func(pct, allvals):\n",
    "    absolute = int(pct/100.*np.sum(allvals))\n",
    "    return \"{:.1f}%\\n({:d} )\".format(pct, absolute)\n",
    "\n",
    "plt.xticks(rotation = 90);\n",
    "wedges, texts, autotexts = ax.pie(data, autopct=lambda pct: func(pct, data),\n",
    "                                  textprops=dict(color=\"w\"))\n",
    "\n",
    "ax.legend(wedges, ingredients,\n",
    "          title=\"manufacturer\",\n",
    "          loc=\"center left\",\n",
    "          bbox_to_anchor=(1, 0, 0.5, 1))\n",
    "\n",
    "plt.setp(autotexts, size=8, weight=\"bold\")\n",
    "\n",
    "ax.set_title(\"The percentage of manufacturer activity [1976-2008]\")\n",
    "\n",
    "plt.show()\n"
   ]
  },
  {
   "cell_type": "markdown",
   "metadata": {},
   "source": [
    "At the level of the two decades, the most active company is BOEING, where there are about 2025 in its records, starting from 1984-2008, which is a total of 49% of all the remaining flights for the different companies in that period of time."
   ]
  },
  {
   "cell_type": "markdown",
   "metadata": {},
   "source": [
    "In second place is EMBRAER, with a rate of 14%, it recorded 568 different flights in its balance from 1993 to 2008."
   ]
  },
  {
   "cell_type": "markdown",
   "metadata": {},
   "source": [
    "## 2) What were the manufacturer's statistics before 1/1/2000?"
   ]
  },
  {
   "cell_type": "code",
   "execution_count": 39,
   "metadata": {},
   "outputs": [
    {
     "data": {
      "text/plain": [
       "BOEING                            884\n",
       "MCDONNELL DOUGLAS                 212\n",
       "AIRBUS INDUSTRIE                  145\n",
       "EMBRAER                           133\n",
       "MCDONNELL DOUGLAS AIRCRAFT CO      77\n",
       "CANADAIR                           52\n",
       "DOUGLAS                            32\n",
       "MCDONNELL DOUGLAS CORPORATION      14\n",
       "BOMBARDIER INC                     12\n",
       "DEHAVILLAND                         9\n",
       "CESSNA                              7\n",
       "SAAB-SCANIA                         5\n",
       "PIPER                               3\n",
       "MAULE                               2\n",
       "BEECH                               2\n",
       "GULFSTREAM AEROSPACE                1\n",
       "STINNETT RON                        1\n",
       "AERO COMMANDER                      1\n",
       "MORSE GEORGE JR                     1\n",
       "MARZ BARRY                          1\n",
       "LEBLANC GLENN T                     1\n",
       "COBB INTL/DBA ROTORWAY INTL IN      1\n",
       "AERONCA                             1\n",
       "Name: manufacturer, dtype: int64"
      ]
     },
     "execution_count": 39,
     "metadata": {},
     "output_type": "execute_result"
    }
   ],
   "source": [
    "manufacturer=before_2000['manufacturer'].value_counts()\n",
    "manufacturer"
   ]
  },
  {
   "cell_type": "code",
   "execution_count": 40,
   "metadata": {},
   "outputs": [
    {
     "data": {
      "text/html": [
       "<div>\n",
       "<style scoped>\n",
       "    .dataframe tbody tr th:only-of-type {\n",
       "        vertical-align: middle;\n",
       "    }\n",
       "\n",
       "    .dataframe tbody tr th {\n",
       "        vertical-align: top;\n",
       "    }\n",
       "\n",
       "    .dataframe thead th {\n",
       "        text-align: right;\n",
       "    }\n",
       "</style>\n",
       "<table border=\"1\" class=\"dataframe\">\n",
       "  <thead>\n",
       "    <tr style=\"text-align: right;\">\n",
       "      <th></th>\n",
       "      <th>manufacturer</th>\n",
       "      <th>counts</th>\n",
       "    </tr>\n",
       "  </thead>\n",
       "  <tbody>\n",
       "    <tr>\n",
       "      <th>1</th>\n",
       "      <td>BOEING</td>\n",
       "      <td>884</td>\n",
       "    </tr>\n",
       "    <tr>\n",
       "      <th>2</th>\n",
       "      <td>MCDONNELL DOUGLAS</td>\n",
       "      <td>212</td>\n",
       "    </tr>\n",
       "    <tr>\n",
       "      <th>3</th>\n",
       "      <td>AIRBUS INDUSTRIE</td>\n",
       "      <td>145</td>\n",
       "    </tr>\n",
       "    <tr>\n",
       "      <th>4</th>\n",
       "      <td>EMBRAER</td>\n",
       "      <td>133</td>\n",
       "    </tr>\n",
       "    <tr>\n",
       "      <th>5</th>\n",
       "      <td>MCDONNELL DOUGLAS AIRCRAFT CO</td>\n",
       "      <td>77</td>\n",
       "    </tr>\n",
       "    <tr>\n",
       "      <th>6</th>\n",
       "      <td>CANADAIR</td>\n",
       "      <td>52</td>\n",
       "    </tr>\n",
       "    <tr>\n",
       "      <th>7</th>\n",
       "      <td>DOUGLAS</td>\n",
       "      <td>32</td>\n",
       "    </tr>\n",
       "    <tr>\n",
       "      <th>8</th>\n",
       "      <td>MCDONNELL DOUGLAS CORPORATION</td>\n",
       "      <td>14</td>\n",
       "    </tr>\n",
       "    <tr>\n",
       "      <th>9</th>\n",
       "      <td>BOMBARDIER INC</td>\n",
       "      <td>12</td>\n",
       "    </tr>\n",
       "    <tr>\n",
       "      <th>10</th>\n",
       "      <td>DEHAVILLAND</td>\n",
       "      <td>9</td>\n",
       "    </tr>\n",
       "  </tbody>\n",
       "</table>\n",
       "</div>"
      ],
      "text/plain": [
       "                     manufacturer  counts\n",
       "1                          BOEING     884\n",
       "2               MCDONNELL DOUGLAS     212\n",
       "3                AIRBUS INDUSTRIE     145\n",
       "4                         EMBRAER     133\n",
       "5   MCDONNELL DOUGLAS AIRCRAFT CO      77\n",
       "6                        CANADAIR      52\n",
       "7                         DOUGLAS      32\n",
       "8   MCDONNELL DOUGLAS CORPORATION      14\n",
       "9                  BOMBARDIER INC      12\n",
       "10                    DEHAVILLAND       9"
      ]
     },
     "execution_count": 40,
     "metadata": {},
     "output_type": "execute_result"
    }
   ],
   "source": [
    "old_manufacturer=pd.DataFrame(\n",
    "{'manufacturer':['BOEING',\n",
    "'MCDONNELL DOUGLAS',\n",
    "'AIRBUS INDUSTRIE',\n",
    "'EMBRAER',\n",
    "'MCDONNELL DOUGLAS AIRCRAFT CO',\n",
    "'CANADAIR',\n",
    "'DOUGLAS',\n",
    "'MCDONNELL DOUGLAS CORPORATION',\n",
    "'BOMBARDIER INC',\n",
    "'DEHAVILLAND'],\n",
    "                       \n",
    "'counts':[884,\n",
    "212,\n",
    "145,\n",
    "133,\n",
    "77,\n",
    "52,\n",
    "32,\n",
    "14,\n",
    "12,\n",
    "9]},\n",
    "\n",
    "index=[1,2,3,4,5,6,7,8,9,10])\n",
    "\n",
    "old_manufacturer\n",
    "          \n",
    "              \n",
    "   "
   ]
  },
  {
   "cell_type": "code",
   "execution_count": 41,
   "metadata": {},
   "outputs": [
    {
     "data": {
      "image/png": "[encoded data removed]",
      "text/plain": [
       "<Figure size 1080x720 with 1 Axes>"
      ]
     },
     "metadata": {},
     "output_type": "display_data"
    }
   ],
   "source": [
    "fig, ax = plt.subplots(figsize=(15, 10), subplot_kw=dict(aspect=\"equal\"))\n",
    "\n",
    "recipe = ['884  BOEING ',\n",
    "'212  MCDONNELL DOUGLAS',\n",
    "'145 AIRBUS INDUSTRIE ',\n",
    "'133 EMBRAER ',\n",
    "'77 MCDONNELL DOUGLAS AIRCRAFT CO',\n",
    "'52 CANADAIR',\n",
    "'32 DOUGLAS'\n",
    " ]\n",
    "\n",
    "data = [float(x.split()[0]) for x in recipe]\n",
    "ingredients = [x.split()[-1] for x in recipe]\n",
    "\n",
    "\n",
    "def func(pct, allvals):\n",
    "    absolute = int(pct/100.*np.sum(allvals))\n",
    "    return \"{:.1f}%\\n({:d} )\".format(pct, absolute)\n",
    "\n",
    "plt.xticks(rotation = 90);\n",
    "wedges, texts, autotexts = ax.pie(data, autopct=lambda pct: func(pct, data),\n",
    "                                  textprops=dict(color=\"w\"))\n",
    "\n",
    "ax.legend(wedges, ingredients,\n",
    "          title=\"manufacturer\",\n",
    "          loc=\"center left\",\n",
    "          bbox_to_anchor=(1, 0, 0.5, 1))\n",
    "\n",
    "plt.setp(autotexts, size=8, weight=\"bold\")\n",
    "\n",
    "ax.set_title(\"The percentage of manufacturer activity [1976-1999]\")\n",
    "\n",
    "plt.show()\n"
   ]
  },
  {
   "cell_type": "markdown",
   "metadata": {},
   "source": [
    "Pre-2000,\n",
    "The most effective company in the aviation industry is the rising company BOEING, with a 58% rate and 884 different flights\n",
    "\n",
    "With a difference of 672 flights from the first place and by 14%, MCDONNELL DOUGLAS ranks second with a score of 212 different flights,\n",
    "\n",
    "In third place with 9% was AIRBUS INDUSTRIE with a score of 133 different flights"
   ]
  },
  {
   "cell_type": "markdown",
   "metadata": {},
   "source": [
    "## 3) What are the manufacturer's statistics after 1/1/2000?"
   ]
  },
  {
   "cell_type": "code",
   "execution_count": 42,
   "metadata": {},
   "outputs": [
    {
     "data": {
      "text/plain": [
       "BOEING                           1141\n",
       "BOMBARDIER INC                    508\n",
       "EMBRAER                           436\n",
       "AIRBUS INDUSTRIE                  277\n",
       "AIRBUS                            237\n",
       "MCDONNELL DOUGLAS                  40\n",
       "CANADAIR                           33\n",
       "MCDONNELL DOUGLAS AIRCRAFT CO      28\n",
       "DEHAVILLAND                         6\n",
       "CESSNA                              5\n",
       "AEROSPATIALE/ALENIA                 4\n",
       "DOUGLAS                             4\n",
       "BEECH                               3\n",
       "PIPER                               3\n",
       "BELL                                1\n",
       "HELIO                               1\n",
       "SIKORSKY                            1\n",
       "BOEING OF CANADA LTD                1\n",
       "WOBIG WAYNE R                       1\n",
       "AGUSTA SPA                          1\n",
       "GULFSTREAM AEROSPACE                1\n",
       "AVIAT AIRCRAFT INC                  1\n",
       "FRIEDEMANN JON                      1\n",
       "DIAMOND AIRCRAFT IND INC            1\n",
       "Name: manufacturer, dtype: int64"
      ]
     },
     "execution_count": 42,
     "metadata": {},
     "output_type": "execute_result"
    }
   ],
   "source": [
    "manufacturer=after_2000['manufacturer'].value_counts()\n",
    "manufacturer"
   ]
  },
  {
   "cell_type": "code",
   "execution_count": 43,
   "metadata": {},
   "outputs": [
    {
     "data": {
      "image/png": "[encoded data removed]",
      "text/plain": [
       "<Figure size 1080x720 with 1 Axes>"
      ]
     },
     "metadata": {},
     "output_type": "display_data"
    }
   ],
   "source": [
    "fig, ax = plt.subplots(figsize=(15, 10), subplot_kw=dict(aspect=\"equal\"))\n",
    "\n",
    "recipe = ['1141  BOEING',\n",
    "'508  BOMBARDIER INC',\n",
    "'436  EMBRAER',\n",
    "'277  AIRBUS INDUSTRIE',\n",
    "'237  AIRBUS',\n",
    "'40  MCDONNELL DOUGLAS',\n",
    "'33  CANADAIR'\n",
    " ]\n",
    "\n",
    "data = [float(x.split()[0]) for x in recipe]\n",
    "ingredients = [x.split()[-1] for x in recipe]\n",
    "\n",
    "\n",
    "def func(pct, allvals):\n",
    "    absolute = int(pct/100.*np.sum(allvals))\n",
    "    return \"{:.1f}%\\n({:d} )\".format(pct, absolute)\n",
    "\n",
    "plt.xticks(rotation = 90);\n",
    "wedges, texts, autotexts = ax.pie(data, autopct=lambda pct: func(pct, data),\n",
    "                                  textprops=dict(color=\"w\"))\n",
    "\n",
    "ax.legend(wedges, ingredients,\n",
    "          title=\"manufacturer\",\n",
    "          loc=\"center left\",\n",
    "          bbox_to_anchor=(1, 0, 0.5, 1))\n",
    "\n",
    "plt.setp(autotexts, size=8, weight=\"bold\")\n",
    "\n",
    "ax.set_title(\"The percentage of manufacturer activity [2000-2008]\")\n",
    "\n",
    "plt.show()"
   ]
  },
  {
   "cell_type": "markdown",
   "metadata": {},
   "source": [
    "After 2000\n",
    "We notice the great leap of BOEING as it moved to record 1141 flights in massive activity in just 8 years after 2000, a great industry and this is 43%\n",
    "\n",
    "Also in the second most powerful airline, BOMBARDIER INC if it has 19% of the operational percentage, i.e. an average of 507 different flights\n",
    "\n",
    "In third place, with 16% operating rate, the airline EMBRAER had 435 different flights"
   ]
  },
  {
   "cell_type": "markdown",
   "metadata": {},
   "source": [
    "## 4) Based on the statistics, what are the expectations of increased growth between companies?\n",
    "\n",
    "1) It is clear that BOEING has a high growth rate during the coming years, as we note that it has a growth rate in the years after 1/1/2000 estimated at 26% and that something from an economic and industrial point of view is very appropriate.\n",
    "\n",
    "2) BOMBARDIER INC is a very strong and growing company in the aviation industry, with a growth rate of 12% company-wide\n",
    "\n",
    "3) The third company with a growth of 10% is EMBRAER"
   ]
  },
  {
   "cell_type": "markdown",
   "metadata": {},
   "source": [
    "---\n",
    "---"
   ]
  },
  {
   "cell_type": "markdown",
   "metadata": {},
   "source": [
    "# C- The Model :"
   ]
  },
  {
   "cell_type": "markdown",
   "metadata": {},
   "source": [
    "![](pl6.jpg)"
   ]
  },
  {
   "cell_type": "markdown",
   "metadata": {},
   "source": [
    "\n",
    "\n",
    "1) From 1976 to 2008 what are the three most popular models among airlines ?!\n",
    "\n",
    "2) What are the models most used in the aviation industry?\n",
    "\n",
    "3) What are the models that were relied upon before 1/1/2000?\n",
    "\n",
    "4) What are the models adopted in the aviation industry after 1/1/2000?"
   ]
  },
  {
   "cell_type": "markdown",
   "metadata": {},
   "source": [
    "## 1) From 1976 to 2008 what are the three most popular models among airlines ?!"
   ]
  },
  {
   "cell_type": "code",
   "execution_count": 44,
   "metadata": {
    "scrolled": true
   },
   "outputs": [
    {
     "data": {
      "text/plain": [
       "CL-600-2B19    383\n",
       "737-7H4        298\n",
       "A320-232       236\n",
       "EMB-145LR      213\n",
       "CL-600-2C10    156\n",
       "              ... \n",
       "737-282          1\n",
       "FALCON-XP        1\n",
       "690A             1\n",
       "DC-7BF           1\n",
       "KITFOX IV        1\n",
       "Name: model, Length: 161, dtype: int64"
      ]
     },
     "execution_count": 44,
     "metadata": {},
     "output_type": "execute_result"
    }
   ],
   "source": [
    "model_1=data_archive['model'].value_counts()\n",
    "model_1"
   ]
  },
  {
   "cell_type": "code",
   "execution_count": 45,
   "metadata": {},
   "outputs": [
    {
     "data": {
      "text/plain": [
       "CL-600-2B19       8.841182\n",
       "737-7H4           6.879040\n",
       "A320-232          5.447830\n",
       "EMB-145LR         4.916898\n",
       "CL-600-2C10       3.601108\n",
       "737-3H4           3.393352\n",
       "DC-9-82(MD-82)    3.277932\n",
       "MD-88             2.700831\n",
       "757-232           2.562327\n",
       "EMB-145XR         2.400739\n",
       "Name: model, dtype: float64"
      ]
     },
     "execution_count": 45,
     "metadata": {},
     "output_type": "execute_result"
    }
   ],
   "source": [
    "model_2=data_archive['model'].value_counts(normalize=True)*100\n",
    "model_2.head(10)"
   ]
  },
  {
   "cell_type": "markdown",
   "metadata": {},
   "source": [
    "# CL-600-2B19 \n",
    "The Bombardier CRJ100 and CRJ200 (formerly known as the Canadair CRJ100 and CRJ200) is a family of regional airliners that was designed and manufactured by Bombardier Aerospace between 1991 and 2006 and is part of the Bombardier CRJ aircraft family. The CRJ was Canada's second civil jet airliner after the single prototype of the Avro Canada C102 Jetliner (which never entered commercial service).\n",
    "\n",
    "\n",
    "\n",
    "\n",
    "\n",
    "# 737-7H4\n",
    "\n",
    "Since its inception Southwest Airlines has almost exclusively operated Boeing 737 aircraft (except for a brief period when it leased and flew some Boeing 727-200 aircraft). Southwest is the world's largest operator of the Boeing 737, and was the launch customer of the 737-500 and 737-700.\n",
    "\n",
    "The Boeing customer code for Southwest Airlines is H4 for the Classic and NG 737s. For example the -700 would be 737-7H4 and the -800 is 737-8H4. These codes do not apply to recent aircraft types including the 737 MAX.\n",
    "\n",
    "\n",
    "# A320-232\n",
    "\n",
    "The Airbus A320 family are narrow-body airliners designed and produced by Airbus. The A320 was launched in March 1984, first flew on 22 February 1987, and was introduced in April 1988 by Air France. The first member of the family was followed by the longer A321 (first delivered in January 1994), the shorter A319 (April 1996), and the even shorter A318 (July 2003). Final assembly takes place in Toulouse in France; Hamburg in Germany; Tianjin in China since 2009; and in Mobile, Alabama in the United States since April 2016.\n"
   ]
  },
  {
   "cell_type": "markdown",
   "metadata": {},
   "source": [
    "## 2)What are the models most used in the aviation industry?"
   ]
  },
  {
   "cell_type": "code",
   "execution_count": 46,
   "metadata": {},
   "outputs": [
    {
     "data": {
      "text/html": [
       "<div>\n",
       "<style scoped>\n",
       "    .dataframe tbody tr th:only-of-type {\n",
       "        vertical-align: middle;\n",
       "    }\n",
       "\n",
       "    .dataframe tbody tr th {\n",
       "        vertical-align: top;\n",
       "    }\n",
       "\n",
       "    .dataframe thead th {\n",
       "        text-align: right;\n",
       "    }\n",
       "</style>\n",
       "<table border=\"1\" class=\"dataframe\">\n",
       "  <thead>\n",
       "    <tr style=\"text-align: right;\">\n",
       "      <th></th>\n",
       "      <th>model</th>\n",
       "      <th>counts</th>\n",
       "    </tr>\n",
       "  </thead>\n",
       "  <tbody>\n",
       "    <tr>\n",
       "      <th>1</th>\n",
       "      <td>CL-600-2B19</td>\n",
       "      <td>383</td>\n",
       "    </tr>\n",
       "    <tr>\n",
       "      <th>2</th>\n",
       "      <td>737-7H4</td>\n",
       "      <td>298</td>\n",
       "    </tr>\n",
       "    <tr>\n",
       "      <th>3</th>\n",
       "      <td>A320-232</td>\n",
       "      <td>236</td>\n",
       "    </tr>\n",
       "    <tr>\n",
       "      <th>4</th>\n",
       "      <td>EMB-145LR</td>\n",
       "      <td>213</td>\n",
       "    </tr>\n",
       "    <tr>\n",
       "      <th>5</th>\n",
       "      <td>CL-600-2C10</td>\n",
       "      <td>156</td>\n",
       "    </tr>\n",
       "    <tr>\n",
       "      <th>6</th>\n",
       "      <td>737-3H4</td>\n",
       "      <td>147</td>\n",
       "    </tr>\n",
       "    <tr>\n",
       "      <th>7</th>\n",
       "      <td>DC-9-82(MD-82)</td>\n",
       "      <td>142</td>\n",
       "    </tr>\n",
       "    <tr>\n",
       "      <th>8</th>\n",
       "      <td>MD-88</td>\n",
       "      <td>117</td>\n",
       "    </tr>\n",
       "    <tr>\n",
       "      <th>9</th>\n",
       "      <td>757-232</td>\n",
       "      <td>111</td>\n",
       "    </tr>\n",
       "    <tr>\n",
       "      <th>10</th>\n",
       "      <td>EMB-145XR</td>\n",
       "      <td>104</td>\n",
       "    </tr>\n",
       "  </tbody>\n",
       "</table>\n",
       "</div>"
      ],
      "text/plain": [
       "             model  counts\n",
       "1      CL-600-2B19     383\n",
       "2          737-7H4     298\n",
       "3         A320-232     236\n",
       "4        EMB-145LR     213\n",
       "5      CL-600-2C10     156\n",
       "6          737-3H4     147\n",
       "7   DC-9-82(MD-82)     142\n",
       "8            MD-88     117\n",
       "9          757-232     111\n",
       "10       EMB-145XR     104"
      ]
     },
     "execution_count": 46,
     "metadata": {},
     "output_type": "execute_result"
    }
   ],
   "source": [
    "most_model=pd.DataFrame(\n",
    "{'model':['CL-600-2B19',\n",
    "'737-7H4',\n",
    "'A320-232',\n",
    "'EMB-145LR',\n",
    "'CL-600-2C10',\n",
    "'737-3H4',\n",
    "'DC-9-82(MD-82)',\n",
    "'MD-88',\n",
    "'757-232',\n",
    "'EMB-145XR']\n",
    ",\n",
    "                       \n",
    "'counts':[383,\n",
    "298,\n",
    "236,\n",
    "213,\n",
    "156,\n",
    "147,\n",
    "142,\n",
    "117,\n",
    "111,\n",
    "104]},\n",
    "\n",
    "index=[1,2,3,4,5,6,7,8,9,10] )\n",
    "\n",
    "most_model"
   ]
  },
  {
   "cell_type": "markdown",
   "metadata": {},
   "source": [
    "## 3) What are the models that were relied upon before 1/1/2000?"
   ]
  },
  {
   "cell_type": "code",
   "execution_count": 47,
   "metadata": {},
   "outputs": [
    {
     "data": {
      "text/plain": [
       "DC-9-82(MD-82)    118\n",
       "737-3H4           106\n",
       "MD-88              91\n",
       "757-232            76\n",
       "CL-600-2B19        64\n",
       "757-222            58\n",
       "767-332            55\n",
       "EMB-145LR          54\n",
       "737-7H4            54\n",
       "737-524            53\n",
       "Name: model, dtype: int64"
      ]
     },
     "execution_count": 47,
     "metadata": {},
     "output_type": "execute_result"
    }
   ],
   "source": [
    "most_model_be2000=before_2000.model.value_counts()\n",
    "most_model_be2000.head(10)"
   ]
  },
  {
   "cell_type": "code",
   "execution_count": 48,
   "metadata": {},
   "outputs": [
    {
     "data": {
      "image/png": "[encoded data removed]",
      "text/plain": [
       "<Figure size 432x288 with 1 Axes>"
      ]
     },
     "metadata": {
      "needs_background": "light"
     },
     "output_type": "display_data"
    }
   ],
   "source": [
    "x =[\n",
    "    \n",
    "'DC-9-82(MD-82)',\n",
    "'737-3H4',\n",
    "'MD-88',\n",
    "'757-232',\n",
    "'CL-600-2B19',\n",
    "'757-222',\n",
    "'767-332',\n",
    "'737-7H4',\n",
    "'EMB-145LR ',\n",
    "'737-524']\n",
    "\n",
    "\n",
    "y = [118,\n",
    "106,\n",
    "91,\n",
    "76,\n",
    "64,\n",
    "58,\n",
    "55,\n",
    "54,\n",
    "54,\n",
    "53]\n",
    "\n",
    "\n",
    "\n",
    "plt.bar(x,y)\n",
    "plt.xlabel(\"model\")\n",
    "plt.ylabel('counts')\n",
    "plt.title('before_1/1/1999')\n",
    "plt.xticks(rotation = 90);\n",
    "\n",
    "plt.show()"
   ]
  },
  {
   "cell_type": "markdown",
   "metadata": {},
   "source": [
    "## What are the models adopted in the aviation industry after 1/1/2000?"
   ]
  },
  {
   "cell_type": "code",
   "execution_count": 49,
   "metadata": {},
   "outputs": [
    {
     "data": {
      "text/plain": [
       "CL-600-2B19    319\n",
       "737-7H4        244\n",
       "A320-232       204\n",
       "EMB-145LR      159\n",
       "CL-600-2C10    156\n",
       "EMB-145XR      104\n",
       "717-200         93\n",
       "CL600-2D24      66\n",
       "737-824         62\n",
       "EMB-135KL       58\n",
       "Name: model, dtype: int64"
      ]
     },
     "execution_count": 49,
     "metadata": {},
     "output_type": "execute_result"
    }
   ],
   "source": [
    "most_model_af2000=after_2000.model.value_counts()\n",
    "most_model_af2000.head(10)"
   ]
  },
  {
   "cell_type": "code",
   "execution_count": 50,
   "metadata": {},
   "outputs": [
    {
     "data": {
      "image/png": "[encoded data removed]",
      "text/plain": [
       "<Figure size 432x288 with 1 Axes>"
      ]
     },
     "metadata": {
      "needs_background": "light"
     },
     "output_type": "display_data"
    }
   ],
   "source": [
    "x = ['CL-600-2B19 ',\n",
    "'737-7H4',\n",
    "'A320-232',\n",
    "'EMB-145LR',\n",
    "'CL-600-2C10',\n",
    "'EMB-145XR',\n",
    "'717-200',\n",
    "'CL600-2D24',\n",
    "'737-824',\n",
    "'EMB-135KL'  \n",
    "]\n",
    "y = [319,\n",
    "244,\n",
    "204,\n",
    "159,\n",
    "156,\n",
    "104,\n",
    "93,\n",
    "66,\n",
    "62,\n",
    "58]\n",
    "#تغير لون محدد في البارت شارت \n",
    "\n",
    "#نضع c هنا \n",
    "plt.bar(x,y)\n",
    "plt.xlabel(\"model\")\n",
    "plt.ylabel('counts')\n",
    "plt.title('after_1/1/2000')\n",
    "plt.xticks(rotation = 90);\n",
    "\n",
    "plt.show()"
   ]
  },
  {
   "cell_type": "markdown",
   "metadata": {},
   "source": [
    "# Conclusions:\n",
    "## 1) The dependency ratio for the models from 1976 to 2008 is as follows:\n",
    "    \n",
    "    \n",
    "- CL-600-2B19 =        9%\n",
    "- 737-7H4  =           7%\n",
    "- A320-232  =          5%\n",
    "- EMB-145LR  =         5%\n",
    "- CL-600-2C10 =        4%\n",
    "- 737-3H4      =       3%\n",
    "- DC-9-82(MD-82)=      3%\n",
    "- MD-88          =     3%\n",
    "- 757-232         =    3%\n",
    "- EMB-145XR        =   2%\n",
    "\n",
    "## Before 1/1/2000:\n",
    "1) The aviation industry has been heavily dependent on the DC-9-82 (MD-82), 118 aircraft\n",
    "\n",
    "2) The second most common model is the 737-3H4, which was applied to 106 aircraft\n",
    "\n",
    "3) The third most common model is the MD-88, which has been applied to 91 different aircraft\n",
    "\n",
    "## After 1/1/200:\n",
    "\n",
    "1) The most common model is the CL-600-2B19, it has been applied to 319 aircraft\n",
    "\n",
    "2) In second place the 737-7H4 model, it was applied to 244 aircraft\n",
    "\n",
    "3) In third place, the A320-232 model was applied to 204 aircraft"
   ]
  },
  {
   "cell_type": "markdown",
   "metadata": {},
   "source": [
    "# Perceptions:\n",
    "We must note that the model industry has been greatly affected by the progress of the years and the development of technology and heavy engines, so it cannot be judged at all that the models in the years 2000 are the best or that the models in the time of the 90's were ok! Science has advanced and technology has evolved a lot after the millennium years, so it is not fair to compare which is better now because models are not static. They have changed with the change of years."
   ]
  },
  {
   "cell_type": "markdown",
   "metadata": {},
   "source": [
    "---\n",
    "---"
   ]
  },
  {
   "cell_type": "markdown",
   "metadata": {},
   "source": [
    "# D- Type : "
   ]
  },
  {
   "cell_type": "markdown",
   "metadata": {},
   "source": [
    "![](pl8.jpg)"
   ]
  },
  {
   "cell_type": "markdown",
   "metadata": {},
   "source": [
    "# corporation:\n",
    "A corporation is an organization—usually a group of people or a company—authorized by the state to act as a single entity (a legal entity; a legal person in legal context) and recognized as such in law for certain purposes\n",
    "\n",
    "\n",
    "# Foreign corporation \n",
    "Foreign corporation is a term used in the United States to describe an existing corporation (or other type of corporate entity, such as a limited liability company or LLC) that conducts business in a state or jurisdiction other than where it was originally incorporated.[1] The term applies both to domestic corporations that are incorporated in another state and to corporations that are incorporated in a nation other than the United States. All states require that foreign corporations register with the state before conducting business in the state.[2]\n",
    "\n",
    "\n",
    "# Co-ownership \n",
    "Co-ownership is a legal concept in a business where two or more co-owners share the legal ownership of property.\n",
    "\n",
    "\n",
    "\n",
    "# Partnership\n",
    "A partnership is an arrangement where parties, known as business partners, agree to cooperate to advance their mutual interests. The partners in a partnership may be individuals, businesses, interest-based organizations, schools, governments or combinations. Organizations may partner to increase the likelihood of each achieving their mission and to amplify their reach. A partnership may result in issuing and holding equity or may be only governed by a contract.\n"
   ]
  },
  {
   "cell_type": "markdown",
   "metadata": {},
   "source": [
    "##  1) What was the most popular type 1976-2008?"
   ]
  },
  {
   "cell_type": "code",
   "execution_count": 51,
   "metadata": {},
   "outputs": [
    {
     "data": {
      "text/plain": [
       "Corporation            4297\n",
       "Individual               19\n",
       "Foreign Corporation      10\n",
       "Co-Owner                  5\n",
       "Partnership               1\n",
       "Name: type, dtype: int64"
      ]
     },
     "execution_count": 51,
     "metadata": {},
     "output_type": "execute_result"
    }
   ],
   "source": [
    "type=data_archive['type'].value_counts()\n",
    "type"
   ]
  },
  {
   "cell_type": "markdown",
   "metadata": {},
   "source": [
    "### Statistics:"
   ]
  },
  {
   "cell_type": "markdown",
   "metadata": {},
   "source": [
    "|Corporation|Individual|Foreign Corporation|Co-Owner |Partnership|\n",
    "|---|---|---|--- |---|\n",
    "| 4397| 19| 10 | 5 | 1|"
   ]
  },
  {
   "cell_type": "markdown",
   "metadata": {},
   "source": [
    "## 2) What is the most common type 1976-2000?"
   ]
  },
  {
   "cell_type": "code",
   "execution_count": 52,
   "metadata": {},
   "outputs": [
    {
     "data": {
      "text/plain": [
       "Corporation    1580\n",
       "Individual       13\n",
       "Co-Owner          4\n",
       "Name: type, dtype: int64"
      ]
     },
     "execution_count": 52,
     "metadata": {},
     "output_type": "execute_result"
    }
   ],
   "source": [
    "type_be_2000=before_2000.type.value_counts()\n",
    "type_be_2000"
   ]
  },
  {
   "cell_type": "markdown",
   "metadata": {},
   "source": [
    "### Statistics:"
   ]
  },
  {
   "cell_type": "markdown",
   "metadata": {},
   "source": [
    "|Corporation|Individual|Co-Owner |Partnership|\n",
    "|---|---|---|--- |\n",
    "| 1580| 13| 10 | 4 |"
   ]
  },
  {
   "cell_type": "markdown",
   "metadata": {},
   "source": [
    "## 3) What is the most common type 2000-2001?"
   ]
  },
  {
   "cell_type": "code",
   "execution_count": 53,
   "metadata": {
    "scrolled": true
   },
   "outputs": [
    {
     "data": {
      "text/plain": [
       "Corporation            2717\n",
       "Foreign Corporation      10\n",
       "Individual                6\n",
       "Co-Owner                  1\n",
       "Partnership               1\n",
       "Name: type, dtype: int64"
      ]
     },
     "execution_count": 53,
     "metadata": {},
     "output_type": "execute_result"
    }
   ],
   "source": [
    "type_af_2000=after_2000.type.value_counts()\n",
    "type_af_2000"
   ]
  },
  {
   "cell_type": "markdown",
   "metadata": {},
   "source": [
    "### Statistics:"
   ]
  },
  {
   "cell_type": "markdown",
   "metadata": {},
   "source": [
    "|Corporation|Individual|Foreign Corporation|Co-Owner |Partnership|\n",
    "|---|---|---|--- |---|\n",
    "| 2717| 6| 10 | 1 | 1|"
   ]
  },
  {
   "cell_type": "markdown",
   "metadata": {},
   "source": [
    "# Perceptions:\n",
    "We note that it is natural that the corporation is the most common type because it serves a very large category and is effective for government, private, commercial or industrial operations."
   ]
  },
  {
   "cell_type": "markdown",
   "metadata": {},
   "source": [
    "---\n",
    "---"
   ]
  },
  {
   "cell_type": "markdown",
   "metadata": {},
   "source": [
    "## 4)  What are the strongest manufacturers of the Corporation type ?!"
   ]
  },
  {
   "cell_type": "code",
   "execution_count": 54,
   "metadata": {},
   "outputs": [
    {
     "data": {
      "text/html": [
       "<div>\n",
       "<style scoped>\n",
       "    .dataframe tbody tr th:only-of-type {\n",
       "        vertical-align: middle;\n",
       "    }\n",
       "\n",
       "    .dataframe tbody tr th {\n",
       "        vertical-align: top;\n",
       "    }\n",
       "\n",
       "    .dataframe thead th {\n",
       "        text-align: right;\n",
       "    }\n",
       "</style>\n",
       "<table border=\"1\" class=\"dataframe\">\n",
       "  <thead>\n",
       "    <tr style=\"text-align: right;\">\n",
       "      <th></th>\n",
       "      <th>manufacturer</th>\n",
       "      <th>model</th>\n",
       "      <th>type</th>\n",
       "      <th>engine_type</th>\n",
       "      <th>month_years</th>\n",
       "      <th>years</th>\n",
       "    </tr>\n",
       "  </thead>\n",
       "  <tbody>\n",
       "    <tr>\n",
       "      <th>698</th>\n",
       "      <td>MCDONNELL DOUGLAS</td>\n",
       "      <td>DC-9-82(MD-82)</td>\n",
       "      <td>Corporation</td>\n",
       "      <td>Turbo-Fan</td>\n",
       "      <td>1984-Jan</td>\n",
       "      <td>1984</td>\n",
       "    </tr>\n",
       "    <tr>\n",
       "      <th>971</th>\n",
       "      <td>BOEING</td>\n",
       "      <td>737-3H4</td>\n",
       "      <td>Corporation</td>\n",
       "      <td>Turbo-Fan</td>\n",
       "      <td>1984-Dec</td>\n",
       "      <td>1984</td>\n",
       "    </tr>\n",
       "    <tr>\n",
       "      <th>850</th>\n",
       "      <td>MCDONNELL DOUGLAS</td>\n",
       "      <td>DC-9-82(MD-82)</td>\n",
       "      <td>Corporation</td>\n",
       "      <td>Turbo-Fan</td>\n",
       "      <td>1985-Aug</td>\n",
       "      <td>1985</td>\n",
       "    </tr>\n",
       "    <tr>\n",
       "      <th>2136</th>\n",
       "      <td>BOEING</td>\n",
       "      <td>757-251</td>\n",
       "      <td>Corporation</td>\n",
       "      <td>Turbo-Jet</td>\n",
       "      <td>1985-Apr</td>\n",
       "      <td>1985</td>\n",
       "    </tr>\n",
       "    <tr>\n",
       "      <th>390</th>\n",
       "      <td>BOEING</td>\n",
       "      <td>737-3TO</td>\n",
       "      <td>Corporation</td>\n",
       "      <td>Turbo-Jet</td>\n",
       "      <td>1985-Sep</td>\n",
       "      <td>1985</td>\n",
       "    </tr>\n",
       "    <tr>\n",
       "      <th>...</th>\n",
       "      <td>...</td>\n",
       "      <td>...</td>\n",
       "      <td>...</td>\n",
       "      <td>...</td>\n",
       "      <td>...</td>\n",
       "      <td>...</td>\n",
       "    </tr>\n",
       "    <tr>\n",
       "      <th>3533</th>\n",
       "      <td>BOEING</td>\n",
       "      <td>737-73A</td>\n",
       "      <td>Corporation</td>\n",
       "      <td>Turbo-Fan</td>\n",
       "      <td>2008-Jul</td>\n",
       "      <td>2008</td>\n",
       "    </tr>\n",
       "    <tr>\n",
       "      <th>3963</th>\n",
       "      <td>BOMBARDIER INC</td>\n",
       "      <td>CL-600-2B19</td>\n",
       "      <td>Corporation</td>\n",
       "      <td>Turbo-Fan</td>\n",
       "      <td>2008-Jan</td>\n",
       "      <td>2008</td>\n",
       "    </tr>\n",
       "    <tr>\n",
       "      <th>1404</th>\n",
       "      <td>BOEING</td>\n",
       "      <td>737-924ER</td>\n",
       "      <td>Corporation</td>\n",
       "      <td>Turbo-Fan</td>\n",
       "      <td>2008-Mar</td>\n",
       "      <td>2008</td>\n",
       "    </tr>\n",
       "    <tr>\n",
       "      <th>3540</th>\n",
       "      <td>BOEING</td>\n",
       "      <td>737-73A</td>\n",
       "      <td>Corporation</td>\n",
       "      <td>Turbo-Fan</td>\n",
       "      <td>2008-Jul</td>\n",
       "      <td>2008</td>\n",
       "    </tr>\n",
       "    <tr>\n",
       "      <th>776</th>\n",
       "      <td>MCDONNELL DOUGLAS</td>\n",
       "      <td>DC-9-82(MD-82)</td>\n",
       "      <td>Corporation</td>\n",
       "      <td>Turbo-Fan</td>\n",
       "      <td>2008-Feb</td>\n",
       "      <td>2008</td>\n",
       "    </tr>\n",
       "  </tbody>\n",
       "</table>\n",
       "<p>4297 rows × 6 columns</p>\n",
       "</div>"
      ],
      "text/plain": [
       "           manufacturer           model         type engine_type month_years  \\\n",
       "698   MCDONNELL DOUGLAS  DC-9-82(MD-82)  Corporation   Turbo-Fan    1984-Jan   \n",
       "971              BOEING         737-3H4  Corporation   Turbo-Fan    1984-Dec   \n",
       "850   MCDONNELL DOUGLAS  DC-9-82(MD-82)  Corporation   Turbo-Fan    1985-Aug   \n",
       "2136             BOEING         757-251  Corporation   Turbo-Jet    1985-Apr   \n",
       "390              BOEING         737-3TO  Corporation   Turbo-Jet    1985-Sep   \n",
       "...                 ...             ...          ...         ...         ...   \n",
       "3533             BOEING         737-73A  Corporation   Turbo-Fan    2008-Jul   \n",
       "3963     BOMBARDIER INC     CL-600-2B19  Corporation   Turbo-Fan    2008-Jan   \n",
       "1404             BOEING       737-924ER  Corporation   Turbo-Fan    2008-Mar   \n",
       "3540             BOEING         737-73A  Corporation   Turbo-Fan    2008-Jul   \n",
       "776   MCDONNELL DOUGLAS  DC-9-82(MD-82)  Corporation   Turbo-Fan    2008-Feb   \n",
       "\n",
       "     years  \n",
       "698   1984  \n",
       "971   1984  \n",
       "850   1985  \n",
       "2136  1985  \n",
       "390   1985  \n",
       "...    ...  \n",
       "3533  2008  \n",
       "3963  2008  \n",
       "1404  2008  \n",
       "3540  2008  \n",
       "776   2008  \n",
       "\n",
       "[4297 rows x 6 columns]"
      ]
     },
     "execution_count": 54,
     "metadata": {},
     "output_type": "execute_result"
    }
   ],
   "source": [
    "Corporation=data_archive.loc[(data_archive['type']=='Corporation'),\n",
    "                        ['manufacturer','model','type','engine_type','month_years','years']]\n",
    "Corporation.sort_values('years')"
   ]
  },
  {
   "cell_type": "code",
   "execution_count": 55,
   "metadata": {},
   "outputs": [
    {
     "data": {
      "text/plain": [
       "BOEING                            2023\n",
       "EMBRAER                            569\n",
       "BOMBARDIER INC                     517\n",
       "AIRBUS INDUSTRIE                   418\n",
       "MCDONNELL DOUGLAS                  251\n",
       "AIRBUS                             236\n",
       "MCDONNELL DOUGLAS AIRCRAFT CO      105\n",
       "CANADAIR                            83\n",
       "DOUGLAS                             36\n",
       "MCDONNELL DOUGLAS CORPORATION       14\n",
       "DEHAVILLAND                         14\n",
       "CESSNA                               6\n",
       "SAAB-SCANIA                          5\n",
       "AEROSPATIALE/ALENIA                  4\n",
       "BEECH                                3\n",
       "PIPER                                3\n",
       "GULFSTREAM AEROSPACE                 2\n",
       "AGUSTA SPA                           1\n",
       "DIAMOND AIRCRAFT IND INC             1\n",
       "AVIAT AIRCRAFT INC                   1\n",
       "HELIO                                1\n",
       "SIKORSKY                             1\n",
       "BELL                                 1\n",
       "COBB INTL/DBA ROTORWAY INTL IN       1\n",
       "BOEING OF CANADA LTD                 1\n",
       "Name: manufacturer, dtype: int64"
      ]
     },
     "execution_count": 55,
     "metadata": {},
     "output_type": "execute_result"
    }
   ],
   "source": [
    "Corporation['manufacturer'].value_counts()"
   ]
  },
  {
   "cell_type": "code",
   "execution_count": 56,
   "metadata": {},
   "outputs": [
    {
     "data": {
      "text/plain": [
       "BOEING                            47.079358\n",
       "EMBRAER                           13.241797\n",
       "BOMBARDIER INC                    12.031650\n",
       "AIRBUS INDUSTRIE                   9.727717\n",
       "MCDONNELL DOUGLAS                  5.841285\n",
       "AIRBUS                             5.492204\n",
       "MCDONNELL DOUGLAS AIRCRAFT CO      2.443565\n",
       "CANADAIR                           1.931580\n",
       "DOUGLAS                            0.837794\n",
       "MCDONNELL DOUGLAS CORPORATION      0.325809\n",
       "DEHAVILLAND                        0.325809\n",
       "CESSNA                             0.139632\n",
       "SAAB-SCANIA                        0.116360\n",
       "AEROSPATIALE/ALENIA                0.093088\n",
       "BEECH                              0.069816\n",
       "PIPER                              0.069816\n",
       "GULFSTREAM AEROSPACE               0.046544\n",
       "AGUSTA SPA                         0.023272\n",
       "DIAMOND AIRCRAFT IND INC           0.023272\n",
       "AVIAT AIRCRAFT INC                 0.023272\n",
       "HELIO                              0.023272\n",
       "SIKORSKY                           0.023272\n",
       "BELL                               0.023272\n",
       "COBB INTL/DBA ROTORWAY INTL IN     0.023272\n",
       "BOEING OF CANADA LTD               0.023272\n",
       "Name: manufacturer, dtype: float64"
      ]
     },
     "execution_count": 56,
     "metadata": {},
     "output_type": "execute_result"
    }
   ],
   "source": [
    "Corporation.manufacturer.value_counts(normalize=True)*100"
   ]
  },
  {
   "cell_type": "code",
   "execution_count": 57,
   "metadata": {},
   "outputs": [
    {
     "data": {
      "image/png": "[encoded data removed]",
      "text/plain": [
       "<Figure size 432x288 with 1 Axes>"
      ]
     },
     "metadata": {
      "needs_background": "light"
     },
     "output_type": "display_data"
    }
   ],
   "source": [
    "Corporation['manufacturer'].value_counts().head(10).plot.bar()\n",
    "plt.bar(x,y)\n",
    "plt.xlabel(\"manufacturer\")\n",
    "plt.ylabel('counts')\n",
    "\n",
    "plt.title('strongest manufacturers of the Corporation type');\n"
   ]
  },
  {
   "cell_type": "markdown",
   "metadata": {},
   "source": [
    "\n",
    "\n",
    "## Conclusions:\n",
    "\n",
    "1) One of the emerging and successful veteran companies is BOEING, 2023 was recorded in its balance, based on current data, 47% of trips belong to BOEING\n",
    "\n",
    "2) The second largest airline is EMBRAER with 13% of total flights, with a class of 569\n",
    "\n",
    "3) The third largest airline is BOMBARDIER INC with 12%, with a score of 517"
   ]
  },
  {
   "cell_type": "markdown",
   "metadata": {},
   "source": [
    "## 5) What are the strongest manufacturers of the Individual type ?!"
   ]
  },
  {
   "cell_type": "code",
   "execution_count": 58,
   "metadata": {},
   "outputs": [
    {
     "data": {
      "text/html": [
       "<div>\n",
       "<style scoped>\n",
       "    .dataframe tbody tr th:only-of-type {\n",
       "        vertical-align: middle;\n",
       "    }\n",
       "\n",
       "    .dataframe tbody tr th {\n",
       "        vertical-align: top;\n",
       "    }\n",
       "\n",
       "    .dataframe thead th {\n",
       "        text-align: right;\n",
       "    }\n",
       "</style>\n",
       "<table border=\"1\" class=\"dataframe\">\n",
       "  <thead>\n",
       "    <tr style=\"text-align: right;\">\n",
       "      <th></th>\n",
       "      <th>manufacturer</th>\n",
       "      <th>model</th>\n",
       "      <th>type</th>\n",
       "      <th>engine_type</th>\n",
       "      <th>month_years</th>\n",
       "      <th>years</th>\n",
       "    </tr>\n",
       "  </thead>\n",
       "  <tbody>\n",
       "    <tr>\n",
       "      <th>2473</th>\n",
       "      <td>DEHAVILLAND</td>\n",
       "      <td>OTTER DHC-3</td>\n",
       "      <td>Individual</td>\n",
       "      <td>Reciprocating</td>\n",
       "      <td>1976-Jan</td>\n",
       "      <td>1976</td>\n",
       "    </tr>\n",
       "    <tr>\n",
       "      <th>1834</th>\n",
       "      <td>CESSNA</td>\n",
       "      <td>182P</td>\n",
       "      <td>Individual</td>\n",
       "      <td>Reciprocating</td>\n",
       "      <td>1978-Mar</td>\n",
       "      <td>1978</td>\n",
       "    </tr>\n",
       "    <tr>\n",
       "      <th>2400</th>\n",
       "      <td>LEBLANC GLENN T</td>\n",
       "      <td>FALCON XP</td>\n",
       "      <td>Individual</td>\n",
       "      <td>Reciprocating</td>\n",
       "      <td>1985-Sep</td>\n",
       "      <td>1985</td>\n",
       "    </tr>\n",
       "    <tr>\n",
       "      <th>4575</th>\n",
       "      <td>MAULE</td>\n",
       "      <td>M-5-235C</td>\n",
       "      <td>Individual</td>\n",
       "      <td>Reciprocating</td>\n",
       "      <td>1986-Aug</td>\n",
       "      <td>1986</td>\n",
       "    </tr>\n",
       "    <tr>\n",
       "      <th>852</th>\n",
       "      <td>BEECH</td>\n",
       "      <td>65-A90</td>\n",
       "      <td>Individual</td>\n",
       "      <td>Turbo-Prop</td>\n",
       "      <td>1987-Apr</td>\n",
       "      <td>1987</td>\n",
       "    </tr>\n",
       "    <tr>\n",
       "      <th>2381</th>\n",
       "      <td>STINNETT RON</td>\n",
       "      <td>FALCON XP</td>\n",
       "      <td>Individual</td>\n",
       "      <td>Reciprocating</td>\n",
       "      <td>1987-Mar</td>\n",
       "      <td>1987</td>\n",
       "    </tr>\n",
       "    <tr>\n",
       "      <th>1409</th>\n",
       "      <td>CESSNA</td>\n",
       "      <td>182A</td>\n",
       "      <td>Individual</td>\n",
       "      <td>Reciprocating</td>\n",
       "      <td>1987-Jul</td>\n",
       "      <td>1987</td>\n",
       "    </tr>\n",
       "    <tr>\n",
       "      <th>2003</th>\n",
       "      <td>MCDONNELL DOUGLAS</td>\n",
       "      <td>DC-9-82(MD-82)</td>\n",
       "      <td>Individual</td>\n",
       "      <td>Turbo-Fan</td>\n",
       "      <td>1989-Feb</td>\n",
       "      <td>1989</td>\n",
       "    </tr>\n",
       "    <tr>\n",
       "      <th>4545</th>\n",
       "      <td>MAULE</td>\n",
       "      <td>M-5-235C</td>\n",
       "      <td>Individual</td>\n",
       "      <td>Reciprocating</td>\n",
       "      <td>1991-Jan</td>\n",
       "      <td>1991</td>\n",
       "    </tr>\n",
       "    <tr>\n",
       "      <th>2500</th>\n",
       "      <td>BOEING</td>\n",
       "      <td>757-222</td>\n",
       "      <td>Individual</td>\n",
       "      <td>Turbo-Jet</td>\n",
       "      <td>1993-Sep</td>\n",
       "      <td>1993</td>\n",
       "    </tr>\n",
       "    <tr>\n",
       "      <th>1431</th>\n",
       "      <td>AERO COMMANDER</td>\n",
       "      <td>690A</td>\n",
       "      <td>Individual</td>\n",
       "      <td>Turbo-Prop</td>\n",
       "      <td>1995-Dec</td>\n",
       "      <td>1995</td>\n",
       "    </tr>\n",
       "    <tr>\n",
       "      <th>2282</th>\n",
       "      <td>BEECH</td>\n",
       "      <td>60</td>\n",
       "      <td>Individual</td>\n",
       "      <td>Reciprocating</td>\n",
       "      <td>1997-Jun</td>\n",
       "      <td>1997</td>\n",
       "    </tr>\n",
       "    <tr>\n",
       "      <th>2801</th>\n",
       "      <td>MORSE GEORGE JR</td>\n",
       "      <td>F85P-1</td>\n",
       "      <td>Individual</td>\n",
       "      <td>Reciprocating</td>\n",
       "      <td>1998-May</td>\n",
       "      <td>1998</td>\n",
       "    </tr>\n",
       "    <tr>\n",
       "      <th>4127</th>\n",
       "      <td>BOEING</td>\n",
       "      <td>767-432ER</td>\n",
       "      <td>Individual</td>\n",
       "      <td>Turbo-Jet</td>\n",
       "      <td>2000-Nov</td>\n",
       "      <td>2000</td>\n",
       "    </tr>\n",
       "    <tr>\n",
       "      <th>2860</th>\n",
       "      <td>CESSNA</td>\n",
       "      <td>172M</td>\n",
       "      <td>Individual</td>\n",
       "      <td>4 Cycle</td>\n",
       "      <td>2003-Jun</td>\n",
       "      <td>2003</td>\n",
       "    </tr>\n",
       "    <tr>\n",
       "      <th>2175</th>\n",
       "      <td>WOBIG WAYNE R</td>\n",
       "      <td>FALCON-XP</td>\n",
       "      <td>Individual</td>\n",
       "      <td>Reciprocating</td>\n",
       "      <td>2007-May</td>\n",
       "      <td>2007</td>\n",
       "    </tr>\n",
       "    <tr>\n",
       "      <th>2369</th>\n",
       "      <td>FRIEDEMANN JON</td>\n",
       "      <td>VANS AIRCRAFT RV6</td>\n",
       "      <td>Individual</td>\n",
       "      <td>Reciprocating</td>\n",
       "      <td>2007-Jan</td>\n",
       "      <td>2007</td>\n",
       "    </tr>\n",
       "    <tr>\n",
       "      <th>4939</th>\n",
       "      <td>PIPER</td>\n",
       "      <td>PA-28-180</td>\n",
       "      <td>Individual</td>\n",
       "      <td>Reciprocating</td>\n",
       "      <td>2007-May</td>\n",
       "      <td>2007</td>\n",
       "    </tr>\n",
       "    <tr>\n",
       "      <th>1459</th>\n",
       "      <td>CESSNA</td>\n",
       "      <td>172E</td>\n",
       "      <td>Individual</td>\n",
       "      <td>Reciprocating</td>\n",
       "      <td>2008-Jun</td>\n",
       "      <td>2008</td>\n",
       "    </tr>\n",
       "  </tbody>\n",
       "</table>\n",
       "</div>"
      ],
      "text/plain": [
       "           manufacturer              model        type    engine_type  \\\n",
       "2473        DEHAVILLAND        OTTER DHC-3  Individual  Reciprocating   \n",
       "1834             CESSNA               182P  Individual  Reciprocating   \n",
       "2400    LEBLANC GLENN T          FALCON XP  Individual  Reciprocating   \n",
       "4575              MAULE           M-5-235C  Individual  Reciprocating   \n",
       "852               BEECH             65-A90  Individual     Turbo-Prop   \n",
       "2381       STINNETT RON          FALCON XP  Individual  Reciprocating   \n",
       "1409             CESSNA               182A  Individual  Reciprocating   \n",
       "2003  MCDONNELL DOUGLAS     DC-9-82(MD-82)  Individual      Turbo-Fan   \n",
       "4545              MAULE           M-5-235C  Individual  Reciprocating   \n",
       "2500             BOEING            757-222  Individual      Turbo-Jet   \n",
       "1431     AERO COMMANDER               690A  Individual     Turbo-Prop   \n",
       "2282              BEECH                 60  Individual  Reciprocating   \n",
       "2801    MORSE GEORGE JR             F85P-1  Individual  Reciprocating   \n",
       "4127             BOEING          767-432ER  Individual      Turbo-Jet   \n",
       "2860             CESSNA               172M  Individual        4 Cycle   \n",
       "2175      WOBIG WAYNE R          FALCON-XP  Individual  Reciprocating   \n",
       "2369     FRIEDEMANN JON  VANS AIRCRAFT RV6  Individual  Reciprocating   \n",
       "4939              PIPER          PA-28-180  Individual  Reciprocating   \n",
       "1459             CESSNA               172E  Individual  Reciprocating   \n",
       "\n",
       "     month_years years  \n",
       "2473    1976-Jan  1976  \n",
       "1834    1978-Mar  1978  \n",
       "2400    1985-Sep  1985  \n",
       "4575    1986-Aug  1986  \n",
       "852     1987-Apr  1987  \n",
       "2381    1987-Mar  1987  \n",
       "1409    1987-Jul  1987  \n",
       "2003    1989-Feb  1989  \n",
       "4545    1991-Jan  1991  \n",
       "2500    1993-Sep  1993  \n",
       "1431    1995-Dec  1995  \n",
       "2282    1997-Jun  1997  \n",
       "2801    1998-May  1998  \n",
       "4127    2000-Nov  2000  \n",
       "2860    2003-Jun  2003  \n",
       "2175    2007-May  2007  \n",
       "2369    2007-Jan  2007  \n",
       "4939    2007-May  2007  \n",
       "1459    2008-Jun  2008  "
      ]
     },
     "execution_count": 58,
     "metadata": {},
     "output_type": "execute_result"
    }
   ],
   "source": [
    "Individual=data_archive.loc[(data_archive['type']=='Individual'),\n",
    "                        ['manufacturer','model','type','engine_type','month_years','years']]\n",
    "Individual.sort_values('years')"
   ]
  },
  {
   "cell_type": "code",
   "execution_count": 59,
   "metadata": {},
   "outputs": [
    {
     "data": {
      "image/png": "[encoded data removed]",
      "text/plain": [
       "<Figure size 432x288 with 1 Axes>"
      ]
     },
     "metadata": {
      "needs_background": "light"
     },
     "output_type": "display_data"
    }
   ],
   "source": [
    "Individual['manufacturer'].value_counts().head(10).plot.bar();\n",
    "plt.bar(x,y)\n",
    "plt.xlabel(\"manufacturer\")\n",
    "plt.ylabel('counts')\n",
    "plt.title('strongest manufacturers of the Individual type');\n"
   ]
  },
  {
   "cell_type": "code",
   "execution_count": 60,
   "metadata": {},
   "outputs": [
    {
     "data": {
      "text/plain": [
       "CESSNA               4\n",
       "BOEING               2\n",
       "MAULE                2\n",
       "BEECH                2\n",
       "DEHAVILLAND          1\n",
       "STINNETT RON         1\n",
       "PIPER                1\n",
       "LEBLANC GLENN T      1\n",
       "WOBIG WAYNE R        1\n",
       "MORSE GEORGE JR      1\n",
       "AERO COMMANDER       1\n",
       "FRIEDEMANN JON       1\n",
       "MCDONNELL DOUGLAS    1\n",
       "Name: manufacturer, dtype: int64"
      ]
     },
     "execution_count": 60,
     "metadata": {},
     "output_type": "execute_result"
    }
   ],
   "source": [
    "Individual['manufacturer'].value_counts()"
   ]
  },
  {
   "cell_type": "markdown",
   "metadata": {},
   "source": [
    "## Conclusions:\n",
    "\n",
    "In total, the number of trips in this type is numbered.\n",
    "1) Cessna has 4 personal tours\n",
    "\n",
    "2) MAULE only had two trips\n",
    "\n",
    "3) BEECH only has two trips"
   ]
  },
  {
   "cell_type": "markdown",
   "metadata": {},
   "source": [
    "---\n",
    "---"
   ]
  },
  {
   "cell_type": "markdown",
   "metadata": {},
   "source": [
    "----\n",
    "----"
   ]
  },
  {
   "cell_type": "markdown",
   "metadata": {},
   "source": [
    "# E- Engine Type : "
   ]
  },
  {
   "cell_type": "markdown",
   "metadata": {},
   "source": [
    "![](pl7.jpg)"
   ]
  },
  {
   "cell_type": "markdown",
   "metadata": {},
   "source": [
    "## 1) What are the most popular types of engines 1976-2008?"
   ]
  },
  {
   "cell_type": "code",
   "execution_count": 61,
   "metadata": {},
   "outputs": [
    {
     "data": {
      "text/plain": [
       "Turbo-Fan        2798\n",
       "Turbo-Jet        1410\n",
       "Turbo-Prop         89\n",
       "Reciprocating      28\n",
       "4 Cycle             4\n",
       "Turbo-Shaft         3\n",
       "Name: engine_type, dtype: int64"
      ]
     },
     "execution_count": 61,
     "metadata": {},
     "output_type": "execute_result"
    }
   ],
   "source": [
    "engine_type=data_archive['engine_type'].value_counts()\n",
    "engine_type"
   ]
  },
  {
   "cell_type": "markdown",
   "metadata": {},
   "source": [
    "### Statistics:"
   ]
  },
  {
   "cell_type": "markdown",
   "metadata": {},
   "source": [
    "|Turbo-Fan|Turbo-Jet|Turbo-Prop|Reciprocating |4 Cycle|Turbo-Shaft  |\n",
    "|---|---|---|--- |---|---|\n",
    "| 2798| 1410| 89 | 28 | 4| 3 |"
   ]
  },
  {
   "cell_type": "markdown",
   "metadata": {},
   "source": [
    "# Turbo-Fan:\n",
    "\n",
    "The turbofan or fanjet is a type of airbreathing jet engine that is widely used in aircraft propulsion. The word \"turbofan\" is a portmanteau of \"turbine\" and \"fan\": the turbo portion refers to a gas turbine engine which achieves mechanical energy from combustion,[1] and the fan, a ducted fan that uses the mechanical energy from the gas turbine to accelerate air rearwards. Thus, whereas all the air taken in by a turbojet passes through the turbine (through the combustion chamber), in a turbofan some of that air bypasses the turbine. A turbofan thus can be thought of as a turbojet being used to drive a ducted fan, with both of these contributing to the thrust."
   ]
  },
  {
   "cell_type": "markdown",
   "metadata": {},
   "source": [
    "# Turbo-Jet\n",
    "The turbojet is an airbreathing jet engine, typically used in aircraft. It consists of a gas turbine with a propelling nozzle. The gas turbine has an air inlet, a compressor, a combustion chamber, and a turbine (that drives the compressor). The compressed air from the compressor is heated by burning fuel in the combustion chamber and then allowed to expand through the turbine. The turbine exhaust is then expanded in the propelling nozzle where it is accelerated to high speed to provide thrust.[1] Two engineers, Frank Whittle in the United Kingdom and Hans von Ohain in Germany, developed the concept independently into practical engines during the late 1930s."
   ]
  },
  {
   "cell_type": "markdown",
   "metadata": {},
   "source": [
    "# Turbo-Prop\n",
    "\n",
    "A turboprop engine is a turbine engine that drives an aircraft propeller.[1]\n",
    "\n",
    "In its simplest form a turboprop consists of an intake, compressor, combustor, turbine, and a propelling nozzle.[2] Air is drawn into the intake and compressed by the compressor. Fuel is then added to the compressed air in the combustor, where the fuel-air mixture then combusts. The hot combustion gases expand through the turbine. Some of the power generated by the turbine is used to drive the compressor. Thrust is obtained by the combusting gases, pushing toward a (vectored) surface in front of the expanding gas.\n",
    "\n",
    "The rest is transmitted through the reduction gearing to the propeller. Further expansion of the gases occurs in the propelling nozzle, where the gases exhaust to atmospheric pressure. The propelling nozzle provides a relatively small proportion of the thrust generated by a turboprop.[3]\n",
    "\n",
    "In contrast to a turbojet, the engine's exhaust gases do not generally contain enough energy to create significant thrust, since almost all of the engine's power is used to drive the propeller."
   ]
  },
  {
   "cell_type": "markdown",
   "metadata": {},
   "source": [
    "## 2) What types of engines were used in 1976-2000?"
   ]
  },
  {
   "cell_type": "code",
   "execution_count": 62,
   "metadata": {},
   "outputs": [
    {
     "data": {
      "text/plain": [
       "Turbo-Fan        864\n",
       "Turbo-Jet        655\n",
       "Turbo-Prop        57\n",
       "Reciprocating     19\n",
       "4 Cycle            2\n",
       "Name: engine_type, dtype: int64"
      ]
     },
     "execution_count": 62,
     "metadata": {},
     "output_type": "execute_result"
    }
   ],
   "source": [
    "engine_be_2000=before_2000.engine_type.value_counts()\n",
    "engine_be_2000"
   ]
  },
  {
   "cell_type": "markdown",
   "metadata": {},
   "source": [
    "### Statistics:"
   ]
  },
  {
   "cell_type": "markdown",
   "metadata": {},
   "source": [
    "|Turbo-Fan|Turbo-Jet|Turbo-Prop|Reciprocating |4 Cycle|Turbo-Shaft  |\n",
    "|---|---|---|--- |---|---|\n",
    "| 864 | 655 | 57 | 19| 2 | 0 |"
   ]
  },
  {
   "cell_type": "code",
   "execution_count": 63,
   "metadata": {},
   "outputs": [
    {
     "data": {
      "text/plain": [
       "Turbo-Fan        1934\n",
       "Turbo-Jet         755\n",
       "Turbo-Prop         32\n",
       "Reciprocating       9\n",
       "Turbo-Shaft         3\n",
       "4 Cycle             2\n",
       "Name: engine_type, dtype: int64"
      ]
     },
     "execution_count": 63,
     "metadata": {},
     "output_type": "execute_result"
    }
   ],
   "source": [
    "engine_af_2000=after_2000.engine_type.value_counts()\n",
    "engine_af_2000"
   ]
  },
  {
   "cell_type": "markdown",
   "metadata": {},
   "source": [
    "## Statistics:"
   ]
  },
  {
   "cell_type": "markdown",
   "metadata": {},
   "source": [
    "|Turbo-Fan|Turbo-Jet|Turbo-Prop|Reciprocating |4 Cycle|Turbo-Shaft  |\n",
    "|---|---|---|--- |---|---|\n",
    "| 1934 | 755 | 32 | 9 | 2 | 3 |"
   ]
  },
  {
   "cell_type": "markdown",
   "metadata": {},
   "source": [
    "# Conclusions:\n",
    "## From 1976 to 2008\n",
    "\n",
    "1) Turbo-Fan is the most common type of motor used for various trips\n",
    "If 2798 aircraft are registered operating on this model\n",
    "\n",
    "2) In second place were registered 1,410 aircraft powered by Turbo-Jet engine\n",
    "\n",
    "3) The Turbo-Prop works on 89 different aircraft\n",
    "\n",
    "## Before 2000:\n",
    "\n",
    "1) The Turbo-Fan Engine Industry was in the lead, 864 aircraft were registered operating on this engine\n",
    "\n",
    "2) In second place was the Turbo-Jet engine, 655 different aircraft that were powered by the Turbo-Jet engine\n",
    "\n",
    "3) In third place was the Turbo-Prop engine, on which 57 aircraft were based\n",
    "The rest is like what is mentioned in the table\n",
    "\n",
    "## After 2000:\n",
    "\n",
    "1) In the first place in the aircraft engine industry was the Turbo-Fan, which was based on 1934 different aircraft\n",
    "\n",
    "2) In second place was the Turbo-Jet engine, which was used in 755 aircraft\n",
    "\n",
    "3) A new type of engine appeared in the fourth place, a Turbo-Shaft, that did not have a high market value"
   ]
  },
  {
   "cell_type": "markdown",
   "metadata": {},
   "source": [
    "### 3)  Comparison of Demand for Engine Types in the \"Pre-2000 and Post-2000\" Periods :"
   ]
  },
  {
   "cell_type": "code",
   "execution_count": 64,
   "metadata": {},
   "outputs": [
    {
     "data": {
      "image/png": "[encoded data removed]",
      "text/plain": [
       "<Figure size 432x288 with 1 Axes>"
      ]
     },
     "metadata": {
      "needs_background": "light"
     },
     "output_type": "display_data"
    }
   ],
   "source": [
    "a = ['Turbo-Fan ', 'Turbo-Jet', 'Turbo-Prop', 'Reciprocating']\n",
    "engine_be_2000 = [ 864 , 655 , 57 ,19 ]\n",
    "engine_af_2000=[ 1934 ,755, 32, 9]\n",
    "\n",
    "x = np.arange(len(a))  \n",
    "width = 0.40\n",
    "\n",
    "fig, ax = plt.subplots()\n",
    "rects1 = ax.bar(x - width/2, engine_be_2000, width, label='engine_be_2000')\n",
    "rects2 = ax.bar(x + width/2, engine_af_2000, width, label='engine_af_2000')\n",
    "\n",
    "ax.set_xlabel('engine_type')\n",
    "ax.set_ylabel('ratio')\n",
    "ax.set_title('90 vs 20')\n",
    "ax.set_xticks(x)\n",
    "ax.set_xticklabels(a)\n",
    "ax.legend()\n",
    "\n",
    "\n",
    "def autolabel(rects):\n",
    "    for rect in rects:\n",
    "        height = rect.get_height()\n",
    "        ax.annotate('{}'.format(height),\n",
    "                    xy=(rect.get_x() + rect.get_width() / 2, height),\n",
    "                    xytext=(0,15), \n",
    "                    textcoords=\"offset points\",\n",
    "                    ha='center', va='bottom')\n",
    "\n",
    "plt.xticks(rotation = 90);\n",
    "\n",
    "autolabel(rects1)\n",
    "autolabel(rects2) \n",
    "fig.tight_layout()\n",
    "fontsize = 40\n",
    "plt.show()"
   ]
  },
  {
   "cell_type": "markdown",
   "metadata": {},
   "source": [
    "# Conclusions:\n",
    "\n",
    "\n"
   ]
  },
  {
   "cell_type": "markdown",
   "metadata": {},
   "source": [
    "\n",
    "1) We notice from the graphical visualization the industrial jump in the engine industry in the period before the year 2000 and after the year 2000,\n",
    "\n",
    "\n",
    "2) We note that there is a high demand for the Turbo-Fan, with a difference of 1070 applications in recent years\n",
    "Meaning that the increase was by 45%.\n",
    "\n",
    "3)There is a 17% increase in demand for the Turbo-Jet engine\n",
    "\n",
    "4) 0,8% downturn in Turbo-Prop engine demand\n",
    "\n",
    "5) 0,2% downturn in Reciprocating engine demand"
   ]
  },
  {
   "cell_type": "markdown",
   "metadata": {},
   "source": [
    "---\n",
    "---"
   ]
  },
  {
   "cell_type": "markdown",
   "metadata": {},
   "source": [
    "---\n",
    "---"
   ]
  },
  {
   "cell_type": "markdown",
   "metadata": {},
   "source": [
    "# F- Manufacturer BOEING :"
   ]
  },
  {
   "cell_type": "markdown",
   "metadata": {},
   "source": [
    "![](pl4.jpg)"
   ]
  },
  {
   "cell_type": "markdown",
   "metadata": {},
   "source": [
    "s an American multinational corporation that designs, manufactures, and sells airplanes, rotorcraft, rockets, satellites, telecommunications equipment, and missiles worldwide. The company also provides leasing and product support services. Boeing is among the largest global aerospace manufacturers; it is the second-largest defense contractor in the world based on 2018 revenue,[6] and is the largest exporter in the United States by dollar value.[7] Boeing stock is included in the Dow Jones Industrial Average. Boeing is incorporated in Delaware.[8]\n",
    "\n",
    "Boeing was founded by William Boeing in Seattle, Washington on July 15, 1916.[9] The present corporation is the result of the merger of Boeing with McDonnell Douglas on August 1, 1997. Then chairman and CEO of Boeing, Philip M. Condit, assumed those roles in the combined company, while Harry Stonecipher, former CEO of McDonnell Douglas, became president and COO.[9]"
   ]
  },
  {
   "cell_type": "code",
   "execution_count": 65,
   "metadata": {
    "scrolled": false
   },
   "outputs": [
    {
     "data": {
      "text/html": [
       "<div>\n",
       "<style scoped>\n",
       "    .dataframe tbody tr th:only-of-type {\n",
       "        vertical-align: middle;\n",
       "    }\n",
       "\n",
       "    .dataframe tbody tr th {\n",
       "        vertical-align: top;\n",
       "    }\n",
       "\n",
       "    .dataframe thead th {\n",
       "        text-align: right;\n",
       "    }\n",
       "</style>\n",
       "<table border=\"1\" class=\"dataframe\">\n",
       "  <thead>\n",
       "    <tr style=\"text-align: right;\">\n",
       "      <th></th>\n",
       "      <th>manufacturer</th>\n",
       "      <th>model</th>\n",
       "      <th>type</th>\n",
       "      <th>engine_type</th>\n",
       "      <th>month_years</th>\n",
       "      <th>years</th>\n",
       "    </tr>\n",
       "  </thead>\n",
       "  <tbody>\n",
       "    <tr>\n",
       "      <th>971</th>\n",
       "      <td>BOEING</td>\n",
       "      <td>737-3H4</td>\n",
       "      <td>Corporation</td>\n",
       "      <td>Turbo-Fan</td>\n",
       "      <td>1984-Dec</td>\n",
       "      <td>1984</td>\n",
       "    </tr>\n",
       "    <tr>\n",
       "      <th>390</th>\n",
       "      <td>BOEING</td>\n",
       "      <td>737-3TO</td>\n",
       "      <td>Corporation</td>\n",
       "      <td>Turbo-Jet</td>\n",
       "      <td>1985-Sep</td>\n",
       "      <td>1985</td>\n",
       "    </tr>\n",
       "    <tr>\n",
       "      <th>128</th>\n",
       "      <td>BOEING</td>\n",
       "      <td>737-3TO</td>\n",
       "      <td>Corporation</td>\n",
       "      <td>Turbo-Jet</td>\n",
       "      <td>1985-Oct</td>\n",
       "      <td>1985</td>\n",
       "    </tr>\n",
       "    <tr>\n",
       "      <th>981</th>\n",
       "      <td>BOEING</td>\n",
       "      <td>737-3H4</td>\n",
       "      <td>Corporation</td>\n",
       "      <td>Turbo-Fan</td>\n",
       "      <td>1985-Jan</td>\n",
       "      <td>1985</td>\n",
       "    </tr>\n",
       "    <tr>\n",
       "      <th>258</th>\n",
       "      <td>BOEING</td>\n",
       "      <td>737-3TO</td>\n",
       "      <td>Corporation</td>\n",
       "      <td>Turbo-Jet</td>\n",
       "      <td>1985-Sep</td>\n",
       "      <td>1985</td>\n",
       "    </tr>\n",
       "    <tr>\n",
       "      <th>...</th>\n",
       "      <td>...</td>\n",
       "      <td>...</td>\n",
       "      <td>...</td>\n",
       "      <td>...</td>\n",
       "      <td>...</td>\n",
       "      <td>...</td>\n",
       "    </tr>\n",
       "    <tr>\n",
       "      <th>4572</th>\n",
       "      <td>BOEING</td>\n",
       "      <td>737-7H4</td>\n",
       "      <td>Corporation</td>\n",
       "      <td>Turbo-Fan</td>\n",
       "      <td>2008-May</td>\n",
       "      <td>2008</td>\n",
       "    </tr>\n",
       "    <tr>\n",
       "      <th>4557</th>\n",
       "      <td>BOEING</td>\n",
       "      <td>737-7H4</td>\n",
       "      <td>Corporation</td>\n",
       "      <td>Turbo-Fan</td>\n",
       "      <td>2008-Apr</td>\n",
       "      <td>2008</td>\n",
       "    </tr>\n",
       "    <tr>\n",
       "      <th>4543</th>\n",
       "      <td>BOEING</td>\n",
       "      <td>737-7H4</td>\n",
       "      <td>Corporation</td>\n",
       "      <td>Turbo-Fan</td>\n",
       "      <td>2008-Apr</td>\n",
       "      <td>2008</td>\n",
       "    </tr>\n",
       "    <tr>\n",
       "      <th>347</th>\n",
       "      <td>BOEING</td>\n",
       "      <td>737-524</td>\n",
       "      <td>Corporation</td>\n",
       "      <td>Turbo-Fan</td>\n",
       "      <td>2008-Feb</td>\n",
       "      <td>2008</td>\n",
       "    </tr>\n",
       "    <tr>\n",
       "      <th>4495</th>\n",
       "      <td>BOEING</td>\n",
       "      <td>737-7H4</td>\n",
       "      <td>Corporation</td>\n",
       "      <td>Turbo-Fan</td>\n",
       "      <td>2008-Feb</td>\n",
       "      <td>2008</td>\n",
       "    </tr>\n",
       "  </tbody>\n",
       "</table>\n",
       "<p>2025 rows × 6 columns</p>\n",
       "</div>"
      ],
      "text/plain": [
       "     manufacturer    model         type engine_type month_years years\n",
       "971        BOEING  737-3H4  Corporation   Turbo-Fan    1984-Dec  1984\n",
       "390        BOEING  737-3TO  Corporation   Turbo-Jet    1985-Sep  1985\n",
       "128        BOEING  737-3TO  Corporation   Turbo-Jet    1985-Oct  1985\n",
       "981        BOEING  737-3H4  Corporation   Turbo-Fan    1985-Jan  1985\n",
       "258        BOEING  737-3TO  Corporation   Turbo-Jet    1985-Sep  1985\n",
       "...           ...      ...          ...         ...         ...   ...\n",
       "4572       BOEING  737-7H4  Corporation   Turbo-Fan    2008-May  2008\n",
       "4557       BOEING  737-7H4  Corporation   Turbo-Fan    2008-Apr  2008\n",
       "4543       BOEING  737-7H4  Corporation   Turbo-Fan    2008-Apr  2008\n",
       "347        BOEING  737-524  Corporation   Turbo-Fan    2008-Feb  2008\n",
       "4495       BOEING  737-7H4  Corporation   Turbo-Fan    2008-Feb  2008\n",
       "\n",
       "[2025 rows x 6 columns]"
      ]
     },
     "execution_count": 65,
     "metadata": {},
     "output_type": "execute_result"
    }
   ],
   "source": [
    "manufacturer_BOEING=data_archive.loc[(data_archive['manufacturer']=='BOEING'),\n",
    "                        ['manufacturer','model','type','engine_type','month_years','years']]\n",
    "manufacturer_BOEING.sort_values('years')"
   ]
  },
  {
   "cell_type": "markdown",
   "metadata": {},
   "source": [
    "## 1) What are the most active years?"
   ]
  },
  {
   "cell_type": "code",
   "execution_count": 66,
   "metadata": {},
   "outputs": [
    {
     "data": {
      "text/plain": [
       "2006    171\n",
       "2004    170\n",
       "2001    170\n",
       "1999    163\n",
       "2000    150\n",
       "1998    131\n",
       "2005    131\n",
       "2007    127\n",
       "2002    102\n",
       "1997     92\n",
       "2003     79\n",
       "1996     64\n",
       "1990     57\n",
       "1992     57\n",
       "1991     57\n",
       "1995     51\n",
       "1994     42\n",
       "2008     41\n",
       "1993     38\n",
       "1988     33\n",
       "1989     32\n",
       "1987     27\n",
       "1986     22\n",
       "1985     17\n",
       "1984      1\n",
       "Name: years, dtype: int64"
      ]
     },
     "execution_count": 66,
     "metadata": {},
     "output_type": "execute_result"
    }
   ],
   "source": [
    "manufacturer_BOEING.years.value_counts()"
   ]
  },
  {
   "cell_type": "markdown",
   "metadata": {},
   "source": [
    " The major company in the aircraft industry is witnessing great activity as the most effective year is 2006, as it recorded 171 different flights in second place in 2001-2004, and the two years recorded 170 different flights"
   ]
  },
  {
   "cell_type": "markdown",
   "metadata": {},
   "source": [
    "## 2) What is the growth of the company ?! Is it a positive or negative relationship ?"
   ]
  },
  {
   "cell_type": "code",
   "execution_count": 67,
   "metadata": {},
   "outputs": [
    {
     "data": {
      "image/png": "[encoded data removed]",
      "text/plain": [
       "<Figure size 1080x432 with 1 Axes>"
      ]
     },
     "metadata": {
      "needs_background": "light"
     },
     "output_type": "display_data"
    }
   ],
   "source": [
    "plt.figure(figsize=[15,6])\n",
    "sns.regplot(data = manufacturer_BOEING,\n",
    "            x = [2006,2004,2001,1999,2000,2005,1998,2007,2002,1997,2003,\n",
    "                 1996,1991,1990,1992,1995,1994,2008,1993,1988,1989,1987,1986],\n",
    "             y = [171,170,170,163,150,131,131,127,102,92,79,64,57,\n",
    "                  57,57,51,42,41,38,33,32,27,22]);\n",
    "\n",
    "plt.xlabel('years')\n",
    "plt.ylabel('BOEING');\n",
    "plt.title('growth of the company ');\n",
    "\n",
    "\n",
    "\n",
    "\n"
   ]
  },
  {
   "cell_type": "markdown",
   "metadata": {},
   "source": [
    "We note that the company has a clear and effective growth in the aviation industry, the relationship recorded here is positive "
   ]
  },
  {
   "cell_type": "markdown",
   "metadata": {},
   "source": [
    "## 3) What are the most used models?"
   ]
  },
  {
   "cell_type": "code",
   "execution_count": 68,
   "metadata": {},
   "outputs": [
    {
     "data": {
      "text/plain": [
       "737-7H4    298\n",
       "737-3H4    147\n",
       "757-232    111\n",
       "757-222     96\n",
       "737-824     94\n",
       "717-200     93\n",
       "767-332     77\n",
       "737-832     68\n",
       "737-322     64\n",
       "737-524     56\n",
       "Name: model, dtype: int64"
      ]
     },
     "execution_count": 68,
     "metadata": {},
     "output_type": "execute_result"
    }
   ],
   "source": [
    "manufacturer_BOEING.model.value_counts().head(10)\n"
   ]
  },
  {
   "cell_type": "code",
   "execution_count": 69,
   "metadata": {},
   "outputs": [
    {
     "data": {
      "text/plain": [
       "737-7H4     14.716049\n",
       "737-3H4      7.259259\n",
       "757-232      5.481481\n",
       "757-222      4.740741\n",
       "737-824      4.641975\n",
       "              ...    \n",
       "737-2Y5      0.049383\n",
       "747-2B5F     0.049383\n",
       "737-2P6      0.049383\n",
       "737-7Q8      0.049383\n",
       "747-451      0.049383\n",
       "Name: model, Length: 85, dtype: float64"
      ]
     },
     "execution_count": 69,
     "metadata": {},
     "output_type": "execute_result"
    }
   ],
   "source": [
    "manufacturer_BOEING.model.value_counts(normalize=True)*100"
   ]
  },
  {
   "cell_type": "code",
   "execution_count": 70,
   "metadata": {},
   "outputs": [
    {
     "data": {
      "text/plain": [
       "''"
      ]
     },
     "execution_count": 70,
     "metadata": {},
     "output_type": "execute_result"
    },
    {
     "data": {
      "image/png": "[encoded data removed]",
      "text/plain": [
       "<Figure size 864x720 with 1 Axes>"
      ]
     },
     "metadata": {
      "needs_background": "light"
     },
     "output_type": "display_data"
    }
   ],
   "source": [
    "plt.figure(figsize = (12,10));\n",
    "\n",
    "sns.barplot(x = ['737-7H4','737-3H4','757-232','757-222','737-824','717-200','767-332',\n",
    "                 '737-832','737-322','737-524'],\n",
    "           \n",
    "            y =[298,147,111,96,94,93,77,68,64,56]);\n",
    "plt.xticks(rotation = 90);\n",
    "\n",
    "\n",
    "plt.xlabel('model')\n",
    "plt.ylabel('counts');\n",
    "plt.title('the most used models ')\n",
    ";"
   ]
  },
  {
   "cell_type": "markdown",
   "metadata": {},
   "source": [
    "298 737-7H4 aircraft, an average of 15% of all models; in second place was the 737-3H4 7%."
   ]
  },
  {
   "cell_type": "markdown",
   "metadata": {},
   "source": [
    "## 4) What are the most common engines?"
   ]
  },
  {
   "cell_type": "code",
   "execution_count": 71,
   "metadata": {},
   "outputs": [
    {
     "data": {
      "text/plain": [
       "Turbo-Fan    1264\n",
       "Turbo-Jet     761\n",
       "Name: engine_type, dtype: int64"
      ]
     },
     "execution_count": 71,
     "metadata": {},
     "output_type": "execute_result"
    }
   ],
   "source": [
    "manufacturer_BOEING.engine_type.value_counts()\n"
   ]
  },
  {
   "cell_type": "markdown",
   "metadata": {},
   "source": [
    "The most common engine is the Turbo-Fan, with 1264 aircraft running on this engine, while the rest of the aircraft are powered by a Turbo-Jet engine."
   ]
  },
  {
   "cell_type": "markdown",
   "metadata": {},
   "source": [
    "## 5) What is the most effective month?"
   ]
  },
  {
   "cell_type": "code",
   "execution_count": 72,
   "metadata": {},
   "outputs": [
    {
     "data": {
      "text/plain": [
       "2004-May    62\n",
       "2006-Feb    28\n",
       "1999-Dec    26\n",
       "2001-May    26\n",
       "2006-Jul    24\n",
       "2000-Aug    24\n",
       "2007-Jun    23\n",
       "2005-Apr    20\n",
       "2000-Sep    20\n",
       "2004-Jul    20\n",
       "1999-Sep    19\n",
       "2001-Jul    18\n",
       "Name: month_years, dtype: int64"
      ]
     },
     "execution_count": 72,
     "metadata": {},
     "output_type": "execute_result"
    }
   ],
   "source": [
    "manufacturer_BOEING.month_years.value_counts().head(12)"
   ]
  },
  {
   "cell_type": "code",
   "execution_count": 73,
   "metadata": {},
   "outputs": [
    {
     "data": {
      "image/png": "[encoded data removed]",
      "text/plain": [
       "<Figure size 432x288 with 1 Axes>"
      ]
     },
     "metadata": {
      "needs_background": "light"
     },
     "output_type": "display_data"
    }
   ],
   "source": [
    "a=['1999-Sep','1999-Dec','2000-Aug','2001-Jun','2001-May',\n",
    "   '2004-May','2004-Jul','2005-Apr','2006-Feb','2006-Jul','2007-Jun']\n",
    "b=[19,26,24,18,26,62,20,20,28,24,23]\n",
    "\n",
    "\n",
    "plt.plot(a,b,'k')\n",
    "\n",
    "plt.legend(['month_years','counts'])\n",
    "plt.title('month_years')\n",
    "plt.xlabel('month_years')\n",
    "plt.xticks(rotation = 90)\n",
    "plt.ylabel('counts')\n",
    "\n",
    "plt.show()"
   ]
  },
  {
   "cell_type": "markdown",
   "metadata": {},
   "source": [
    "The infographic shows that the most active month is May of 2004, so if it recorded 62 different air movements, we note that the second month was February of 2006 if it recorded 28 different flights."
   ]
  },
  {
   "cell_type": "markdown",
   "metadata": {},
   "source": [
    "# Conclusions:\n",
    "\n",
    "1) The great company in the aircraft industry is witnessing significant activity\n",
    "As the most effective year is 2006, it records 171 different flights\n",
    "In second place in 2001-2004, the two years recorded 170 different trips\n",
    "\n",
    "2) We notice that the company has a clear and effective growth in the aviation industry, as the relationship recorded here is positive \n",
    "\n",
    "3) 298 aircraft feature the 737-7H4, an average of 15% of all models\n",
    "In second place was the 737-3H4, with a rate of 7%.\n",
    "\n",
    "4) The most common engine is the Turbo-Fan, as there are 1264 running on this engine\n",
    "The rest of the aircraft are powered by the Turbo-Jet engine.\n",
    "\n",
    "5) The infographic shows that the most active month is May of 2004, if it recorded 62 different air movements, we note that the second month was February of 2006 if it recorded 28 different flights"
   ]
  },
  {
   "cell_type": "markdown",
   "metadata": {},
   "source": [
    "---\n",
    "---"
   ]
  },
  {
   "cell_type": "markdown",
   "metadata": {},
   "source": [
    "# G- BOMBARDIER_INC :"
   ]
  },
  {
   "cell_type": "markdown",
   "metadata": {},
   "source": [
    " is a Canadian multinational that founded in 1942 by Joseph-Armand Bombardier. It is a manufacturer of business jets, public transport vehicles, and trains, with the latter two businesses pending sale to Alstom. It was also formerly a manufacturer of commercial jets and recreational vehicles, with the latter being spun-off as Bombardier Recreational Products. Its Bombardier Aviation division is headquartered in Montreal, and Bombardier Transportation in Berlin, Germany. The company was orginally created to produce snowmobiles, but it expanded into the aviation, rail, and public transit businesses.\n",
    "\n",
    "Bombardier manufactures several series of corporate jets, Global 7500, Global Express, Challenger 600, Challenger 300, and Learjet 70/75."
   ]
  },
  {
   "cell_type": "code",
   "execution_count": 74,
   "metadata": {},
   "outputs": [
    {
     "data": {
      "text/html": [
       "<div>\n",
       "<style scoped>\n",
       "    .dataframe tbody tr th:only-of-type {\n",
       "        vertical-align: middle;\n",
       "    }\n",
       "\n",
       "    .dataframe tbody tr th {\n",
       "        vertical-align: top;\n",
       "    }\n",
       "\n",
       "    .dataframe thead th {\n",
       "        text-align: right;\n",
       "    }\n",
       "</style>\n",
       "<table border=\"1\" class=\"dataframe\">\n",
       "  <thead>\n",
       "    <tr style=\"text-align: right;\">\n",
       "      <th></th>\n",
       "      <th>manufacturer</th>\n",
       "      <th>model</th>\n",
       "      <th>type</th>\n",
       "      <th>engine_type</th>\n",
       "      <th>month_years</th>\n",
       "      <th>years</th>\n",
       "    </tr>\n",
       "  </thead>\n",
       "  <tbody>\n",
       "    <tr>\n",
       "      <th>2915</th>\n",
       "      <td>BOMBARDIER INC</td>\n",
       "      <td>CL-600-2B19</td>\n",
       "      <td>Corporation</td>\n",
       "      <td>Turbo-Fan</td>\n",
       "      <td>1998-Jul</td>\n",
       "      <td>1998</td>\n",
       "    </tr>\n",
       "    <tr>\n",
       "      <th>469</th>\n",
       "      <td>BOMBARDIER INC</td>\n",
       "      <td>CL-600-2B19</td>\n",
       "      <td>Corporation</td>\n",
       "      <td>Turbo-Fan</td>\n",
       "      <td>1999-Dec</td>\n",
       "      <td>1999</td>\n",
       "    </tr>\n",
       "    <tr>\n",
       "      <th>3736</th>\n",
       "      <td>BOMBARDIER INC</td>\n",
       "      <td>CL-600-2B19</td>\n",
       "      <td>Corporation</td>\n",
       "      <td>Turbo-Fan</td>\n",
       "      <td>1999-Dec</td>\n",
       "      <td>1999</td>\n",
       "    </tr>\n",
       "    <tr>\n",
       "      <th>3735</th>\n",
       "      <td>BOMBARDIER INC</td>\n",
       "      <td>CL-600-2B19</td>\n",
       "      <td>Corporation</td>\n",
       "      <td>Turbo-Fan</td>\n",
       "      <td>1999-Dec</td>\n",
       "      <td>1999</td>\n",
       "    </tr>\n",
       "    <tr>\n",
       "      <th>3733</th>\n",
       "      <td>BOMBARDIER INC</td>\n",
       "      <td>CL-600-2B19</td>\n",
       "      <td>Corporation</td>\n",
       "      <td>Turbo-Fan</td>\n",
       "      <td>1999-Dec</td>\n",
       "      <td>1999</td>\n",
       "    </tr>\n",
       "    <tr>\n",
       "      <th>...</th>\n",
       "      <td>...</td>\n",
       "      <td>...</td>\n",
       "      <td>...</td>\n",
       "      <td>...</td>\n",
       "      <td>...</td>\n",
       "      <td>...</td>\n",
       "    </tr>\n",
       "    <tr>\n",
       "      <th>3421</th>\n",
       "      <td>BOMBARDIER INC</td>\n",
       "      <td>CL-600-2B19</td>\n",
       "      <td>Corporation</td>\n",
       "      <td>Turbo-Fan</td>\n",
       "      <td>2008-Jan</td>\n",
       "      <td>2008</td>\n",
       "    </tr>\n",
       "    <tr>\n",
       "      <th>3978</th>\n",
       "      <td>BOMBARDIER INC</td>\n",
       "      <td>CL-600-2B19</td>\n",
       "      <td>Corporation</td>\n",
       "      <td>Turbo-Fan</td>\n",
       "      <td>2008-Jan</td>\n",
       "      <td>2008</td>\n",
       "    </tr>\n",
       "    <tr>\n",
       "      <th>1641</th>\n",
       "      <td>BOMBARDIER INC</td>\n",
       "      <td>CL-600-2B19</td>\n",
       "      <td>Corporation</td>\n",
       "      <td>Turbo-Fan</td>\n",
       "      <td>2008-Jan</td>\n",
       "      <td>2008</td>\n",
       "    </tr>\n",
       "    <tr>\n",
       "      <th>1669</th>\n",
       "      <td>BOMBARDIER INC</td>\n",
       "      <td>CL-600-2B19</td>\n",
       "      <td>Corporation</td>\n",
       "      <td>Turbo-Fan</td>\n",
       "      <td>2008-Jan</td>\n",
       "      <td>2008</td>\n",
       "    </tr>\n",
       "    <tr>\n",
       "      <th>1340</th>\n",
       "      <td>BOMBARDIER INC</td>\n",
       "      <td>CL-600-2C10</td>\n",
       "      <td>Corporation</td>\n",
       "      <td>Turbo-Fan</td>\n",
       "      <td>2008-Jan</td>\n",
       "      <td>2008</td>\n",
       "    </tr>\n",
       "  </tbody>\n",
       "</table>\n",
       "<p>520 rows × 6 columns</p>\n",
       "</div>"
      ],
      "text/plain": [
       "        manufacturer        model         type engine_type month_years years\n",
       "2915  BOMBARDIER INC  CL-600-2B19  Corporation   Turbo-Fan    1998-Jul  1998\n",
       "469   BOMBARDIER INC  CL-600-2B19  Corporation   Turbo-Fan    1999-Dec  1999\n",
       "3736  BOMBARDIER INC  CL-600-2B19  Corporation   Turbo-Fan    1999-Dec  1999\n",
       "3735  BOMBARDIER INC  CL-600-2B19  Corporation   Turbo-Fan    1999-Dec  1999\n",
       "3733  BOMBARDIER INC  CL-600-2B19  Corporation   Turbo-Fan    1999-Dec  1999\n",
       "...              ...          ...          ...         ...         ...   ...\n",
       "3421  BOMBARDIER INC  CL-600-2B19  Corporation   Turbo-Fan    2008-Jan  2008\n",
       "3978  BOMBARDIER INC  CL-600-2B19  Corporation   Turbo-Fan    2008-Jan  2008\n",
       "1641  BOMBARDIER INC  CL-600-2B19  Corporation   Turbo-Fan    2008-Jan  2008\n",
       "1669  BOMBARDIER INC  CL-600-2B19  Corporation   Turbo-Fan    2008-Jan  2008\n",
       "1340  BOMBARDIER INC  CL-600-2C10  Corporation   Turbo-Fan    2008-Jan  2008\n",
       "\n",
       "[520 rows x 6 columns]"
      ]
     },
     "execution_count": 74,
     "metadata": {},
     "output_type": "execute_result"
    }
   ],
   "source": [
    "manufacturer_BOMBARDIER_INC=data_archive.loc[(data_archive['manufacturer']=='BOMBARDIER INC'),\n",
    "                        ['manufacturer','model','type','engine_type','month_years','years']]\n",
    "manufacturer_BOMBARDIER_INC.sort_values('years')"
   ]
  },
  {
   "cell_type": "markdown",
   "metadata": {},
   "source": [
    "## 1) What is the most active year?"
   ]
  },
  {
   "cell_type": "code",
   "execution_count": 75,
   "metadata": {},
   "outputs": [
    {
     "data": {
      "text/plain": [
       "2003    102\n",
       "2004     91\n",
       "2005     84\n",
       "2007     78\n",
       "2002     54\n",
       "2001     40\n",
       "2008     26\n",
       "2006     20\n",
       "2000     13\n",
       "1999     11\n",
       "Name: years, dtype: int64"
      ]
     },
     "execution_count": 75,
     "metadata": {},
     "output_type": "execute_result"
    }
   ],
   "source": [
    "manufacturer_BOMBARDIER_INC.years.value_counts().head(10)"
   ]
  },
  {
   "cell_type": "code",
   "execution_count": 76,
   "metadata": {},
   "outputs": [
    {
     "data": {
      "text/plain": [
       "2003    19.615385\n",
       "2004    17.500000\n",
       "2005    16.153846\n",
       "2007    15.000000\n",
       "2002    10.384615\n",
       "2001     7.692308\n",
       "2008     5.000000\n",
       "2006     3.846154\n",
       "2000     2.500000\n",
       "1999     2.115385\n",
       "1998     0.192308\n",
       "Name: years, dtype: float64"
      ]
     },
     "execution_count": 76,
     "metadata": {},
     "output_type": "execute_result"
    }
   ],
   "source": [
    "manufacturer_BOMBARDIER_INC.years.value_counts(normalize=True)*100"
   ]
  },
  {
   "cell_type": "code",
   "execution_count": 94,
   "metadata": {},
   "outputs": [
    {
     "name": "stderr",
     "output_type": "stream",
     "text": [
      "/Users/losh/opt/anaconda3/lib/python3.8/site-packages/seaborn/distributions.py:2551: FutureWarning: `distplot` is a deprecated function and will be removed in a future version. Please adapt your code to use either `displot` (a figure-level function with similar flexibility) or `histplot` (an axes-level function for histograms).\n",
      "  warnings.warn(msg, FutureWarning)\n"
     ]
    },
    {
     "data": {
      "image/png": "[encoded data removed]",
      "text/plain": [
       "<Figure size 432x288 with 1 Axes>"
      ]
     },
     "metadata": {
      "needs_background": "light"
     },
     "output_type": "display_data"
    }
   ],
   "source": [
    "from scipy.stats import norm\n",
    "sns.distplot(manufacturer_BOMBARDIER_INC.years, fit=norm );\n",
    "plt.title(' the most active year');\n"
   ]
  },
  {
   "cell_type": "markdown",
   "metadata": {},
   "source": [
    "- The most active year is the year 2003, when 102 different flights were registered, operating 20% of all flights\n",
    "- year 2004 was an excellent aviation activity, with 91 flights recorded operating 18% of all flights"
   ]
  },
  {
   "cell_type": "markdown",
   "metadata": {},
   "source": [
    "## 3) What is the most active month in air navigation?"
   ]
  },
  {
   "cell_type": "code",
   "execution_count": 78,
   "metadata": {},
   "outputs": [
    {
     "data": {
      "text/plain": [
       "2005-Sep    51\n",
       "2004-Apr    32\n",
       "2007-Dec    26\n",
       "2008-Jan    20\n",
       "2003-Oct    19\n",
       "2003-Aug    18\n",
       "2002-Jan    16\n",
       "2003-Jan    15\n",
       "2004-Dec    13\n",
       "2005-Oct    12\n",
       "Name: month_years, dtype: int64"
      ]
     },
     "execution_count": 78,
     "metadata": {},
     "output_type": "execute_result"
    }
   ],
   "source": [
    "manufacturer_BOMBARDIER_INC.month_years.value_counts().head(10)\n"
   ]
  },
  {
   "cell_type": "code",
   "execution_count": 79,
   "metadata": {},
   "outputs": [
    {
     "data": {
      "text/plain": [
       "2005-Sep    9.807692\n",
       "2004-Apr    6.153846\n",
       "2007-Dec    5.000000\n",
       "2008-Jan    3.846154\n",
       "2003-Oct    3.653846\n",
       "              ...   \n",
       "2000-Oct    0.192308\n",
       "2001-Feb    0.192308\n",
       "2008-May    0.192308\n",
       "2002-May    0.192308\n",
       "2000-Apr    0.192308\n",
       "Name: month_years, Length: 88, dtype: float64"
      ]
     },
     "execution_count": 79,
     "metadata": {},
     "output_type": "execute_result"
    }
   ],
   "source": [
    "manufacturer_BOMBARDIER_INC.month_years.value_counts(normalize=True)*100"
   ]
  },
  {
   "cell_type": "markdown",
   "metadata": {},
   "source": [
    "September 2005 was one of the most efficient months, with 51 flights per month"
   ]
  },
  {
   "cell_type": "markdown",
   "metadata": {},
   "source": [
    "## 4) What is the model most used and applied?"
   ]
  },
  {
   "cell_type": "code",
   "execution_count": 80,
   "metadata": {},
   "outputs": [
    {
     "data": {
      "text/plain": [
       "CL-600-2B19    298\n",
       "CL-600-2C10    156\n",
       "CL600-2D24      66\n",
       "Name: model, dtype: int64"
      ]
     },
     "execution_count": 80,
     "metadata": {},
     "output_type": "execute_result"
    }
   ],
   "source": [
    "manufacturer_BOMBARDIER_INC.model.value_counts().head(10)\n"
   ]
  },
  {
   "cell_type": "code",
   "execution_count": 81,
   "metadata": {},
   "outputs": [
    {
     "data": {
      "image/png": "[encoded data removed]",
      "text/plain": [
       "<Figure size 432x288 with 1 Axes>"
      ]
     },
     "metadata": {
      "needs_background": "light"
     },
     "output_type": "display_data"
    }
   ],
   "source": [
    "x = ['CL-600-2B19 ','CL-600-2C10','CL600-2D24']\n",
    "y = [298,156,66]\n",
    "#تغير لون محدد في البارت شارت \n",
    "\n",
    "#نضع c هنا \n",
    "plt.bar(x,y)\n",
    "plt.xlabel(\"model\")\n",
    "plt.ylabel('counts')\n",
    "plt.title('the model most used and applied')\n",
    "plt.xticks(rotation = 90);\n",
    "\n",
    "plt.show()"
   ]
  },
  {
   "cell_type": "markdown",
   "metadata": {},
   "source": [
    "The most used model is the CL-600-2B19, with 298 aircraft carrying the same model"
   ]
  },
  {
   "cell_type": "markdown",
   "metadata": {},
   "source": [
    "## 5) What are the most active months in using the most common model?"
   ]
  },
  {
   "cell_type": "code",
   "execution_count": 82,
   "metadata": {},
   "outputs": [],
   "source": [
    "\n",
    "BOMBARDIER= manufacturer_BOMBARDIER_INC.loc[(manufacturer_BOMBARDIER_INC['manufacturer']== 'BOMBARDIER INC')&(manufacturer_BOMBARDIER_INC['model']=='CL-600-2B19'),\n",
    "                                ['month_years','engine_type']]\n",
    "\n"
   ]
  },
  {
   "cell_type": "code",
   "execution_count": 83,
   "metadata": {},
   "outputs": [
    {
     "data": {
      "text/plain": [
       "2004-Apr    26\n",
       "2005-Sep    17\n",
       "2003-Aug    16\n",
       "2008-Jan    16\n",
       "2007-Dec    15\n",
       "            ..\n",
       "2006-Aug     1\n",
       "2007-Feb     1\n",
       "2008-Jun     1\n",
       "2002-Aug     1\n",
       "2000-Apr     1\n",
       "Name: month_years, Length: 63, dtype: int64"
      ]
     },
     "execution_count": 83,
     "metadata": {},
     "output_type": "execute_result"
    }
   ],
   "source": [
    "BOMBARDIER.month_years.value_counts()"
   ]
  },
  {
   "cell_type": "markdown",
   "metadata": {},
   "source": [
    "One of the most active months for aircraft with the CL-600-2B19 is April 2004, if 26 flights were recorded, also in September 2005, 17 different flights were recorded"
   ]
  },
  {
   "cell_type": "markdown",
   "metadata": {},
   "source": [
    "# Conclusions:\n",
    "1) The most active year is 2003, with 102 different flights recorded\n",
    "\n",
    "2) In second place, the year 2004 constitutes an excellent flight activity, if 91 flights are recorded\n",
    "\n",
    "3) One of the most effective months was September of 2005, if it contained 51 flights per month\n",
    "\n",
    "4) The most used model is the CL-600-2B19, as there are 298 aircraft carrying the same model\n",
    "\n",
    "5) One of the most active months for aircraft featuring the CL-600-2B19 model, is April of 2004, if 26 flights were recorded, also September of 2005, 17 different flights were recorded.\n",
    "\n",
    "\n",
    "# Perceptions:\n",
    "1) The company has good activity in recent years, which is 5% of all trips activity in different years\n",
    "\n",
    "2) All three models, based on the statistics, are necessary"
   ]
  },
  {
   "cell_type": "markdown",
   "metadata": {},
   "source": [
    "---\n",
    "---"
   ]
  },
  {
   "cell_type": "markdown",
   "metadata": {},
   "source": [
    "---\n",
    "---"
   ]
  },
  {
   "cell_type": "markdown",
   "metadata": {},
   "source": [
    "# H- EMBRAER :"
   ]
  },
  {
   "cell_type": "markdown",
   "metadata": {},
   "source": [
    "is a Brazilian aerospace conglomerate that produces commercial, military, executive and agricultural aircraft[6] and provides aeronautical services. It was founded in 1969 in São José dos Campos, São Paulo, where its headquarters are located. The company is the third largest producer of civil aircraft, after Boeing and Airbus.[7]\n",
    "\n",
    "On 26 February 2019, Embraer and Boeing announced the acquisition of an 80% share of Embraer's commercial division, which would take the name Boeing Brasil – Commercial, and market the E-Jet and E-Jet E2 series of narrow-body short-to medium-range twin-engine jet airliners.[8] The deal was canceled in April 2020 when Boeing felt that its demands could not be satisfied. Embraer alleged that Boeing was in financial trouble after being heavily affected by the reduction of demand caused by the COVID-19 pandemic and, to a lesser degree, the disasters involving flaws in its 737 MAX airplanes, led to the deal being broken."
   ]
  },
  {
   "cell_type": "markdown",
   "metadata": {},
   "source": [
    "1) What was the first engine type recorded in the data and in what year?\n",
    "\n",
    "2) What is the most active month in air traffic, and how many flights are registered?\n",
    "\n",
    "3) What is the general activity of EMBRAER in air navigation traffic?\n",
    "\n",
    "4) What is the most common model in EMBRAER?\n",
    "\n",
    "5) What is the activity log for the most popular model ?\n",
    "\n",
    "6) What does the airline  EMBRAER depend on for its engines?\n",
    "\n"
   ]
  },
  {
   "cell_type": "markdown",
   "metadata": {},
   "source": [
    "---\n",
    "---"
   ]
  },
  {
   "cell_type": "markdown",
   "metadata": {},
   "source": [
    "## 1) What was the first engine type recorded in the data and in what year ?"
   ]
  },
  {
   "cell_type": "code",
   "execution_count": 84,
   "metadata": {},
   "outputs": [
    {
     "data": {
      "text/html": [
       "<div>\n",
       "<style scoped>\n",
       "    .dataframe tbody tr th:only-of-type {\n",
       "        vertical-align: middle;\n",
       "    }\n",
       "\n",
       "    .dataframe tbody tr th {\n",
       "        vertical-align: top;\n",
       "    }\n",
       "\n",
       "    .dataframe thead th {\n",
       "        text-align: right;\n",
       "    }\n",
       "</style>\n",
       "<table border=\"1\" class=\"dataframe\">\n",
       "  <thead>\n",
       "    <tr style=\"text-align: right;\">\n",
       "      <th></th>\n",
       "      <th>manufacturer</th>\n",
       "      <th>model</th>\n",
       "      <th>type</th>\n",
       "      <th>engine_type</th>\n",
       "      <th>month_years</th>\n",
       "      <th>years</th>\n",
       "    </tr>\n",
       "  </thead>\n",
       "  <tbody>\n",
       "    <tr>\n",
       "      <th>667</th>\n",
       "      <td>EMBRAER</td>\n",
       "      <td>EMB-120ER</td>\n",
       "      <td>Corporation</td>\n",
       "      <td>Turbo-Prop</td>\n",
       "      <td>1993-Oct</td>\n",
       "      <td>1993</td>\n",
       "    </tr>\n",
       "    <tr>\n",
       "      <th>662</th>\n",
       "      <td>EMBRAER</td>\n",
       "      <td>EMB-120</td>\n",
       "      <td>Corporation</td>\n",
       "      <td>Turbo-Prop</td>\n",
       "      <td>1993-Sep</td>\n",
       "      <td>1993</td>\n",
       "    </tr>\n",
       "    <tr>\n",
       "      <th>658</th>\n",
       "      <td>EMBRAER</td>\n",
       "      <td>EMB-120ER</td>\n",
       "      <td>Corporation</td>\n",
       "      <td>Turbo-Prop</td>\n",
       "      <td>1993-May</td>\n",
       "      <td>1993</td>\n",
       "    </tr>\n",
       "    <tr>\n",
       "      <th>681</th>\n",
       "      <td>EMBRAER</td>\n",
       "      <td>EMB-120ER</td>\n",
       "      <td>Corporation</td>\n",
       "      <td>Turbo-Prop</td>\n",
       "      <td>1994-Jul</td>\n",
       "      <td>1994</td>\n",
       "    </tr>\n",
       "    <tr>\n",
       "      <th>687</th>\n",
       "      <td>EMBRAER</td>\n",
       "      <td>EMB-120ER</td>\n",
       "      <td>Corporation</td>\n",
       "      <td>Turbo-Prop</td>\n",
       "      <td>1995-Mar</td>\n",
       "      <td>1995</td>\n",
       "    </tr>\n",
       "    <tr>\n",
       "      <th>...</th>\n",
       "      <td>...</td>\n",
       "      <td>...</td>\n",
       "      <td>...</td>\n",
       "      <td>...</td>\n",
       "      <td>...</td>\n",
       "      <td>...</td>\n",
       "    </tr>\n",
       "    <tr>\n",
       "      <th>2485</th>\n",
       "      <td>EMBRAER</td>\n",
       "      <td>EMB-120ER</td>\n",
       "      <td>Corporation</td>\n",
       "      <td>Turbo-Prop</td>\n",
       "      <td>2007-Jun</td>\n",
       "      <td>2007</td>\n",
       "    </tr>\n",
       "    <tr>\n",
       "      <th>930</th>\n",
       "      <td>EMBRAER</td>\n",
       "      <td>ERJ 190-100 IGW</td>\n",
       "      <td>Corporation</td>\n",
       "      <td>Turbo-Fan</td>\n",
       "      <td>2008-Feb</td>\n",
       "      <td>2008</td>\n",
       "    </tr>\n",
       "    <tr>\n",
       "      <th>920</th>\n",
       "      <td>EMBRAER</td>\n",
       "      <td>ERJ 190-100 IGW</td>\n",
       "      <td>Corporation</td>\n",
       "      <td>Turbo-Fan</td>\n",
       "      <td>2008-Feb</td>\n",
       "      <td>2008</td>\n",
       "    </tr>\n",
       "    <tr>\n",
       "      <th>4865</th>\n",
       "      <td>EMBRAER</td>\n",
       "      <td>ERJ 190-100 IGW</td>\n",
       "      <td>Corporation</td>\n",
       "      <td>Turbo-Fan</td>\n",
       "      <td>2008-Feb</td>\n",
       "      <td>2008</td>\n",
       "    </tr>\n",
       "    <tr>\n",
       "      <th>4871</th>\n",
       "      <td>EMBRAER</td>\n",
       "      <td>ERJ 190-100 IGW</td>\n",
       "      <td>Corporation</td>\n",
       "      <td>Turbo-Fan</td>\n",
       "      <td>2008-Mar</td>\n",
       "      <td>2008</td>\n",
       "    </tr>\n",
       "  </tbody>\n",
       "</table>\n",
       "<p>569 rows × 6 columns</p>\n",
       "</div>"
      ],
      "text/plain": [
       "     manufacturer            model         type engine_type month_years years\n",
       "667       EMBRAER        EMB-120ER  Corporation  Turbo-Prop    1993-Oct  1993\n",
       "662       EMBRAER          EMB-120  Corporation  Turbo-Prop    1993-Sep  1993\n",
       "658       EMBRAER        EMB-120ER  Corporation  Turbo-Prop    1993-May  1993\n",
       "681       EMBRAER        EMB-120ER  Corporation  Turbo-Prop    1994-Jul  1994\n",
       "687       EMBRAER        EMB-120ER  Corporation  Turbo-Prop    1995-Mar  1995\n",
       "...           ...              ...          ...         ...         ...   ...\n",
       "2485      EMBRAER        EMB-120ER  Corporation  Turbo-Prop    2007-Jun  2007\n",
       "930       EMBRAER  ERJ 190-100 IGW  Corporation   Turbo-Fan    2008-Feb  2008\n",
       "920       EMBRAER  ERJ 190-100 IGW  Corporation   Turbo-Fan    2008-Feb  2008\n",
       "4865      EMBRAER  ERJ 190-100 IGW  Corporation   Turbo-Fan    2008-Feb  2008\n",
       "4871      EMBRAER  ERJ 190-100 IGW  Corporation   Turbo-Fan    2008-Mar  2008\n",
       "\n",
       "[569 rows x 6 columns]"
      ]
     },
     "execution_count": 84,
     "metadata": {},
     "output_type": "execute_result"
    }
   ],
   "source": [
    "manufacturer_EMBRAER=data_archive.loc[(data_archive['manufacturer']=='EMBRAER'),\n",
    "                        ['manufacturer','model','type','engine_type','month_years','years']]\n",
    "manufacturer_EMBRAER.sort_values('years')"
   ]
  },
  {
   "cell_type": "markdown",
   "metadata": {},
   "source": [
    "\n",
    " The first flight recorded in the data was in October 1993 of a company type, and the engine type\n",
    " was: Turbo-Prop\n"
   ]
  },
  {
   "cell_type": "markdown",
   "metadata": {},
   "source": [
    "## 2) What is the most active month in air traffic, and how many flights are registered?\n",
    "\n"
   ]
  },
  {
   "cell_type": "code",
   "execution_count": 85,
   "metadata": {},
   "outputs": [
    {
     "data": {
      "text/plain": [
       "2000-Oct    7.381371\n",
       "2003-Jun    4.745167\n",
       "2002-May    4.569420\n",
       "1999-Jun    2.108963\n",
       "2002-Jul    2.108963\n",
       "              ...   \n",
       "2000-Aug    0.175747\n",
       "2002-Nov    0.175747\n",
       "1996-May    0.175747\n",
       "2000-Jun    0.175747\n",
       "1997-Oct    0.175747\n",
       "Name: month_years, Length: 131, dtype: float64"
      ]
     },
     "execution_count": 85,
     "metadata": {},
     "output_type": "execute_result"
    }
   ],
   "source": [
    "manufacturer_EMBRAER.month_years.value_counts(normalize=True)*100"
   ]
  },
  {
   "cell_type": "code",
   "execution_count": 86,
   "metadata": {},
   "outputs": [
    {
     "data": {
      "text/plain": [
       "2000-Oct    42\n",
       "2003-Jun    27\n",
       "2002-May    26\n",
       "1999-Jun    12\n",
       "2002-Jul    12\n",
       "2000-Nov    11\n",
       "1999-Sep    11\n",
       "1998-Jul    10\n",
       "1999-Jan    10\n",
       "2004-Mar     9\n",
       "Name: month_years, dtype: int64"
      ]
     },
     "execution_count": 86,
     "metadata": {},
     "output_type": "execute_result"
    }
   ],
   "source": [
    "manufacturer_EMBRAER.month_years.value_counts().head(10)"
   ]
  },
  {
   "cell_type": "markdown",
   "metadata": {},
   "source": [
    "The most active month in air traffic is October of 2000, if it contains 42 different flights, that is, the flights in that month accounted for 7% of the total flights of the airline EMBRAER"
   ]
  },
  {
   "cell_type": "markdown",
   "metadata": {},
   "source": [
    "## 3) What is the general activity of EMBRAER in air navigation traffic?"
   ]
  },
  {
   "cell_type": "code",
   "execution_count": 87,
   "metadata": {},
   "outputs": [
    {
     "name": "stderr",
     "output_type": "stream",
     "text": [
      "/Users/losh/opt/anaconda3/lib/python3.8/site-packages/seaborn/distributions.py:2551: FutureWarning: `distplot` is a deprecated function and will be removed in a future version. Please adapt your code to use either `displot` (a figure-level function with similar flexibility) or `histplot` (an axes-level function for histograms).\n",
      "  warnings.warn(msg, FutureWarning)\n"
     ]
    },
    {
     "data": {
      "image/png": "[encoded data removed]",
      "text/plain": [
       "<Figure size 432x288 with 1 Axes>"
      ]
     },
     "metadata": {
      "needs_background": "light"
     },
     "output_type": "display_data"
    }
   ],
   "source": [
    "sns.distplot(manufacturer_EMBRAER.years, fit=norm );\n",
    "plt.title('EMBRAER in air navigation traffic');"
   ]
  },
  {
   "cell_type": "code",
   "execution_count": 88,
   "metadata": {},
   "outputs": [
    {
     "data": {
      "text/plain": [
       "2003    79\n",
       "2000    73\n",
       "2002    73\n",
       "1999    65\n",
       "2004    62\n",
       "2005    52\n",
       "2001    51\n",
       "1998    40\n",
       "2006    24\n",
       "2007    18\n",
       "Name: years, dtype: int64"
      ]
     },
     "execution_count": 88,
     "metadata": {},
     "output_type": "execute_result"
    }
   ],
   "source": [
    "manufacturer_EMBRAER.years.value_counts().head(10)"
   ]
  },
  {
   "cell_type": "code",
   "execution_count": 89,
   "metadata": {},
   "outputs": [
    {
     "data": {
      "text/plain": [
       "2003    13.884007\n",
       "2000    12.829525\n",
       "2002    12.829525\n",
       "1999    11.423550\n",
       "2004    10.896309\n",
       "2005     9.138840\n",
       "2001     8.963093\n",
       "1998     7.029877\n",
       "2006     4.217926\n",
       "2007     3.163445\n",
       "1996     1.757469\n",
       "1997     1.581722\n",
       "1995     0.878735\n",
       "2008     0.702988\n",
       "1993     0.527241\n",
       "1994     0.175747\n",
       "Name: years, dtype: float64"
      ]
     },
     "execution_count": 89,
     "metadata": {},
     "output_type": "execute_result"
    }
   ],
   "source": [
    "manufacturer_EMBRAER.years.value_counts(normalize=True)*100"
   ]
  },
  {
   "cell_type": "markdown",
   "metadata": {},
   "source": [
    "\n",
    "EMBRAER's activity in each of the years 2000-2002 is generally stable, with an average of 73 to 15 flights, or approximately 13% of the company's overall activity.\n",
    "The most effective year is 2003, 79 trips were recorded, which is approximately 14%."
   ]
  },
  {
   "cell_type": "markdown",
   "metadata": {},
   "source": [
    "## 4) What is the most common model in EMBRAER?"
   ]
  },
  {
   "cell_type": "code",
   "execution_count": 90,
   "metadata": {},
   "outputs": [
    {
     "data": {
      "text/plain": [
       "EMB-145LR          213\n",
       "EMB-145XR          104\n",
       "EMB-135KL           58\n",
       "EMB-120ER           53\n",
       "EMB-135LR           52\n",
       "ERJ 190-100 IGW     43\n",
       "EMB-145EP           23\n",
       "EMB-135ER           12\n",
       "EMB-120              6\n",
       "EMB-145              5\n",
       "Name: model, dtype: int64"
      ]
     },
     "execution_count": 90,
     "metadata": {},
     "output_type": "execute_result"
    }
   ],
   "source": [
    "manufacturer_EMBRAER.model.value_counts().head(10)"
   ]
  },
  {
   "cell_type": "markdown",
   "metadata": {},
   "source": [
    "4) The airline relies on most of its flights on the \"EMB-145LR\". Approximately 213 flights were on board aircraft of this model.\n",
    "\n",
    "5) The most active month of the EMB-145LR is October 2000, if 27 flights all departed from the same mode, then it will follow in May 2002 if 22 flights were launched on the same model plane"
   ]
  },
  {
   "cell_type": "markdown",
   "metadata": {},
   "source": [
    "## 6) What does the airline EMBRAER depend on for its engines?"
   ]
  },
  {
   "cell_type": "code",
   "execution_count": 91,
   "metadata": {},
   "outputs": [
    {
     "data": {
      "text/plain": [
       "Turbo-Fan     72.407733\n",
       "Turbo-Jet     17.223199\n",
       "Turbo-Prop    10.369069\n",
       "Name: engine_type, dtype: float64"
      ]
     },
     "execution_count": 91,
     "metadata": {},
     "output_type": "execute_result"
    }
   ],
   "source": [
    "manufacturer_EMBRAER.engine_type.value_counts(normalize=True)*100"
   ]
  },
  {
   "cell_type": "markdown",
   "metadata": {},
   "source": [
    " The airline depends on the type of turbo-fan engine, if 72% of its flights are operated on aircraft operating on this type of engine"
   ]
  },
  {
   "cell_type": "markdown",
   "metadata": {},
   "source": [
    "# Conclusions:\n",
    "\n",
    "1) The first flight recorded in the data was in October 1993 of the type Corporation, and the engine type was: Turbo-Prop\n",
    "\n",
    "2) The most active month in air traffic is April of 2004, if it contains 26 different flights, that is, flights in that month accounted for 9% of the total flights of the airline EMBRAER\n",
    "\n",
    "3) The activity of EMBRAER in each of the years 2003-2005-2007-2008, in general, is fixed, ie, at a rate ranging from 17 to 15 flights, or approximately 5% of the activity for each year of them.\n",
    "\n",
    "4) The airline relies on most of its flights on the \"EMB-145LR\". Approximately 213 flights were on board aircraft of this model.\n",
    "\n",
    "5) The most active month of the EMB-145LR is October 2000, if 27 flights all departed from the same mode, then it will follow in May 2002 if 22 flights were launched on the same model plane\n",
    "\n",
    "6) The airline depends on the type of turbo-fan engine, if 72% of its flights are operated on aircraft operating on this type of engine"
   ]
  },
  {
   "cell_type": "markdown",
   "metadata": {},
   "source": [
    "# Perceptions:\n",
    "\n",
    "1) The company is recording a noticeable decrease in its air activity, as 4 flights were detected in 2008 and it is in the lagging places in the industrial growth of aviation.\n",
    "\n",
    "2) The EMB-145 model can be dispensed with in the future unless there is a target for its use for the company, as there are only five aircraft carrying the same model"
   ]
  },
  {
   "cell_type": "markdown",
   "metadata": {},
   "source": [
    "---\n",
    "---"
   ]
  },
  {
   "cell_type": "markdown",
   "metadata": {},
   "source": [
    "### References :\n",
    "- [Google Doc Download](https://docs.google.com/document/d/e/2PACX-1vQmkX4iOT6Rcrin42vslquX2_wQCjIa_hbwD0xmxrERPSOJYDtpNc_3wwK_p9_KpOsfA6QVyEHdxxq7/pub?embedded=True)\n",
    "- [Data Flights](http://stat-computing.org/dataexpo/2009/the-data.html)\n",
    "- [unitingaviation](https://unitingaviation.com/news/economic-development/aviation-benefits-for-a-better-future/)\n",
    "- [wikipedia](https://en.wikipedia.org/wiki/Turbojet)"
   ]
  }
 ],
 "metadata": {
  "hide_input": false,
  "kernelspec": {
   "display_name": "Python 3",
   "language": "python",
   "name": "python3"
  },
  "language_info": {
   "codemirror_mode": {
    "name": "ipython",
    "version": 3
   },
   "file_extension": ".py",
   "mimetype": "text/x-python",
   "name": "python",
   "nbconvert_exporter": "python",
   "pygments_lexer": "ipython3",
   "version": "3.8.5"
  }
 },
 "nbformat": 4,
 "nbformat_minor": 4
}
